{
 "cells": [
  {
   "cell_type": "markdown",
   "metadata": {},
   "source": [
    "**Задачи с Leetcode из списка** https://github.com/VanjaRo/LeetCode"
   ]
  },
  {
   "cell_type": "markdown",
   "metadata": {},
   "source": [
    "**228. Summary Ranges**\n",
    "\n",
    "Easy\n",
    "\n",
    "You are given a sorted unique integer array nums.\n",
    "\n",
    "A range [a,b] is the set of all integers from a to b (inclusive).\n",
    "\n",
    "Return the smallest sorted list of ranges that cover all the numbers in the array exactly. That is, each element of nums is covered by exactly one of the ranges, and there is no integer x such that x is in one of the ranges but not in nums.\n",
    "\n",
    "Each range [a,b] in the list should be output as:\n",
    "\n",
    "\"a->b\" if a != b\n",
    "\"a\" if a == b"
   ]
  },
  {
   "cell_type": "code",
   "execution_count": 89,
   "metadata": {},
   "outputs": [
    {
     "name": "stdout",
     "output_type": "stream",
     "text": [
      "[[0, 0], [2, 4], [6, 6], [8, 9]]\n",
      "['0', '2->4', '6', '8->9']\n"
     ]
    }
   ],
   "source": [
    "# nums = list(map(int, input().split()))\n",
    "# nums = [0,1,2,4,5,7]\n",
    "nums = [0,2,3,4,6,8,9]\n",
    "start = nums[0]\n",
    "end = nums[0]\n",
    "ans = []\n",
    "for i in range(len(nums)):\n",
    "    if i > 0:\n",
    "        if nums[i] != nums[i - 1] + 1:\n",
    "            end = nums[i - 1]\n",
    "            ans.append([start, end])\n",
    "            start = nums[i]\n",
    "ans.append([start, nums[-1]])\n",
    "print(ans)\n",
    "str_ans = []\n",
    "for pair in ans:\n",
    "    if pair[0] == pair[1]:\n",
    "        str_ans.append(str(pair[0]))\n",
    "    else:\n",
    "        str_ans.append(str(pair[0]) + '->' + str(pair[1]))\n",
    "print(str_ans)"
   ]
  },
  {
   "cell_type": "markdown",
   "metadata": {},
   "source": [
    "**22. Generate Parentheses**\n",
    "\n",
    "Medium\n",
    "\n",
    "Given n pairs of parentheses, write a function to generate all combinations of well-formed parentheses."
   ]
  },
  {
   "cell_type": "code",
   "execution_count": 90,
   "metadata": {},
   "outputs": [
    {
     "name": "stdout",
     "output_type": "stream",
     "text": [
      "['(())', '()()']\n"
     ]
    }
   ],
   "source": [
    "def f(s, n, arr):\n",
    "    if len(s) == n:\n",
    "        return arr.append(s)\n",
    "    f(s+'(', n, arr)\n",
    "    f(s+')', n, arr)\n",
    "def check(i):\n",
    "    stack = []\n",
    "    for c in i:\n",
    "        if c == '(':\n",
    "            stack.append(c)\n",
    "        elif len(stack) == 0:\n",
    "            return False\n",
    "        else:\n",
    "            stack.pop()\n",
    "    if len(stack) != 0:\n",
    "        return False\n",
    "    return True\n",
    "n = 4\n",
    "arr = []\n",
    "s = ''\n",
    "f(s, n, arr)\n",
    "ans = []\n",
    "for i in arr:\n",
    "    if check(i):\n",
    "        ans.append(i)\n",
    "print(ans)"
   ]
  },
  {
   "cell_type": "markdown",
   "metadata": {},
   "source": [
    "**125. Valid Palindrome**\n",
    "\n",
    "Easy\n",
    "\n",
    "A phrase is a palindrome if, after converting all uppercase letters into lowercase letters and removing all non-alphanumeric characters, it reads the same forward and backward. Alphanumeric characters include letters and numbers.\n",
    "\n",
    "Given a string s, return true if it is a palindrome, or false otherwise."
   ]
  },
  {
   "cell_type": "code",
   "execution_count": 91,
   "metadata": {},
   "outputs": [
    {
     "name": "stdout",
     "output_type": "stream",
     "text": [
      "True\n"
     ]
    }
   ],
   "source": [
    "s = \"A man, a plan, a canal: Panama\"\n",
    "s = s.lower() # превращает все буквы в строчные\n",
    "# s.upper() превращает все буквы в заглавные\n",
    "# ord() – номер буквы в ASCII, chr() – обратная функция\n",
    "# 'a' -> 97, 'z' -> 122, 'A' -> 65, 'Z' -> 90\n",
    "new_s = ''\n",
    "for c in s:\n",
    "    if ord(c) >= 97 and ord(c) <= 122 or ord(c) >= 48 and ord(c) <= 57:\n",
    "        new_s += c\n",
    "ans = True\n",
    "for i in range(len(new_s)//2):\n",
    "    if new_s[i] != new_s[-i-1]:\n",
    "        ans = False\n",
    "        break\n",
    "print(ans)"
   ]
  },
  {
   "cell_type": "markdown",
   "metadata": {},
   "source": [
    "<img src=\"ascii.png\" height=\"400\">"
   ]
  },
  {
   "cell_type": "markdown",
   "metadata": {},
   "source": [
    "**283. Move Zeroes**\n",
    "\n",
    "Easy\n",
    "\n",
    "Given an integer array nums, move all 0's to the end of it while maintaining the relative order of the non-zero elements.\n",
    "\n",
    "Note that you must do this in-place without making a copy of the array."
   ]
  },
  {
   "cell_type": "code",
   "execution_count": 92,
   "metadata": {},
   "outputs": [
    {
     "name": "stdout",
     "output_type": "stream",
     "text": [
      "[1, 3, 12, 0, 0]\n"
     ]
    }
   ],
   "source": [
    "arr = [0, 1, 0, 3, 12]\n",
    "n = len(arr)\n",
    "zero = 0\n",
    "for i in range(n):\n",
    "    while zero < n - 1 and arr[zero] != 0:\n",
    "        zero += 1\n",
    "    if zero < i:\n",
    "        arr[zero], arr[i] = arr[i], arr[zero]\n",
    "print(arr)\n",
    "    "
   ]
  },
  {
   "cell_type": "code",
   "execution_count": 93,
   "metadata": {},
   "outputs": [
    {
     "name": "stdout",
     "output_type": "stream",
     "text": [
      "[1, 3, 12, 0, 0]\n"
     ]
    }
   ],
   "source": [
    "nums = [0, 1, 0, 3, 12]\n",
    "# nums = [1, 2, 3]\n",
    "n = len(nums)\n",
    "left = 0\n",
    "for right in range(n):\n",
    "    if nums[right] != 0:\n",
    "        nums[right], nums[left] = nums[left], nums[right]\n",
    "        left += 1\n",
    "\n",
    "print(nums)"
   ]
  },
  {
   "cell_type": "markdown",
   "metadata": {},
   "source": [
    "**977. Squares of a Sorted Array**\n",
    "\n",
    "Easy\n",
    "\n",
    "Given an integer array nums sorted in non-decreasing order, return an array of the squares of each number sorted in non-decreasing order.\n",
    "\n",
    " \n",
    "\n",
    "Example 1:\n",
    "\n",
    "Input: nums = [-4,-1,0,3,10]\n",
    "Output: [0,1,9,16,100]\n",
    "Explanation: After squaring, the array becomes [16,1,0,9,100].\n",
    "After sorting, it becomes [0,1,9,16,100].\n"
   ]
  },
  {
   "cell_type": "code",
   "execution_count": 94,
   "metadata": {},
   "outputs": [
    {
     "name": "stdout",
     "output_type": "stream",
     "text": [
      "[0, 1, 9, 16, 100, 400]\n"
     ]
    }
   ],
   "source": [
    "nums = [-20, -4, -1, 0, 3, 10]\n",
    "n = len(nums)\n",
    "negatives = []\n",
    "ans = []\n",
    "for i in range(n):\n",
    "    if nums[i] < 0:\n",
    "        negatives.append(i)\n",
    "    else:\n",
    "        while negatives and nums[i] > abs(nums[negatives[-1]]):\n",
    "            ans.append(nums[negatives.pop()])\n",
    "        ans.append(nums[i])\n",
    "while negatives:\n",
    "    ans.append(nums[negatives.pop()])\n",
    "for i in range(n):\n",
    "    ans[i] = ans[i]**2\n",
    "print(ans)"
   ]
  },
  {
   "cell_type": "markdown",
   "metadata": {},
   "source": [
    "**350. Intersection of Two Arrays II**\n",
    "\n",
    "Easy\n",
    "\n",
    "Given two integer arrays nums1 and nums2, return an array of their intersection. Each element in the result must appear as many times as it shows in both arrays and you may return the result in any order."
   ]
  },
  {
   "cell_type": "code",
   "execution_count": 96,
   "metadata": {},
   "outputs": [
    {
     "name": "stdout",
     "output_type": "stream",
     "text": [
      "[4, 9]\n"
     ]
    }
   ],
   "source": [
    "nums1 = [4,9,5]\n",
    "nums2 = [9,4,9,8,4]\n",
    "# nums1 = [3, 1, 2]\n",
    "# nums2= [1]\n",
    "\n",
    "nums1.sort()\n",
    "nums2.sort()\n",
    "p2 = 0\n",
    "ans = []\n",
    "for p1 in range(len(nums1)):\n",
    "    while p2 < len(nums2) and nums2[p2] < nums1[p1]:\n",
    "        p2 += 1\n",
    "    if p2 < len(nums2) and nums1[p1] == nums2[p2]:\n",
    "        ans.append(nums1[p1])\n",
    "        p2 += 1\n",
    "print(ans)"
   ]
  },
  {
   "cell_type": "markdown",
   "metadata": {},
   "source": [
    "**1. Two Sum**\n",
    "\n",
    "Easy\n",
    "\n",
    "Given an array of integers nums and an integer target, return indices of the two numbers such that they add up to target.\n",
    "\n",
    "You may assume that each input would have exactly one solution, and you may not use the same element twice.\n",
    "\n",
    "You can return the answer in any order.\n",
    "\n"
   ]
  },
  {
   "cell_type": "code",
   "execution_count": 113,
   "metadata": {},
   "outputs": [
    {
     "name": "stdout",
     "output_type": "stream",
     "text": [
      "[]\n"
     ]
    }
   ],
   "source": [
    "nums = [2, 7, 11, 15]\n",
    "target = 4\n",
    "n = len(nums)\n",
    "nums_hash = dict()\n",
    "for i in range(n):\n",
    "    nums_hash[nums[i]] = i\n",
    "ans = []\n",
    "for i in range(n):\n",
    "    if target - nums[i] in nums_hash and nums_hash[target - nums[i]] != i:\n",
    "        ans.append(i)\n",
    "        ans.append(nums_hash[target - nums[i]])\n",
    "        break\n",
    "print(ans)"
   ]
  },
  {
   "cell_type": "markdown",
   "metadata": {},
   "source": [
    "**268. Missing Number**\n",
    "\n",
    "Easy\n",
    "\n",
    "Given an array nums containing n distinct numbers in the range [0, n], return the only number in the range that is missing from the array."
   ]
  },
  {
   "cell_type": "markdown",
   "metadata": {},
   "source": [
    "**Первое решение:** посчитать сумму чисел в массиве и сумму чисел на отрезке от 0 до n."
   ]
  },
  {
   "cell_type": "code",
   "execution_count": 115,
   "metadata": {},
   "outputs": [
    {
     "name": "stdout",
     "output_type": "stream",
     "text": [
      "2\n"
     ]
    }
   ],
   "source": [
    "nums = [3,0,1]\n",
    "n = len(nums)\n",
    "sum_nums = 0\n",
    "for num in nums:\n",
    "    sum_nums += num\n",
    "real_sum = (n + 1) * n // 2\n",
    "ans = real_sum - sum_nums\n",
    "print(ans)"
   ]
  },
  {
   "cell_type": "markdown",
   "metadata": {},
   "source": [
    "**Второе решение:** использовать XOR."
   ]
  },
  {
   "cell_type": "markdown",
   "metadata": {},
   "source": [
    "<img src=\"xor.png\" height=\"250\">"
   ]
  },
  {
   "cell_type": "code",
   "execution_count": 117,
   "metadata": {},
   "outputs": [
    {
     "name": "stdout",
     "output_type": "stream",
     "text": [
      "2\n"
     ]
    }
   ],
   "source": [
    "nums = [3,0,1]\n",
    "n = len(nums)\n",
    "nums_xor = 0\n",
    "for num in nums:\n",
    "    nums_xor ^= num\n",
    "real_xor = 0\n",
    "for i in range(n + 1):\n",
    "    real_xor ^= i\n",
    "ans = real_xor ^ nums_xor\n",
    "print(ans)"
   ]
  },
  {
   "cell_type": "markdown",
   "metadata": {},
   "source": [
    "**28. Find the Index of the First Occurrence in a String**\n",
    "\n",
    "Easy\n",
    "\n",
    "Given two strings needle and haystack, return the index of the first occurrence of needle in haystack, or -1 if needle is not part of haystack."
   ]
  },
  {
   "cell_type": "code",
   "execution_count": 119,
   "metadata": {},
   "outputs": [
    {
     "name": "stdout",
     "output_type": "stream",
     "text": [
      "8\n"
     ]
    }
   ],
   "source": [
    "s = 'Hello, world!'\n",
    "needle = 'or'\n",
    "ans = -1\n",
    "for i in range(len(s) - len(needle) + 1):\n",
    "    if s[i:i+len(needle)] == needle:\n",
    "        ans = i\n",
    "        break\n",
    "print(ans)"
   ]
  },
  {
   "cell_type": "markdown",
   "metadata": {},
   "source": [
    "**48. Rotate Image**\n",
    "\n",
    "Medium\n",
    "\n",
    "You are given an n x n 2D matrix representing an image, rotate the image by 90 degrees (clockwise).\n",
    "\n",
    "You have to rotate the image in-place, which means you have to modify the input 2D matrix directly. DO NOT allocate another 2D matrix and do the rotation."
   ]
  },
  {
   "cell_type": "markdown",
   "metadata": {},
   "source": [
    "**Решение:** транспонирование + перестановка стобцов."
   ]
  },
  {
   "cell_type": "markdown",
   "metadata": {},
   "source": [
    "<img src=\"rotate.gif\" height=\"300\">"
   ]
  },
  {
   "cell_type": "code",
   "execution_count": 136,
   "metadata": {},
   "outputs": [
    {
     "name": "stdout",
     "output_type": "stream",
     "text": [
      "[[7, 4, 1], [8, 5, 2], [9, 6, 3]]\n"
     ]
    }
   ],
   "source": [
    "matrix = [[1,2,3],[4,5,6],[7,8,9]]\n",
    "n = len(matrix)\n",
    "# транспонирование\n",
    "for i in range(n):\n",
    "    for j in range(i):\n",
    "        matrix[i][j], matrix[j][i] = matrix[j][i], matrix[i][j]\n",
    "# свап стобцов\n",
    "for i in range(n // 2):\n",
    "    for j in range(n):\n",
    "        matrix[j][i], matrix[j][-i-1] = matrix[j][-i-1], matrix[j][i]\n",
    "print(matrix)"
   ]
  },
  {
   "cell_type": "markdown",
   "metadata": {},
   "source": [
    "**238. Product of Array Except Self**\n",
    "\n",
    "Medium\n",
    "\n",
    "Given an integer array nums, return an array answer such that answer[i] is equal to the product of all the elements of nums except nums[i].\n",
    "\n",
    "The product of any prefix or suffix of nums is guaranteed to fit in a 32-bit integer.\n",
    "\n",
    "You must write an algorithm that runs in O(n) time and without using the division operation."
   ]
  },
  {
   "cell_type": "markdown",
   "metadata": {},
   "source": [
    "**Решение:** префиксные и постфиксные произведения."
   ]
  },
  {
   "cell_type": "code",
   "execution_count": 146,
   "metadata": {},
   "outputs": [
    {
     "name": "stdout",
     "output_type": "stream",
     "text": [
      "[24, 12, 8, 6]\n"
     ]
    }
   ],
   "source": [
    "nums = [1,2,3,4]\n",
    "n = len(nums)\n",
    "prefix = [1] * (n + 1)\n",
    "postfix = [1] * (n + 1)\n",
    "for i in range(n):\n",
    "    prefix[i + 1] = prefix[i] * nums[i]\n",
    "for i in range(n):\n",
    "    postfix[- i - 2] = postfix[- i - 1] * nums[- i - 1]\n",
    "ans = [0] * n\n",
    "for i in range(n):\n",
    "    ans[i] = prefix[i] * postfix[i + 1]\n",
    "print(ans)\n"
   ]
  },
  {
   "cell_type": "markdown",
   "metadata": {},
   "source": [
    "**42. Trapping Rain Water**\n",
    "\n",
    "Hard\n",
    "\n",
    "Given n non-negative integers representing an elevation map where the width of each bar is 1, compute how much water it can trap after raining."
   ]
  },
  {
   "cell_type": "markdown",
   "metadata": {},
   "source": [
    "**Решение:** находим максимальный элемент. Строим две последовательности возрастающих максимумов (от начала до макс. элемента и от конца до макс. элемента)."
   ]
  },
  {
   "cell_type": "markdown",
   "metadata": {},
   "source": [
    "<img src=\"rainwatertrap.png\" height=\"100\">"
   ]
  },
  {
   "cell_type": "code",
   "execution_count": 156,
   "metadata": {},
   "outputs": [
    {
     "name": "stdout",
     "output_type": "stream",
     "text": [
      "6\n"
     ]
    }
   ],
   "source": [
    "height = [0,1,0,2,1,0,1,3,2,1,2,1]\n",
    "n = len(height)\n",
    "# поиск максимального элемента\n",
    "max = -1\n",
    "max_i = -1\n",
    "for i in range(n):\n",
    "    if height[i] > max:\n",
    "        max = height[i]\n",
    "        max_i = i\n",
    "maxs1 = [0] * n\n",
    "maxs2 = [0] * n\n",
    "tmp_max = -1\n",
    "# последовательность возрастающих максимумов от начала до макс.\n",
    "for i in range(n):\n",
    "    if i < max_i:\n",
    "        if height[i] > tmp_max:\n",
    "            maxs1[i] = height[i]\n",
    "            tmp_max = height[i]\n",
    "        else:\n",
    "            maxs1[i] = tmp_max\n",
    "    else:\n",
    "        maxs1[i] = height[i]\n",
    "# последовательность возрастающих максимумов от конца до макс.\n",
    "tmp_max = -1\n",
    "for i in range(n - 1, -1, -1):\n",
    "    if i > max_i:\n",
    "        if height[i] > tmp_max:\n",
    "            maxs2[i] = height[i]\n",
    "            tmp_max = height[i]\n",
    "        else:\n",
    "            maxs2[i] = tmp_max\n",
    "    else:\n",
    "        maxs2[i] = height[i]\n",
    "ans = 0\n",
    "for i in range(n):\n",
    "    ans += maxs1[i] - height[i]\n",
    "    ans += maxs2[i] - height[i]\n",
    "print(ans)"
   ]
  },
  {
   "cell_type": "code",
   "execution_count": null,
   "metadata": {},
   "outputs": [],
   "source": []
  }
 ],
 "metadata": {
  "kernelspec": {
   "display_name": "base",
   "language": "python",
   "name": "python3"
  },
  "language_info": {
   "codemirror_mode": {
    "name": "ipython",
    "version": 3
   },
   "file_extension": ".py",
   "mimetype": "text/x-python",
   "name": "python",
   "nbconvert_exporter": "python",
   "pygments_lexer": "ipython3",
   "version": "3.9.12"
  }
 },
 "nbformat": 4,
 "nbformat_minor": 2
}
