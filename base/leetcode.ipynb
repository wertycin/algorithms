{
 "cells": [
  {
   "cell_type": "code",
   "execution_count": 1,
   "metadata": {},
   "outputs": [
    {
     "name": "stdout",
     "output_type": "stream",
     "text": [
      "Hello world!\n"
     ]
    }
   ],
   "source": [
    "print('Hello world!')"
   ]
  },
  {
   "cell_type": "markdown",
   "metadata": {},
   "source": [
    "**228. Summary Ranges**\n",
    "\n",
    "Easy\n",
    "\n",
    "You are given a sorted unique integer array nums.\n",
    "\n",
    "A range [a,b] is the set of all integers from a to b (inclusive).\n",
    "\n",
    "Return the smallest sorted list of ranges that cover all the numbers in the array exactly. That is, each element of nums is covered by exactly one of the ranges, and there is no integer x such that x is in one of the ranges but not in nums.\n",
    "\n",
    "Each range [a,b] in the list should be output as:\n",
    "\n",
    "\"a->b\" if a != b\n",
    "\"a\" if a == b"
   ]
  },
  {
   "cell_type": "code",
   "execution_count": 1,
   "metadata": {},
   "outputs": [
    {
     "name": "stdout",
     "output_type": "stream",
     "text": [
      "[[0, 0], [2, 4], [6, 6], [8, 9]]\n",
      "['0', '2->4', '6', '8->9']\n"
     ]
    }
   ],
   "source": [
    "# nums = list(map(int, input().split()))\n",
    "# nums = [0,1,2,4,5,7]\n",
    "nums = [0,2,3,4,6,8,9]\n",
    "start = nums[0]\n",
    "end = nums[0]\n",
    "ans = []\n",
    "for i in range(len(nums)):\n",
    "    if i > 0:\n",
    "        if nums[i] != nums[i - 1] + 1:\n",
    "            end = nums[i - 1]\n",
    "            ans.append([start, end])\n",
    "            start = nums[i]\n",
    "ans.append([start, nums[-1]])\n",
    "print(ans)\n",
    "str_ans = []\n",
    "for pair in ans:\n",
    "    if pair[0] == pair[1]:\n",
    "        str_ans.append(str(pair[0]))\n",
    "    else:\n",
    "        str_ans.append(str(pair[0]) + '->' + str(pair[1]))\n",
    "print(str_ans)"
   ]
  },
  {
   "cell_type": "markdown",
   "metadata": {},
   "source": [
    "**22. Generate Parentheses**\n",
    "\n",
    "Medium\n",
    "\n",
    "Given n pairs of parentheses, write a function to generate all combinations of well-formed parentheses."
   ]
  },
  {
   "cell_type": "code",
   "execution_count": 13,
   "metadata": {},
   "outputs": [
    {
     "name": "stdout",
     "output_type": "stream",
     "text": [
      "['(())', '()()']\n"
     ]
    }
   ],
   "source": [
    "def f(s, n, arr):\n",
    "    if len(s) == n:\n",
    "        return arr.append(s)\n",
    "    f(s+'(', n, arr)\n",
    "    f(s+')', n, arr)\n",
    "def check(i):\n",
    "    stack = []\n",
    "    for c in i:\n",
    "        if c == '(':\n",
    "            stack.append(c)\n",
    "        elif len(stack) == 0:\n",
    "            return False\n",
    "        else:\n",
    "            stack.pop()\n",
    "    if len(stack) != 0:\n",
    "        return False\n",
    "    return True\n",
    "n = 4\n",
    "arr = []\n",
    "s = ''\n",
    "f(s, n, arr)\n",
    "ans = []\n",
    "for i in arr:\n",
    "    if check(i):\n",
    "        ans.append(i)\n",
    "print(ans)"
   ]
  },
  {
   "cell_type": "code",
   "execution_count": null,
   "metadata": {},
   "outputs": [],
   "source": []
  }
 ],
 "metadata": {
  "kernelspec": {
   "display_name": "base",
   "language": "python",
   "name": "python3"
  },
  "language_info": {
   "codemirror_mode": {
    "name": "ipython",
    "version": 3
   },
   "file_extension": ".py",
   "mimetype": "text/x-python",
   "name": "python",
   "nbconvert_exporter": "python",
   "pygments_lexer": "ipython3",
   "version": "3.9.12"
  }
 },
 "nbformat": 4,
 "nbformat_minor": 2
}
