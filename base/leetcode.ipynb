{
 "cells": [
  {
   "cell_type": "code",
   "execution_count": 1,
   "metadata": {},
   "outputs": [
    {
     "name": "stdout",
     "output_type": "stream",
     "text": [
      "Hello world!\n"
     ]
    }
   ],
   "source": [
    "print('Hello world!')"
   ]
  },
  {
   "cell_type": "markdown",
   "metadata": {},
   "source": [
    "**228. Summary Ranges**\n",
    "\n",
    "Easy\n",
    "\n",
    "Topics\n",
    "Companies\n",
    "You are given a sorted unique integer array nums.\n",
    "\n",
    "A range [a,b] is the set of all integers from a to b (inclusive).\n",
    "\n",
    "Return the smallest sorted list of ranges that cover all the numbers in the array exactly. That is, each element of nums is covered by exactly one of the ranges, and there is no integer x such that x is in one of the ranges but not in nums.\n",
    "\n",
    "Each range [a,b] in the list should be output as:\n",
    "\n",
    "\"a->b\" if a != b\n",
    "\"a\" if a == b"
   ]
  },
  {
   "cell_type": "code",
   "execution_count": 30,
   "metadata": {},
   "outputs": [
    {
     "name": "stdout",
     "output_type": "stream",
     "text": [
      "[[0, 0], [2, 4], [6, 6], [8, 9]]\n",
      "['0', '2->4', '6', '8->9']\n"
     ]
    }
   ],
   "source": [
    "# nums = list(map(int, input().split()))\n",
    "# nums = [0,1,2,4,5,7]\n",
    "nums = [0,2,3,4,6,8,9]\n",
    "start = nums[0]\n",
    "end = nums[0]\n",
    "ans = []\n",
    "for i in range(len(nums)):\n",
    "    if i > 0:\n",
    "        if nums[i] != nums[i - 1] + 1:\n",
    "            end = nums[i - 1]\n",
    "            ans.append([start, end])\n",
    "            start = nums[i]\n",
    "ans.append([start, nums[-1]])\n",
    "print(ans)\n",
    "str_ans = []\n",
    "for pair in ans:\n",
    "    if pair[0] == pair[1]:\n",
    "        str_ans.append(str(pair[0]))\n",
    "    else:\n",
    "        str_ans.append(str(pair[0]) + '->' + str(pair[1]))\n",
    "print(str_ans)"
   ]
  },
  {
   "cell_type": "code",
   "execution_count": 19,
   "metadata": {},
   "outputs": [
    {
     "name": "stdout",
     "output_type": "stream",
     "text": [
      "\"bvre\"\n"
     ]
    }
   ],
   "source": [
    "print('\"' + str('bvre')+ '\"')"
   ]
  },
  {
   "cell_type": "code",
   "execution_count": 51,
   "metadata": {},
   "outputs": [
    {
     "name": "stdout",
     "output_type": "stream",
     "text": [
      "20\n",
      "[1, 1, 2, 6, 24, 120, 720, 5040]\n"
     ]
    }
   ],
   "source": [
    "n, k = map(int, input().split())\n",
    "factorials = [1] * (n + 1 + k)\n",
    "for i in range(1, n + 1 + k):\n",
    "    factorials[i] = factorials[i - 1] * i\n",
    "def c(n, k, factorials):\n",
    "    return int(factorials[n] / factorials[n - k] / factorials[k])\n",
    "\n",
    "print(int(factorials[n] / factorials[n - k] / factorials[k]))\n",
    "# print(factorials)"
   ]
  },
  {
   "cell_type": "code",
   "execution_count": 69,
   "metadata": {},
   "outputs": [
    {
     "name": "stdout",
     "output_type": "stream",
     "text": [
      "45.49154237628226\n"
     ]
    }
   ],
   "source": [
    "ans = 1.0\n",
    "for i in range(2, 2025):\n",
    "    ans += i\n",
    "    ans = ans**0.5\n",
    "print(ans)"
   ]
  },
  {
   "cell_type": "code",
   "execution_count": 74,
   "metadata": {},
   "outputs": [
    {
     "data": {
      "text/plain": [
       "6441"
      ]
     },
     "execution_count": 74,
     "metadata": {},
     "output_type": "execute_result"
    }
   ],
   "source": [
    "92**2-2023"
   ]
  },
  {
   "cell_type": "code",
   "execution_count": 71,
   "metadata": {},
   "outputs": [
    {
     "data": {
      "text/plain": [
       "45.491481635210654"
      ]
     },
     "execution_count": 71,
     "metadata": {},
     "output_type": "execute_result"
    }
   ],
   "source": [
    "(2024 + (2023+(2022)**0.5)**0.5)**0.5"
   ]
  },
  {
   "cell_type": "code",
   "execution_count": 56,
   "metadata": {},
   "outputs": [
    {
     "data": {
      "text/plain": [
       "10.0"
      ]
     },
     "execution_count": 56,
     "metadata": {},
     "output_type": "execute_result"
    }
   ],
   "source": [
    "(8**2+6**2)**0.5"
   ]
  },
  {
   "cell_type": "code",
   "execution_count": 68,
   "metadata": {},
   "outputs": [
    {
     "name": "stdout",
     "output_type": "stream",
     "text": [
      "3.5\n"
     ]
    }
   ],
   "source": [
    "s = 0\n",
    "for i in range(8):\n",
    "    s+=i\n",
    "print(s/8)"
   ]
  },
  {
   "cell_type": "code",
   "execution_count": 64,
   "metadata": {},
   "outputs": [
    {
     "name": "stdout",
     "output_type": "stream",
     "text": [
      "0.315321\n"
     ]
    }
   ],
   "source": [
    "from random import randint\n",
    "n = 1000000\n",
    "p = 0\n",
    "for i in range(n):\n",
    "    sum = 0\n",
    "    for j in range(1, 11):\n",
    "        moneta = randint(1, 2*j+1)\n",
    "        if moneta == 1:\n",
    "            sum += 1\n",
    "    if sum // 2 == 1:\n",
    "        p += 1\n",
    "print(p / n)"
   ]
  },
  {
   "cell_type": "code",
   "execution_count": 61,
   "metadata": {},
   "outputs": [
    {
     "data": {
      "text/plain": [
       "2"
      ]
     },
     "execution_count": 61,
     "metadata": {},
     "output_type": "execute_result"
    }
   ],
   "source": [
    "randint(2, 3)"
   ]
  },
  {
   "cell_type": "code",
   "execution_count": 67,
   "metadata": {},
   "outputs": [
    {
     "name": "stdout",
     "output_type": "stream",
     "text": [
      "[0.66666667 0.8        0.85714286 0.88888889 0.90909091 0.92307692\n",
      " 0.93333333 0.94117647 0.94736842 0.95238095]\n",
      "Массив вероятностей выпадения i-го числа орлов: [1.35130092e-01 5.63042049e-03 7.03802561e-05 4.18930096e-07\n",
      " 1.45461839e-09]\n",
      "Ответ:  0.1408\n"
     ]
    }
   ],
   "source": [
    "import numpy as np\n",
    "\n",
    "\"\"\"     На первом этапе создается массив вероятностей выпадения орла \n",
    "    для 100 индивидуальных монет - orels.\n",
    "\"\"\"\n",
    "orels = []\n",
    "for i in range (1, 11, 1):\n",
    "    probability = 1/(2*i + 1)\n",
    "    orels.append(probability)\n",
    "orels = np.asarray(orels)\n",
    "\"\"\"     Также генерируется массив вероятностей выпадения решек - reshkas.\n",
    "\"\"\"\n",
    "reshkas = 1 - orels\n",
    "\n",
    "print(reshkas)\n",
    "\n",
    "\"\"\"     Самое вкусное! \n",
    "        Все решение основано на том, что наиболее вероятным НЕЧЕТНЫМ случаем \n",
    "    будет выборка с выпадением орла у первой монеты (шанс - 0.(3)) на 99 оставшихся решек.\n",
    "    Следующий нечетный случай - 3 первых орла на 97 решек, затем 5 первых орлов на 95 решек и т.д.\n",
    "        Почему я выбрал именно такую последовательность выпадения орлов, а не другую? \n",
    "    Да потому, что она наиболее вероятная)) - вероятность выпадения орлов с увеличением i, \n",
    "    можно сказать, стремиться к нулю.\n",
    "        В конечном итоге нужно получит 50 выборок следующего вида:\n",
    "    Odd_case1 = [О P P P P P...P[100]]\n",
    "    Odd_case2 = [О O O P P P...P[100]]\n",
    "    Odd_case3 = [О O O O O P...P[100]]\n",
    "    ...\n",
    "    Odd_case50 = [О O ...О[99] Р[100]]\n",
    "    , где О - орел, Р - решка.\n",
    "\n",
    "        Чтобы получить такие выборки я итерирую массив решек 'reshkas' с поиндексной \n",
    "    заменой i-ой решки на i-го орла из массива 'orels' c шагом 2. \n",
    "    В каждом цикле для каждой такой выборки мы  считаем общую вероятность \n",
    "    выпадения именно такой комбинации перемножив вероятности всех выпавших монет в выборке. \n",
    "        Полученные значения заносятся в новый массив 'oryol_probability', что является \n",
    "    массивом вероятностей выпадения i-го числа орлов, где i = 1, 3, 5 ... , 99.\n",
    "\"\"\"\n",
    "\n",
    "oryol_probability = []\n",
    "for i in range (1, 10, 2):\n",
    "    if reshkas[i] > 0:\n",
    "        reshkas[:i] = orels[:i]\n",
    "    # print(reshkas) - Unmute, если хотите отследить процесс замены.\n",
    "    multyplied_coins = np.prod(reshkas)\n",
    "    oryol_probability = np.append(oryol_probability, [multyplied_coins], axis = 0) \n",
    "\n",
    "print('Массив вероятностей выпадения i-го числа орлов:', oryol_probability) \n",
    "\n",
    "\"\"\" Ответ есть сумма полученных 50 общих вероятностей выборок, в которых наиболее вероятно выпало нечетное количество орлов. \n",
    "\"\"\" \n",
    "\n",
    "odd_orels_probability = np.sum(oryol_probability)\n",
    "print('Ответ: ', '%.4f' % odd_orels_probability)"
   ]
  },
  {
   "cell_type": "code",
   "execution_count": null,
   "metadata": {},
   "outputs": [],
   "source": []
  }
 ],
 "metadata": {
  "kernelspec": {
   "display_name": "base",
   "language": "python",
   "name": "python3"
  },
  "language_info": {
   "codemirror_mode": {
    "name": "ipython",
    "version": 3
   },
   "file_extension": ".py",
   "mimetype": "text/x-python",
   "name": "python",
   "nbconvert_exporter": "python",
   "pygments_lexer": "ipython3",
   "version": "3.9.12"
  }
 },
 "nbformat": 4,
 "nbformat_minor": 2
}
