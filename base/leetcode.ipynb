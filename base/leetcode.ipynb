{
 "cells": [
  {
   "cell_type": "markdown",
   "metadata": {},
   "source": [
    "**Задачи с Leetcode из списка** https://github.com/VanjaRo/LeetCode"
   ]
  },
  {
   "cell_type": "markdown",
   "metadata": {},
   "source": [
    "**228. Summary Ranges**\n",
    "\n",
    "Easy\n",
    "\n",
    "You are given a sorted unique integer array nums.\n",
    "\n",
    "A range [a,b] is the set of all integers from a to b (inclusive).\n",
    "\n",
    "Return the smallest sorted list of ranges that cover all the numbers in the array exactly. That is, each element of nums is covered by exactly one of the ranges, and there is no integer x such that x is in one of the ranges but not in nums.\n",
    "\n",
    "Each range [a,b] in the list should be output as:\n",
    "\n",
    "\"a->b\" if a != b\n",
    "\"a\" if a == b"
   ]
  },
  {
   "cell_type": "code",
   "execution_count": 89,
   "metadata": {},
   "outputs": [
    {
     "name": "stdout",
     "output_type": "stream",
     "text": [
      "[[0, 0], [2, 4], [6, 6], [8, 9]]\n",
      "['0', '2->4', '6', '8->9']\n"
     ]
    }
   ],
   "source": [
    "# nums = list(map(int, input().split()))\n",
    "# nums = [0,1,2,4,5,7]\n",
    "nums = [0,2,3,4,6,8,9]\n",
    "start = nums[0]\n",
    "end = nums[0]\n",
    "ans = []\n",
    "for i in range(len(nums)):\n",
    "    if i > 0:\n",
    "        if nums[i] != nums[i - 1] + 1:\n",
    "            end = nums[i - 1]\n",
    "            ans.append([start, end])\n",
    "            start = nums[i]\n",
    "ans.append([start, nums[-1]])\n",
    "print(ans)\n",
    "str_ans = []\n",
    "for pair in ans:\n",
    "    if pair[0] == pair[1]:\n",
    "        str_ans.append(str(pair[0]))\n",
    "    else:\n",
    "        str_ans.append(str(pair[0]) + '->' + str(pair[1]))\n",
    "print(str_ans)"
   ]
  },
  {
   "cell_type": "markdown",
   "metadata": {},
   "source": [
    "**22. Generate Parentheses**\n",
    "\n",
    "Medium\n",
    "\n",
    "Given n pairs of parentheses, write a function to generate all combinations of well-formed parentheses."
   ]
  },
  {
   "cell_type": "code",
   "execution_count": 90,
   "metadata": {},
   "outputs": [
    {
     "name": "stdout",
     "output_type": "stream",
     "text": [
      "['(())', '()()']\n"
     ]
    }
   ],
   "source": [
    "def f(s, n, arr):\n",
    "    if len(s) == n:\n",
    "        return arr.append(s)\n",
    "    f(s+'(', n, arr)\n",
    "    f(s+')', n, arr)\n",
    "def check(i):\n",
    "    stack = []\n",
    "    for c in i:\n",
    "        if c == '(':\n",
    "            stack.append(c)\n",
    "        elif len(stack) == 0:\n",
    "            return False\n",
    "        else:\n",
    "            stack.pop()\n",
    "    if len(stack) != 0:\n",
    "        return False\n",
    "    return True\n",
    "n = 4\n",
    "arr = []\n",
    "s = ''\n",
    "f(s, n, arr)\n",
    "ans = []\n",
    "for i in arr:\n",
    "    if check(i):\n",
    "        ans.append(i)\n",
    "print(ans)"
   ]
  },
  {
   "cell_type": "markdown",
   "metadata": {},
   "source": [
    "**125. Valid Palindrome**\n",
    "\n",
    "Easy\n",
    "\n",
    "A phrase is a palindrome if, after converting all uppercase letters into lowercase letters and removing all non-alphanumeric characters, it reads the same forward and backward. Alphanumeric characters include letters and numbers.\n",
    "\n",
    "Given a string s, return true if it is a palindrome, or false otherwise."
   ]
  },
  {
   "cell_type": "code",
   "execution_count": 91,
   "metadata": {},
   "outputs": [
    {
     "name": "stdout",
     "output_type": "stream",
     "text": [
      "True\n"
     ]
    }
   ],
   "source": [
    "s = \"A man, a plan, a canal: Panama\"\n",
    "s = s.lower() # превращает все буквы в строчные\n",
    "# s.upper() превращает все буквы в заглавные\n",
    "# ord() – номер буквы в ASCII, chr() – обратная функция\n",
    "# 'a' -> 97, 'z' -> 122, 'A' -> 65, 'Z' -> 90\n",
    "new_s = ''\n",
    "for c in s:\n",
    "    if ord(c) >= 97 and ord(c) <= 122 or ord(c) >= 48 and ord(c) <= 57:\n",
    "        new_s += c\n",
    "ans = True\n",
    "for i in range(len(new_s)//2):\n",
    "    if new_s[i] != new_s[-i-1]:\n",
    "        ans = False\n",
    "        break\n",
    "print(ans)"
   ]
  },
  {
   "cell_type": "markdown",
   "metadata": {},
   "source": [
    "![ASCII](ascii.png)"
   ]
  },
  {
   "cell_type": "markdown",
   "metadata": {},
   "source": [
    "**283. Move Zeroes**\n",
    "\n",
    "Easy\n",
    "\n",
    "Given an integer array nums, move all 0's to the end of it while maintaining the relative order of the non-zero elements.\n",
    "\n",
    "Note that you must do this in-place without making a copy of the array."
   ]
  },
  {
   "cell_type": "code",
   "execution_count": 92,
   "metadata": {},
   "outputs": [
    {
     "name": "stdout",
     "output_type": "stream",
     "text": [
      "[1, 3, 12, 0, 0]\n"
     ]
    }
   ],
   "source": [
    "arr = [0, 1, 0, 3, 12]\n",
    "n = len(arr)\n",
    "zero = 0\n",
    "for i in range(n):\n",
    "    while zero < n - 1 and arr[zero] != 0:\n",
    "        zero += 1\n",
    "    if zero < i:\n",
    "        arr[zero], arr[i] = arr[i], arr[zero]\n",
    "print(arr)\n",
    "    "
   ]
  },
  {
   "cell_type": "code",
   "execution_count": 93,
   "metadata": {},
   "outputs": [
    {
     "name": "stdout",
     "output_type": "stream",
     "text": [
      "[1, 3, 12, 0, 0]\n"
     ]
    }
   ],
   "source": [
    "nums = [0, 1, 0, 3, 12]\n",
    "# nums = [1, 2, 3]\n",
    "n = len(nums)\n",
    "left = 0\n",
    "for right in range(n):\n",
    "    if nums[right] != 0:\n",
    "        nums[right], nums[left] = nums[left], nums[right]\n",
    "        left += 1\n",
    "\n",
    "print(nums)"
   ]
  },
  {
   "cell_type": "markdown",
   "metadata": {},
   "source": [
    "**977. Squares of a Sorted Array**\n",
    "\n",
    "Easy\n",
    "\n",
    "Given an integer array nums sorted in non-decreasing order, return an array of the squares of each number sorted in non-decreasing order.\n",
    "\n",
    " \n",
    "\n",
    "Example 1:\n",
    "\n",
    "Input: nums = [-4,-1,0,3,10]\n",
    "Output: [0,1,9,16,100]\n",
    "Explanation: After squaring, the array becomes [16,1,0,9,100].\n",
    "After sorting, it becomes [0,1,9,16,100].\n"
   ]
  },
  {
   "cell_type": "code",
   "execution_count": 94,
   "metadata": {},
   "outputs": [
    {
     "name": "stdout",
     "output_type": "stream",
     "text": [
      "[0, 1, 9, 16, 100, 400]\n"
     ]
    }
   ],
   "source": [
    "nums = [-20, -4, -1, 0, 3, 10]\n",
    "n = len(nums)\n",
    "negatives = []\n",
    "ans = []\n",
    "for i in range(n):\n",
    "    if nums[i] < 0:\n",
    "        negatives.append(i)\n",
    "    else:\n",
    "        while negatives and nums[i] > abs(nums[negatives[-1]]):\n",
    "            ans.append(nums[negatives.pop()])\n",
    "        ans.append(nums[i])\n",
    "while negatives:\n",
    "    ans.append(nums[negatives.pop()])\n",
    "for i in range(n):\n",
    "    ans[i] = ans[i]**2\n",
    "print(ans)"
   ]
  },
  {
   "cell_type": "markdown",
   "metadata": {},
   "source": [
    "**350. Intersection of Two Arrays II**\n",
    "\n",
    "Easy\n",
    "\n",
    "Given two integer arrays nums1 and nums2, return an array of their intersection. Each element in the result must appear as many times as it shows in both arrays and you may return the result in any order."
   ]
  },
  {
   "cell_type": "code",
   "execution_count": 95,
   "metadata": {},
   "outputs": [
    {
     "name": "stdout",
     "output_type": "stream",
     "text": [
      "[1]\n"
     ]
    }
   ],
   "source": [
    "nums1 = [4,9,5]\n",
    "nums2 = [9,4,9,8,4]\n",
    "nums1 = [3, 1, 2]\n",
    "nums2= [1]\n",
    "\n",
    "nums1.sort()\n",
    "nums2.sort()\n",
    "p2 = 0\n",
    "ans = []\n",
    "for p1 in range(len(nums1)):\n",
    "    while p2 < len(nums2) and nums2[p2] < nums1[p1]:\n",
    "        p2 += 1\n",
    "    if p2 < len(nums2) and nums1[p1] == nums2[p2]:\n",
    "        ans.append(nums1[p1])\n",
    "        p2 += 1\n",
    "print(ans)"
   ]
  },
  {
   "cell_type": "markdown",
   "metadata": {},
   "source": []
  },
  {
   "cell_type": "markdown",
   "metadata": {},
   "source": []
  },
  {
   "cell_type": "markdown",
   "metadata": {},
   "source": []
  }
 ],
 "metadata": {
  "kernelspec": {
   "display_name": "base",
   "language": "python",
   "name": "python3"
  },
  "language_info": {
   "codemirror_mode": {
    "name": "ipython",
    "version": 3
   },
   "file_extension": ".py",
   "mimetype": "text/x-python",
   "name": "python",
   "nbconvert_exporter": "python",
   "pygments_lexer": "ipython3",
   "version": "3.9.12"
  }
 },
 "nbformat": 4,
 "nbformat_minor": 2
}
