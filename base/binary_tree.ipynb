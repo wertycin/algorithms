{
 "cells": [
  {
   "cell_type": "markdown",
   "metadata": {},
   "source": [
    "**Бинарные деревья.**"
   ]
  },
  {
   "cell_type": "markdown",
   "metadata": {},
   "source": [
    "**1022. Sum of Root To Leaf Binary Numbers**\n",
    "\n",
    "Easy\n",
    "\n",
    "You are given the root of a binary tree where each node has a value 0 or 1. Each root-to-leaf path represents a binary number starting with the most significant bit.\n",
    "\n",
    "For example, if the path is 0 -> 1 -> 1 -> 0 -> 1, then this could represent 01101 in binary, which is 13.\n",
    "For all leaves in the tree, consider the numbers represented by the path from the root to that leaf. Return the sum of these numbers.\n",
    "\n",
    "The test cases are generated so that the answer fits in a 32-bits integer.\n",
    "\n"
   ]
  },
  {
   "cell_type": "markdown",
   "metadata": {},
   "source": [
    "<img src=\"images/tree.png\" height=\"250\">"
   ]
  },
  {
   "cell_type": "markdown",
   "metadata": {},
   "source": [
    "**Input:** root = [1,0,1,0,1,0,1]\n",
    "\n",
    "**Output:** 22\n",
    "\n",
    "**Explanation:** (100) + (101) + (110) + (111) = 4 + 5 + 6 + 7 = 22"
   ]
  },
  {
   "cell_type": "code",
   "execution_count": 2,
   "metadata": {},
   "outputs": [],
   "source": [
    "# Definition for a binary tree node.\n",
    "# class TreeNode:\n",
    "#     def __init__(self, val=0, left=None, right=None):\n",
    "#         self.val = val\n",
    "#         self.left = left\n",
    "#         self.right = right\n",
    "class Solution:\n",
    "    def sumRootToLeaf(self, root: Optional[TreeNode]) -> int:\n",
    "        ans = 0\n",
    "        def dfs(root: TreeNode, sum = 0):\n",
    "            nonlocal ans\n",
    "            if root.left == None and root.right == None:\n",
    "                sum = sum * 2 + root.val\n",
    "                ans += sum\n",
    "                return\n",
    "            if root.left:\n",
    "                dfs(root.left, sum * 2 + root.val)\n",
    "            if root.right:\n",
    "                dfs(root.right, sum * 2 + root.val)\n",
    "\n",
    "        dfs(root)\n",
    "        return ans"
   ]
  },
  {
   "cell_type": "markdown",
   "metadata": {},
   "source": [
    "**104. Maximum Depth of Binary Tree**\n",
    "\n",
    "Easy\n",
    "\n",
    "Given the root of a binary tree, return its maximum depth.\n",
    "\n",
    "A binary tree's maximum depth is the number of nodes along the longest path from the root node down to the farthest leaf node."
   ]
  },
  {
   "cell_type": "code",
   "execution_count": null,
   "metadata": {},
   "outputs": [],
   "source": [
    "# Definition for a binary tree node.\n",
    "# class TreeNode:\n",
    "#     def __init__(self, val=0, left=None, right=None):\n",
    "#         self.val = val\n",
    "#         self.left = left\n",
    "#         self.right = right\n",
    "class Solution:\n",
    "    def maxDepth(self, root: Optional[TreeNode]) -> int:\n",
    "        ans = 0\n",
    "        def dfs(root, depth=1):\n",
    "            nonlocal ans\n",
    "            if root.left == None and root.right == None:\n",
    "                ans = max(ans, depth)\n",
    "                return\n",
    "            if root.left:\n",
    "                dfs(root.left, depth + 1)\n",
    "            if root.right:\n",
    "                dfs(root.right, depth + 1)\n",
    "        if root:\n",
    "            dfs(root)\n",
    "        return ans"
   ]
  },
  {
   "cell_type": "markdown",
   "metadata": {},
   "source": [
    "Более простое решение:"
   ]
  },
  {
   "cell_type": "code",
   "execution_count": null,
   "metadata": {},
   "outputs": [],
   "source": [
    "# Definition for a binary tree node.\n",
    "# class TreeNode:\n",
    "#     def __init__(self, val=0, left=None, right=None):\n",
    "#         self.val = val\n",
    "#         self.left = left\n",
    "#         self.right = right\n",
    "class Solution:\n",
    "    def maxDepth(self, root: Optional[TreeNode]) -> int:\n",
    "        def dfs(root):\n",
    "            if root == None:\n",
    "                return 0\n",
    "            return max(dfs(root.left), dfs(root.right)) + 1\n",
    "        return dfs(root)"
   ]
  },
  {
   "cell_type": "markdown",
   "metadata": {},
   "source": [
    "**112. Path Sum**\n",
    "\n",
    "Easy\n",
    "\n",
    "Given the root of a binary tree and an integer targetSum, return true if the tree has a root-to-leaf path such that adding up all the values along the path equals targetSum.\n",
    "\n",
    "A leaf is a node with no children."
   ]
  },
  {
   "cell_type": "code",
   "execution_count": null,
   "metadata": {},
   "outputs": [],
   "source": [
    "# Definition for a binary tree node.\n",
    "# class TreeNode:\n",
    "#     def __init__(self, val=0, left=None, right=None):\n",
    "#         self.val = val\n",
    "#         self.left = left\n",
    "#         self.right = right\n",
    "class Solution:\n",
    "    def hasPathSum(self, root: Optional[TreeNode], targetSum: int) -> bool:\n",
    "        ans = False\n",
    "        def dfs(root, sum = 0):\n",
    "            nonlocal targetSum\n",
    "            nonlocal ans\n",
    "            sum += root.val\n",
    "            if root.left == None and root.right == None:\n",
    "                if sum == targetSum:\n",
    "                    ans = True\n",
    "            if root.left:\n",
    "                dfs(root.left, sum)\n",
    "            if root.right:\n",
    "                dfs(root.right, sum)\n",
    "        if root:\n",
    "            dfs(root)\n",
    "        return ans"
   ]
  },
  {
   "cell_type": "markdown",
   "metadata": {},
   "source": [
    "**543. Diameter of Binary Tree**\n",
    "\n",
    "Easy\n",
    "\n",
    "Given the root of a binary tree, return the length of the diameter of the tree.\n",
    "\n",
    "The diameter of a binary tree is the length of the longest path between any two nodes in a tree. This path may or may not pass through the root.\n",
    "\n",
    "The length of a path between two nodes is represented by the number of edges between them."
   ]
  },
  {
   "cell_type": "code",
   "execution_count": null,
   "metadata": {},
   "outputs": [],
   "source": [
    "# Definition for a binary tree node.\n",
    "# class TreeNode:\n",
    "#     def __init__(self, val=0, left=None, right=None):\n",
    "#         self.val = val\n",
    "#         self.left = left\n",
    "#         self.right = right\n",
    "class Solution:\n",
    "    def diameterOfBinaryTree(self, root: Optional[TreeNode]) -> int:\n",
    "        diam = 0\n",
    "        def dfs(root):\n",
    "            nonlocal diam\n",
    "            if root==None:\n",
    "                return -1\n",
    "            left_d = 1 + dfs(root.left)\n",
    "            right_d = 1 + dfs(root.right)\n",
    "            diam = max(diam, left_d+right_d)\n",
    "            return max(left_d, right_d)\n",
    "        dfs(root)\n",
    "        return diam"
   ]
  },
  {
   "cell_type": "markdown",
   "metadata": {},
   "source": [
    "**2583. Kth Largest Sum in a Binary Tree**\n",
    "\n",
    "Medium\n",
    "\n",
    "You are given the root of a binary tree and a positive integer k.\n",
    "\n",
    "The level sum in the tree is the sum of the values of the nodes that are on the same level.\n",
    "\n",
    "Return the kth largest level sum in the tree (not necessarily distinct). If there are fewer than k levels in the tree, return -1.\n",
    "\n",
    "Note that two nodes are on the same level if they have the same distance from the root."
   ]
  },
  {
   "cell_type": "code",
   "execution_count": null,
   "metadata": {},
   "outputs": [],
   "source": [
    "# Definition for a binary tree node.\n",
    "# class TreeNode:\n",
    "#     def __init__(self, val=0, left=None, right=None):\n",
    "#         self.val = val\n",
    "#         self.left = left\n",
    "#         self.right = right\n",
    "class Solution:\n",
    "    def kthLargestLevelSum(self, root: Optional[TreeNode], k: int) -> int:\n",
    "        sums = []\n",
    "        def dfs(root, depth=0):\n",
    "            nonlocal sums\n",
    "            if len(sums) < depth + 1:\n",
    "                sums.append(0)\n",
    "            sums[depth] += root.val\n",
    "            if root.left:\n",
    "                dfs(root.left, depth+1)\n",
    "            if root.right:\n",
    "                dfs(root.right, depth+1)\n",
    "            if root.left==None and root.right==None:\n",
    "                return\n",
    "        dfs(root)\n",
    "        if k > len(sums):\n",
    "            return -1\n",
    "        sums.sort(reverse=True)\n",
    "        return sums[k-1]"
   ]
  },
  {
   "cell_type": "markdown",
   "metadata": {},
   "source": [
    "**2368. Reachable Nodes With Restrictions**\n",
    "\n",
    "Medium\n",
    "\n",
    "There is an undirected tree with n nodes labeled from 0 to n - 1 and n - 1 edges.\n",
    "\n",
    "You are given a 2D integer array edges of length n - 1 where edges[i] = [ai, bi] indicates that there is an edge between nodes ai and bi in the tree. You are also given an integer array restricted which represents restricted nodes.\n",
    "\n",
    "Return the maximum number of nodes you can reach from node 0 without visiting a restricted node.\n",
    "\n",
    "Note that node 0 will not be a restricted node.\n",
    "\n"
   ]
  },
  {
   "cell_type": "markdown",
   "metadata": {},
   "source": [
    "<img src=\"images/2368.png\" height=\"250\">"
   ]
  },
  {
   "cell_type": "markdown",
   "metadata": {},
   "source": [
    "**Input:** n = 7, edges = [[0,1],[1,2],[3,1],[4,0],[0,5],[5,6]], restricted = [4,5]\n",
    "\n",
    "**Output:** 4\n",
    "\n",
    "**Explanation:** The diagram above shows the tree.\n",
    "\n",
    "We have that [0,1,2,3] are the only nodes that can be reached from node 0 without visiting a restricted node."
   ]
  },
  {
   "cell_type": "code",
   "execution_count": 9,
   "metadata": {},
   "outputs": [
    {
     "name": "stdout",
     "output_type": "stream",
     "text": [
      "True\n"
     ]
    }
   ],
   "source": [
    "list= ['ring', 'eye', 13, 26]\n",
    "nayana = set(list)\n",
    "print(13 in nayana)"
   ]
  },
  {
   "cell_type": "code",
   "execution_count": null,
   "metadata": {},
   "outputs": [],
   "source": [
    "class Solution:\n",
    "    def reachableNodes(self, n: int, edges: List[List[int]], restricted: List[int]) -> int:\n",
    "        restricted = set(restricted)\n",
    "        adj_list = [set() for _ in range(n)]\n",
    "        for edge in edges:\n",
    "            adj_list[edge[0]].add(edge[1])\n",
    "            adj_list[edge[1]].add(edge[0])\n",
    "        ans = 0\n",
    "        visited = [0] * n\n",
    "        def dfs(u, adj_list, visited, restricted):\n",
    "            nonlocal ans\n",
    "            visited[u] = 1\n",
    "            ans += 1\n",
    "            for v in adj_list[u]:\n",
    "                if not visited[v] and v not in restricted:\n",
    "                    dfs(v, adj_list, visited, restricted)\n",
    "            return\n",
    "        dfs(0, adj_list, visited, restricted)\n",
    "        return ans"
   ]
  },
  {
   "cell_type": "markdown",
   "metadata": {},
   "source": [
    "**653. Two Sum IV - Input is a BST**\n",
    "\n",
    "Easy\n",
    "\n",
    "Given the root of a binary search tree and an integer k, return true if there exist two elements in the BST such that their sum is equal to k, or false otherwise."
   ]
  },
  {
   "cell_type": "code",
   "execution_count": null,
   "metadata": {},
   "outputs": [],
   "source": [
    "# Definition for a binary tree node.\n",
    "# class TreeNode:\n",
    "#     def __init__(self, val=0, left=None, right=None):\n",
    "#         self.val = val\n",
    "#         self.left = left\n",
    "#         self.right = right\n",
    "class Solution:\n",
    "    def findTarget(self, root: Optional[TreeNode], k: int) -> bool:\n",
    "        ans = False\n",
    "        start_root = root\n",
    "        def search(root, num):\n",
    "            if root == None:\n",
    "                return False\n",
    "            if root.val > num:\n",
    "                return search(root.left, num)\n",
    "            if root.val < num:\n",
    "                return search(root.right, num)\n",
    "            return True\n",
    "        def dfs(root, k):\n",
    "            nonlocal ans\n",
    "            nonlocal start_root\n",
    "            if root == None:\n",
    "                return\n",
    "            if 2*root.val != k:\n",
    "                ans = ans|search(start_root, k - root.val)\n",
    "            dfs(root.left, k)\n",
    "            dfs(root.right, k)\n",
    "            return\n",
    "        dfs(root, k)\n",
    "        return ans"
   ]
  },
  {
   "cell_type": "markdown",
   "metadata": {},
   "source": [
    "**101. Symmetric Tree**\n",
    "\n",
    "Easy\n",
    "\n",
    "Given the root of a binary tree, check whether it is a mirror of itself (i.e., symmetric around its center)."
   ]
  },
  {
   "cell_type": "code",
   "execution_count": null,
   "metadata": {},
   "outputs": [],
   "source": [
    "# Definition for a binary tree node.\n",
    "# class TreeNode:\n",
    "#     def __init__(self, val=0, left=None, right=None):\n",
    "#         self.val = val\n",
    "#         self.left = left\n",
    "#         self.right = right\n",
    "class Solution:\n",
    "    def isSymmetric(self, root: Optional[TreeNode]) -> bool:\n",
    "        def is_symmetric(root1, root2):\n",
    "            if not root1 and not root2:\n",
    "                return True\n",
    "            if root1 and not root2 or not root1 and root2:\n",
    "                return False\n",
    "            if root1.val != root2.val:\n",
    "                return False\n",
    "            return is_symmetric(root1.left, root2.right) and is_symmetric(root1.right, root2.left)\n",
    "        if not root:\n",
    "            return True\n",
    "        return is_symmetric(root.left, root.right)"
   ]
  },
  {
   "cell_type": "markdown",
   "metadata": {},
   "source": [
    "**98. Validate Binary Search Tree**\n",
    "\n",
    "Medium\n",
    "\n",
    "Given the root of a binary tree, determine if it is a valid binary search tree (BST).\n",
    "\n",
    "A valid BST is defined as follows:\n",
    "\n",
    "The left \n",
    "subtree\n",
    " of a node contains only nodes with keys less than the node's key.\n",
    "The right subtree of a node contains only nodes with keys greater than the node's key.\n",
    "Both the left and right subtrees must also be binary search trees."
   ]
  },
  {
   "cell_type": "markdown",
   "metadata": {},
   "source": [
    "<img src=\"images/tree2.jpg\" height=\"200\">"
   ]
  },
  {
   "cell_type": "markdown",
   "metadata": {},
   "source": [
    "**Input:** root = [5,1,4,null,null,3,6]\n",
    "\n",
    "**Output:** false\n",
    "\n",
    "**Explanation:** The root node's value is 5 but its right child's value is 4."
   ]
  },
  {
   "cell_type": "code",
   "execution_count": null,
   "metadata": {},
   "outputs": [],
   "source": [
    "# Definition for a binary tree node.\n",
    "# class TreeNode:\n",
    "#     def __init__(self, val=0, left=None, right=None):\n",
    "#         self.val = val\n",
    "#         self.left = left\n",
    "#         self.right = right\n",
    "class Solution:\n",
    "    def isValidBST(self, root: Optional[TreeNode]) -> bool:\n",
    "        prev = None\n",
    "        ans = True\n",
    "        def dfs(root):\n",
    "            nonlocal prev\n",
    "            nonlocal ans\n",
    "            if not root:\n",
    "                return\n",
    "            dfs(root.left)\n",
    "            if prev != None and prev >= root.val:\n",
    "                ans = False\n",
    "            prev = root.val\n",
    "            dfs(root.right)\n",
    "            return\n",
    "        dfs(root)\n",
    "        return ans"
   ]
  },
  {
   "cell_type": "markdown",
   "metadata": {},
   "source": [
    "**617. Merge Two Binary Trees**\n",
    "\n",
    "Easy\n",
    "\n",
    "You are given two binary trees root1 and root2.\n",
    "\n",
    "Imagine that when you put one of them to cover the other, some nodes of the two trees are overlapped while the others are not. You need to merge the two trees into a new binary tree. The merge rule is that if two nodes overlap, then sum node values up as the new value of the merged node. Otherwise, the NOT null node will be used as the node of the new tree.\n",
    "\n",
    "Return the merged tree.\n",
    "\n",
    "Note: The merging process must start from the root nodes of both trees."
   ]
  },
  {
   "cell_type": "markdown",
   "metadata": {},
   "source": [
    "<img src=\"images/merge.jpg\" height=\"200\">"
   ]
  },
  {
   "cell_type": "markdown",
   "metadata": {},
   "source": [
    "**Input:** root1 = [1,3,2,5], root2 = [2,1,3,null,4,null,7]\n",
    "\n",
    "**Output:** [3,4,5,5,4,null,7]"
   ]
  },
  {
   "cell_type": "code",
   "execution_count": null,
   "metadata": {},
   "outputs": [],
   "source": [
    "# Definition for a binary tree node.\n",
    "# class TreeNode:\n",
    "#     def __init__(self, val=0, left=None, right=None):\n",
    "#         self.val = val\n",
    "#         self.left = left\n",
    "#         self.right = right\n",
    "class Solution:\n",
    "    def mergeTrees(self, root1: Optional[TreeNode], root2: Optional[TreeNode]) -> Optional[TreeNode]:\n",
    "        "
   ]
  },
  {
   "cell_type": "code",
   "execution_count": 14,
   "metadata": {},
   "outputs": [
    {
     "name": "stdout",
     "output_type": "stream",
     "text": [
      "[{2}, set(), set()]\n"
     ]
    }
   ],
   "source": [
    "adj_list = [set() for _ in range(3)]\n",
    "adj_list[0].add(2)\n",
    "print(adj_list)"
   ]
  },
  {
   "cell_type": "code",
   "execution_count": null,
   "metadata": {},
   "outputs": [],
   "source": []
  }
 ],
 "metadata": {
  "kernelspec": {
   "display_name": "base",
   "language": "python",
   "name": "python3"
  },
  "language_info": {
   "codemirror_mode": {
    "name": "ipython",
    "version": 3
   },
   "file_extension": ".py",
   "mimetype": "text/x-python",
   "name": "python",
   "nbconvert_exporter": "python",
   "pygments_lexer": "ipython3",
   "version": "3.9.undefined"
  }
 },
 "nbformat": 4,
 "nbformat_minor": 2
}
