{
 "cells": [
  {
   "cell_type": "markdown",
   "metadata": {},
   "source": [
    "**Бинарный поиск.**"
   ]
  },
  {
   "cell_type": "markdown",
   "metadata": {},
   "source": [
    "**Задача. Заданы два массива A и B из n и m целых чисел соответсвенно. Для каждого числа x из массива B необходимо выяснить, содержится ли x в массиве A.**"
   ]
  },
  {
   "cell_type": "code",
   "execution_count": 14,
   "metadata": {},
   "outputs": [
    {
     "name": "stdout",
     "output_type": "stream",
     "text": [
      "No\n"
     ]
    }
   ],
   "source": [
    "arr = [3, 7, 11, 23, 27, 30]\n",
    "n = len(arr)\n",
    "x = 0\n",
    "l = -1\n",
    "r = n\n",
    "\n",
    "while r - l > 1:\n",
    "    mid = (l + r) // 2\n",
    "    if arr[mid] <= x:\n",
    "        l = mid\n",
    "    else:\n",
    "        r = mid\n",
    "print('Yes') if l != -1 and arr[l] == x else print('No')"
   ]
  },
  {
   "cell_type": "markdown",
   "metadata": {},
   "source": [
    "**Задача.** Дан массив чисел А[0:n] и массив чисел В[0:m]. Для каждого числа x из массива В выяснить вывести ближайшее к x число из массива А."
   ]
  },
  {
   "cell_type": "markdown",
   "metadata": {},
   "source": [
    "**Задача.** Дан массив чисел А[0:n] и массив чисел В[0:m]. Для каждого числа x из массива В выяснить вывести количество чисел в массиве A, не превосходящих x."
   ]
  },
  {
   "cell_type": "markdown",
   "metadata": {},
   "source": [
    "**Задача.** Дан массив чисел А[0:n] и массив I[0:m], состоящий из интервалов (l, r). Для каждого интервала (l, r) из массива I вывести количество чисел массива А, лежащих на интервале (l, r)."
   ]
  },
  {
   "cell_type": "markdown",
   "metadata": {},
   "source": [
    "**Задача.** На заводе одновременно работают n станков. Известно, что і-тый станок призводит одну деталь\n",
    "за $t_i$ секунд. За какое время все n станков произведут К деталей?"
   ]
  },
  {
   "cell_type": "markdown",
   "metadata": {},
   "source": [
    "**Решение:** было дано t секунд. Хватит ли этого времени? Суммируем $t//t_i$ по всем станкам – количество произведенных станков за t секунд."
   ]
  },
  {
   "cell_type": "code",
   "execution_count": 23,
   "metadata": {},
   "outputs": [
    {
     "name": "stdout",
     "output_type": "stream",
     "text": [
      "15\n"
     ]
    }
   ],
   "source": [
    "t = [3, 4, 5]\n",
    "n = len(t)\n",
    "k = 10\n",
    "\n",
    "l, r = -1, k*min(t)\n",
    "while r - l > 1:\n",
    "    mid = (r + l) // 2\n",
    "    cnt = 0\n",
    "    for i in range(n):\n",
    "        cnt += mid // t[i]\n",
    "    if cnt >= k:\n",
    "        r = mid\n",
    "    else:\n",
    "        l = mid\n",
    "print(r)"
   ]
  },
  {
   "cell_type": "markdown",
   "metadata": {},
   "source": [
    "**Задача.** Для заданного числа N определить количество натуральных чисел n, для которых $n^2<N$."
   ]
  },
  {
   "cell_type": "code",
   "execution_count": 34,
   "metadata": {},
   "outputs": [
    {
     "name": "stdout",
     "output_type": "stream",
     "text": [
      "12\n"
     ]
    }
   ],
   "source": [
    "N = 145\n",
    "\n",
    "l = 0\n",
    "r = N\n",
    "while r - l > 1:\n",
    "    mid = (r+l) // 2\n",
    "    if mid*mid <= N:\n",
    "        l = mid\n",
    "    else:\n",
    "        r = mid\n",
    "print(l)"
   ]
  },
  {
   "cell_type": "markdown",
   "metadata": {},
   "source": [
    "**Задача.** В классе учатся N человек, рост і-ого равен а[i]. Классный руководитель получил указание\n",
    "направить на субботник R бригад по С человек в каждой.\n",
    "Все бригады на субботнике будут заниматься переноской бревен. Каждое бревно одновременно несут все члены одной бригады. При этом бревно нести тем удобнее, чем менее различается рост членов этой бригады.\n",
    "Числом неудобства бригады будем называть разность между ростом самого высокого и ростом самого низкого членов этой бригады (если в бригаде только один человек, то эта разница равна 0). Сформируйте бригады так, чтобы максимальное из чисел неудобства сформированных бригад было минимально."
   ]
  },
  {
   "cell_type": "markdown",
   "metadata": {},
   "source": [
    "**Решение:** сортируем детей по росту => выгодно брать r подряд идущих детей."
   ]
  },
  {
   "cell_type": "code",
   "execution_count": 60,
   "metadata": {},
   "outputs": [
    {
     "name": "stdout",
     "output_type": "stream",
     "text": [
      "[3, 7, 11]\n",
      "[13, 16, 19]\n",
      "[34, 50, 53]\n",
      "19\n"
     ]
    }
   ],
   "source": [
    "R = 3\n",
    "C = 3\n",
    "arr = [3, 7, 11, 13, 16, 19, 23, 34, 50, 53]\n",
    "arr.sort()\n",
    "n = len(arr)\n",
    "l = 0\n",
    "r = max(arr) - min(arr)\n",
    "while r - l > 1:\n",
    "    mid = (r+l) // 2\n",
    "    cnt = 0 # количество собранных бригад\n",
    "    i = 0\n",
    "    while i+C-1 < n:\n",
    "        if arr[i + C - 1] - arr[i] <= mid:\n",
    "            cnt += 1\n",
    "            i += C\n",
    "        else:\n",
    "            i += 1\n",
    "    if cnt >= R:\n",
    "        r = mid\n",
    "    else:\n",
    "        l = mid\n",
    "i = 0\n",
    "while i+C-1 < n:\n",
    "    if arr[i + C - 1] - arr[i] <= r:\n",
    "        print(arr[i:i+C])\n",
    "        cnt += 1\n",
    "        i += C\n",
    "    else:\n",
    "        i += 1\n",
    "print(r)"
   ]
  },
  {
   "cell_type": "markdown",
   "metadata": {},
   "source": [
    "**Бинарный поиск для решения уравнений**"
   ]
  },
  {
   "cell_type": "markdown",
   "metadata": {},
   "source": [
    "**Задача.** Найти корень уравнения $2^x+x=5.$"
   ]
  },
  {
   "cell_type": "code",
   "execution_count": 81,
   "metadata": {},
   "outputs": [
    {
     "name": "stdout",
     "output_type": "stream",
     "text": [
      "1.7156207332755862 0.0\n"
     ]
    }
   ],
   "source": [
    "l = 1.0 # f(l) < 0\n",
    "r = 2.0 # f(r) > 0\n",
    "\n",
    "def f(x):\n",
    "    return 2**x + x - 5\n",
    "for _ in range(100):\n",
    "    mid = (l + r) / 2\n",
    "    if f(mid) < 0:\n",
    "        l = mid\n",
    "    else:\n",
    "        r = mid\n",
    "print(r, f(r))"
   ]
  },
  {
   "cell_type": "markdown",
   "metadata": {},
   "source": []
  },
  {
   "cell_type": "code",
   "execution_count": 67,
   "metadata": {},
   "outputs": [
    {
     "data": {
      "text/plain": [
       "-2"
      ]
     },
     "execution_count": 67,
     "metadata": {},
     "output_type": "execute_result"
    }
   ],
   "source": [
    "f(1)"
   ]
  },
  {
   "cell_type": "code",
   "execution_count": null,
   "metadata": {},
   "outputs": [],
   "source": []
  }
 ],
 "metadata": {
  "kernelspec": {
   "display_name": "base",
   "language": "python",
   "name": "python3"
  },
  "language_info": {
   "codemirror_mode": {
    "name": "ipython",
    "version": 3
   },
   "file_extension": ".py",
   "mimetype": "text/x-python",
   "name": "python",
   "nbconvert_exporter": "python",
   "pygments_lexer": "ipython3",
   "version": "3.9.12"
  }
 },
 "nbformat": 4,
 "nbformat_minor": 2
}
