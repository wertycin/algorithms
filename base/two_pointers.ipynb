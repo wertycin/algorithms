{
 "cells": [
  {
   "cell_type": "markdown",
   "metadata": {},
   "source": [
    "**Два указателя**"
   ]
  },
  {
   "cell_type": "markdown",
   "metadata": {},
   "source": [
    "**Задача.** Дан массив arr[0:n], состоящий из неотрицательных чисел. Найдите в нём кратчайший отрезок с суммой $\\geqslant t.$"
   ]
  },
  {
   "cell_type": "code",
   "execution_count": 21,
   "metadata": {},
   "outputs": [
    {
     "name": "stdout",
     "output_type": "stream",
     "text": [
      "[6, 3, 8]\n"
     ]
    }
   ],
   "source": [
    "arr = [6, 3, 8, 6, 2, 9, 6]\n",
    "t = 16\n",
    "n = len(arr)\n",
    "\n",
    "l = 0\n",
    "sum = 0\n",
    "min_len = n\n",
    "ans_l = 0\n",
    "ans_r = 0\n",
    "for r in range(n):\n",
    "    sum += arr[r]\n",
    "    while l < r and sum - arr[l] >= t:\n",
    "        sum -= arr[l]\n",
    "        l += 1\n",
    "    if sum >= t and min_len > r - l + 1:\n",
    "        ans_l = l\n",
    "        ans_r = r\n",
    "        min_len = r - l + 1\n",
    "print(arr[ans_l:ans_r+1])"
   ]
  },
  {
   "cell_type": "markdown",
   "metadata": {},
   "source": [
    "**Задача.** Дан отсортированный массив arr[0:n]. Необходимо найти количество пар (a, b) чисел из массива таких, что $b - a \\geqslant k.$"
   ]
  },
  {
   "cell_type": "code",
   "execution_count": 34,
   "metadata": {},
   "outputs": [
    {
     "name": "stdout",
     "output_type": "stream",
     "text": [
      "8\n"
     ]
    }
   ],
   "source": [
    "arr = [2, 3, 6, 6, 7, 8, 9]\n",
    "k = 4\n",
    "n = len(arr)\n",
    "\n",
    "r = 0\n",
    "ans = 0\n",
    "for l in range(n):\n",
    "    while r < n - 1 and arr[r] - arr[l] < k:\n",
    "        r += 1\n",
    "    if arr[r] - arr[l] >= k:\n",
    "        ans += n - r\n",
    "print(ans)"
   ]
  },
  {
   "cell_type": "markdown",
   "metadata": {},
   "source": [
    "**Задача.** Дан числовой массив arr[0:n] и число k. Выберете наибольшее кол-во элементов из arr так, что любые два выбранных числа отличаются не более чем на k."
   ]
  },
  {
   "cell_type": "code",
   "execution_count": 35,
   "metadata": {},
   "outputs": [
    {
     "name": "stdout",
     "output_type": "stream",
     "text": [
      "5\n"
     ]
    }
   ],
   "source": [
    "arr = [2, 3, 6, 6, 7, 8, 9]\n",
    "k = 4\n",
    "n = len(arr)\n",
    "\n",
    "arr.sort()\n",
    "r = 0\n",
    "max_len = -1\n",
    "for l in range(n):\n",
    "    while r < n - 1 and arr[r+1] - arr[l] <= k:\n",
    "        r += 1\n",
    "    if arr[r] - arr[l] <= k and r - l + 1 > max_len:\n",
    "        max_len = r - l + 1\n",
    "print(max_len)"
   ]
  },
  {
   "cell_type": "markdown",
   "metadata": {},
   "source": [
    "**Задача.** Дан числовой массив arr[0:n]. Найдите в нём отрезок наибольшей длины такой, что всего его элементы различны."
   ]
  },
  {
   "cell_type": "code",
   "execution_count": 42,
   "metadata": {},
   "outputs": [
    {
     "name": "stdout",
     "output_type": "stream",
     "text": [
      "5\n"
     ]
    }
   ],
   "source": [
    "arr = [6, 3, 8, 6, 2, 9, 6]\n",
    "n = len(arr)\n",
    "elements = set()\n",
    "elements.add(arr[0])\n",
    "\n",
    "max_len = -1\n",
    "r = 0\n",
    "for l in range(n):\n",
    "    while r < n - 1 and arr[r + 1] not in elements:\n",
    "        r += 1\n",
    "        elements.add(arr[r])\n",
    "    elements.remove(arr[l])\n",
    "    if r - l + 1 > max_len:\n",
    "        max_len = r - l + 1\n",
    "print(max_len)"
   ]
  }
 ],
 "metadata": {
  "kernelspec": {
   "display_name": "base",
   "language": "python",
   "name": "python3"
  },
  "language_info": {
   "codemirror_mode": {
    "name": "ipython",
    "version": 3
   },
   "file_extension": ".py",
   "mimetype": "text/x-python",
   "name": "python",
   "nbconvert_exporter": "python",
   "pygments_lexer": "ipython3",
   "version": "3.9.12"
  }
 },
 "nbformat": 4,
 "nbformat_minor": 2
}
