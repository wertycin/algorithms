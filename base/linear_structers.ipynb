{
 "cells": [
  {
   "cell_type": "markdown",
   "metadata": {},
   "source": [
    "**Стек, очередь и дек.**"
   ]
  },
  {
   "cell_type": "markdown",
   "metadata": {},
   "source": [
    "**Стек:** push(x) – добавить в конец, pop() – достать из конца."
   ]
  },
  {
   "cell_type": "markdown",
   "metadata": {},
   "source": [
    "**Очередь:** push(x) – добавить в конец, pop() – достать из начала."
   ]
  },
  {
   "cell_type": "markdown",
   "metadata": {},
   "source": [
    "**Дек:** pushfront(x) и pushback(x), а также popfront() и popback().\n",
    "\n",
    "***Python:***\n",
    "\n",
    "*pushback(x) – push(x)*\n",
    "\n",
    "*pushfront(x) – pushleft(x)*\n",
    "\n",
    "*popback() – pop()*\n",
    "\n",
    "*popfront() – popleft()*"
   ]
  },
  {
   "cell_type": "markdown",
   "metadata": {},
   "source": [
    "Создадим список:"
   ]
  },
  {
   "cell_type": "code",
   "execution_count": 2,
   "metadata": {},
   "outputs": [
    {
     "name": "stdout",
     "output_type": "stream",
     "text": [
      "Hello!\n",
      "3\n",
      "2\n",
      "1\n"
     ]
    }
   ],
   "source": [
    "class node:\n",
    "    def __init__(self, value, next):\n",
    "        self.value = value\n",
    "        self.next = next\n",
    "class list:\n",
    "    def __init__(self):\n",
    "        self.start = None\n",
    "    def push(self, x):\n",
    "        self.start = node(x, self.start)\n",
    "    def pop(self):\n",
    "        x = self.start.value\n",
    "        self.start = self.start.next\n",
    "        return x\n",
    "    def empty(self):\n",
    "        return self.start == None\n",
    "\n",
    "\n",
    "l = list()\n",
    "for el in (1, 2, 3, 'Hello!'):\n",
    "    l.push(el)\n",
    "while not l.empty():\n",
    "    print(l.pop())"
   ]
  },
  {
   "cell_type": "markdown",
   "metadata": {},
   "source": [
    "По-сути мы реализовали **стек**"
   ]
  },
  {
   "cell_type": "markdown",
   "metadata": {},
   "source": [
    "Теперь реализуем **двусвязный список** и **дек** на нём.\n",
    "\n",
    "При удалении возникает проблема: что делать с краевыми элементами?\n",
    "\n",
    "**Решение:** использовать фиктивный элемент, который будет соединен с первым и последним элементом."
   ]
  },
  {
   "cell_type": "code",
   "execution_count": 9,
   "metadata": {},
   "outputs": [
    {
     "name": "stdout",
     "output_type": "stream",
     "text": [
      "1\n",
      "2\n",
      "3\n",
      "Hello!\n",
      "-10\n"
     ]
    }
   ],
   "source": [
    "class node:\n",
    "    def __init__(self, value, prev, next):\n",
    "        self.value = value\n",
    "        self.prev = prev\n",
    "        self.next = next\n",
    "\n",
    "def pushAfter(nd, x): # добавить элемент после элемента nd\n",
    "    new_node = node(x, nd, nd.next)\n",
    "    nd.next.prev = new_node\n",
    "    nd.next = new_node\n",
    "    \n",
    "def remove(nd):\n",
    "    x = nd.value\n",
    "    nd.prev.next = nd.next\n",
    "    nd.next.prev = nd.prev\n",
    "    return x\n",
    "\n",
    "class list:\n",
    "    def __init__(self):\n",
    "        self.start = node(0, None, None)\n",
    "        self.start.next = self.start.prev = self.start # решаем проблему со ссылкой вида None.next и None.prev\n",
    "    \n",
    "    def push(self, x):\n",
    "        pushAfter(self.start, x)\n",
    "        \n",
    "    def pop(self):\n",
    "        return remove(self.start.next)\n",
    "\n",
    "    def pushleft(self, x):\n",
    "            pushAfter(self.start.prev, x)\n",
    "        \n",
    "    def popleft(self):\n",
    "        return remove(self.start.prev)\n",
    "\n",
    "    def empty(self):\n",
    "        return self.start.next == self.start\n",
    "\n",
    "\n",
    "l = list()\n",
    "for el in (1, 2, 3, 'Hello!'):\n",
    "    l.push(el)\n",
    "while not l.empty():\n",
    "    print(l.popleft())\n",
    "l.push(10)\n",
    "l.pushleft(-10)\n",
    "print(l.popleft())"
   ]
  },
  {
   "cell_type": "markdown",
   "metadata": {},
   "source": [
    "**Задача. В очереди стоят n человек, у каждого есть свой идентификатор. Поступает q запросов вида: <br/> <br/>  come(x, y) – человек x становится в очередь перед человеком y; <br/> <br/>  out(x) – человек x выходит из очереди. <br/> <br/> Нужно вывести всю очередь от начала до конца после всех запросов.**"
   ]
  },
  {
   "cell_type": "markdown",
   "metadata": {},
   "source": [
    "**Решение:** используем словарь (id, ссылка на ноду) для поиска человека с идентификатором id за O(1)."
   ]
  },
  {
   "cell_type": "markdown",
   "metadata": {},
   "source": []
  }
 ],
 "metadata": {
  "kernelspec": {
   "display_name": "base",
   "language": "python",
   "name": "python3"
  },
  "language_info": {
   "codemirror_mode": {
    "name": "ipython",
    "version": 3
   },
   "file_extension": ".py",
   "mimetype": "text/x-python",
   "name": "python",
   "nbconvert_exporter": "python",
   "pygments_lexer": "ipython3",
   "version": "3.9.12"
  }
 },
 "nbformat": 4,
 "nbformat_minor": 2
}
