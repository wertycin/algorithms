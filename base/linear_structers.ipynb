{
 "cells": [
  {
   "cell_type": "markdown",
   "metadata": {},
   "source": [
    "**Стек, очередь и дек.**"
   ]
  },
  {
   "cell_type": "markdown",
   "metadata": {},
   "source": [
    "**Стек:** push(x) – добавить в конец, pop() – достать из конца."
   ]
  },
  {
   "cell_type": "markdown",
   "metadata": {},
   "source": [
    "**Очередь:** push(x) – добавить в конец, pop() – достать из начала."
   ]
  },
  {
   "cell_type": "markdown",
   "metadata": {},
   "source": [
    "**Дек:** pushfront(x) и pushback(x), а также popfront() и popback().\n",
    "\n",
    "***Python:***\n",
    "\n",
    "*pushback(x) – append(x)*\n",
    "\n",
    "*pushfront(x) – appendleft(x)*\n",
    "\n",
    "*popback() – pop()*\n",
    "\n",
    "*popfront() – popleft()*"
   ]
  },
  {
   "cell_type": "markdown",
   "metadata": {},
   "source": [
    "Создадим список:"
   ]
  },
  {
   "cell_type": "code",
   "execution_count": 2,
   "metadata": {},
   "outputs": [
    {
     "name": "stdout",
     "output_type": "stream",
     "text": [
      "Hello!\n",
      "3\n",
      "2\n",
      "1\n"
     ]
    }
   ],
   "source": [
    "class node:\n",
    "    def __init__(self, value, next):\n",
    "        self.value = value\n",
    "        self.next = next\n",
    "class list:\n",
    "    def __init__(self):\n",
    "        self.start = None\n",
    "    def push(self, x):\n",
    "        self.start = node(x, self.start)\n",
    "    def pop(self):\n",
    "        x = self.start.value\n",
    "        self.start = self.start.next\n",
    "        return x\n",
    "    def empty(self):\n",
    "        return self.start == None\n",
    "\n",
    "\n",
    "l = list()\n",
    "for el in (1, 2, 3, 'Hello!'):\n",
    "    l.push(el)\n",
    "while not l.empty():\n",
    "    print(l.pop())"
   ]
  },
  {
   "cell_type": "markdown",
   "metadata": {},
   "source": [
    "По-сути мы реализовали **стек**"
   ]
  },
  {
   "cell_type": "markdown",
   "metadata": {},
   "source": [
    "Теперь реализуем **двусвязный список** и **дек** на нём.\n",
    "\n",
    "При удалении возникает проблема: что делать с краевыми элементами?\n",
    "\n",
    "**Решение:** использовать фиктивный элемент, который будет соединен с первым и последним элементом."
   ]
  },
  {
   "cell_type": "code",
   "execution_count": 9,
   "metadata": {},
   "outputs": [
    {
     "name": "stdout",
     "output_type": "stream",
     "text": [
      "1\n",
      "2\n",
      "3\n",
      "Hello!\n",
      "-10\n"
     ]
    }
   ],
   "source": [
    "class node:\n",
    "    def __init__(self, value, prev, next):\n",
    "        self.value = value\n",
    "        self.prev = prev\n",
    "        self.next = next\n",
    "\n",
    "def pushAfter(nd, x): # добавить элемент после элемента nd\n",
    "    new_node = node(x, nd, nd.next)\n",
    "    nd.next.prev = new_node\n",
    "    nd.next = new_node\n",
    "    \n",
    "def remove(nd):\n",
    "    x = nd.value\n",
    "    nd.prev.next = nd.next\n",
    "    nd.next.prev = nd.prev\n",
    "    return x\n",
    "\n",
    "class list:\n",
    "    def __init__(self):\n",
    "        self.start = node(0, None, None)\n",
    "        self.start.next = self.start.prev = self.start # решаем проблему со ссылкой вида None.next и None.prev\n",
    "    \n",
    "    def push(self, x):\n",
    "        pushAfter(self.start, x)\n",
    "        \n",
    "    def pop(self):\n",
    "        return remove(self.start.next)\n",
    "\n",
    "    def pushleft(self, x):\n",
    "            pushAfter(self.start.prev, x)\n",
    "        \n",
    "    def popleft(self):\n",
    "        return remove(self.start.prev)\n",
    "\n",
    "    def empty(self):\n",
    "        return self.start.next == self.start\n",
    "\n",
    "\n",
    "l = list()\n",
    "for el in (1, 2, 3, 'Hello!'):\n",
    "    l.push(el)\n",
    "while not l.empty():\n",
    "    print(l.popleft())\n",
    "l.push(10)\n",
    "l.pushleft(-10)\n",
    "print(l.popleft())"
   ]
  },
  {
   "cell_type": "markdown",
   "metadata": {},
   "source": [
    "**Задача. В очереди стоят n человек, у каждого есть свой идентификатор. Поступает q запросов вида: <br/> <br/>  come(x, y) – человек x становится в очередь перед человеком y; <br/> <br/>  out(x) – человек x выходит из очереди. <br/> <br/> Нужно вывести всю очередь от начала до конца после всех запросов.**"
   ]
  },
  {
   "cell_type": "markdown",
   "metadata": {},
   "source": [
    "**Решение:** используем словарь (id, ссылка на ноду) для поиска человека с идентификатором id за O(1)."
   ]
  },
  {
   "cell_type": "markdown",
   "metadata": {},
   "source": [
    "**Задача. Удалить все смайлики \":-)\" из заданной строки s.**"
   ]
  },
  {
   "cell_type": "code",
   "execution_count": 2,
   "metadata": {},
   "outputs": [
    {
     "name": "stdout",
     "output_type": "stream",
     "text": [
      "\n"
     ]
    }
   ],
   "source": [
    "s = \"ofihew:-))eno:-%:-)s\"\n",
    "s = \":-:-))\"\n",
    "stack = []\n",
    "for c in s:\n",
    "    stack.append(c)\n",
    "    if \"\".join(stack[-3:]) == \":-)\":\n",
    "        for _ in range(3):\n",
    "            stack.pop()\n",
    "print(\"\".join(stack))"
   ]
  },
  {
   "cell_type": "markdown",
   "metadata": {},
   "source": [
    "**Задача. Дана скобочная последовательность, состоящая из трех типов скобок ( ), [ ], { }. Определить, является ли она правильной.**"
   ]
  },
  {
   "cell_type": "markdown",
   "metadata": {},
   "source": [
    "**Решение. Создаем стек, в котором будут храниться все открывающие скобки. При встрече с закрывающей либо удаляем соответсвующую скобку, либо последовательность скобок не является правильность.**"
   ]
  },
  {
   "cell_type": "code",
   "execution_count": 41,
   "metadata": {},
   "outputs": [
    {
     "name": "stdout",
     "output_type": "stream",
     "text": [
      "no\n"
     ]
    }
   ],
   "source": [
    "s = \"(){([])}\"\n",
    "s = \"((}}\"\n",
    "stack = []\n",
    "open = set([\"(\", \"[\", \"{\"])\n",
    "close = {\")\":\"(\", \"]\":\"[\", \"}\":\"{\"}\n",
    "ans = True\n",
    "for c in s:\n",
    "    if c in open:\n",
    "        stack.append(c)\n",
    "    elif len(stack) == 0 or close[c] != stack.pop():\n",
    "        ans = False\n",
    "        break\n",
    "\n",
    "if len(stack) != 0:\n",
    "    ans = False\n",
    "print('yes') if ans else print('no')"
   ]
  },
  {
   "cell_type": "code",
   "execution_count": 48,
   "metadata": {},
   "outputs": [
    {
     "name": "stdout",
     "output_type": "stream",
     "text": [
      "True\n"
     ]
    }
   ],
   "source": [
    "print(float('inf') > 1)"
   ]
  },
  {
   "cell_type": "markdown",
   "metadata": {},
   "source": [
    "**Задача. Дан массив из n чисел. Необходимо на каждом отрезке длины k вывести минимальный элемент.**"
   ]
  },
  {
   "cell_type": "markdown",
   "metadata": {},
   "source": [
    "**Решение: последовательность убывающих минимумов.**"
   ]
  },
  {
   "cell_type": "code",
   "execution_count": 59,
   "metadata": {},
   "outputs": [
    {
     "name": "stdout",
     "output_type": "stream",
     "text": [
      "3\n",
      "3\n",
      "4\n",
      "4\n",
      "0\n",
      "0\n",
      "0\n",
      "1\n"
     ]
    }
   ],
   "source": [
    "from collections import deque\n",
    "arr = [6, 3, 8, 6, 4, 7, 0, 1, 5, 3]\n",
    "k = 3\n",
    "n = len(arr)\n",
    "mins = deque()\n",
    "for i in range(n):\n",
    "    while mins and arr[mins[-1]] > arr[i]:\n",
    "        mins.pop()\n",
    "    mins.append(i)\n",
    "    if mins[0] == i - k:\n",
    "        mins.popleft()\n",
    "    if i >= k - 1:\n",
    "        print(arr[mins[0]])"
   ]
  },
  {
   "cell_type": "markdown",
   "metadata": {},
   "source": [
    "**Задача. Задан массив из n чисел, задающих температуру в каждый из n дней. Необходимо для каждого дня вывести номер ближайшего следующего дня, более теплого, чем текущий.**"
   ]
  },
  {
   "cell_type": "markdown",
   "metadata": {},
   "source": [
    "**Решение: последовательность возрастающих максимумов и проход по массиву справа-налево.**"
   ]
  },
  {
   "cell_type": "code",
   "execution_count": 104,
   "metadata": {},
   "outputs": [
    {
     "name": "stdout",
     "output_type": "stream",
     "text": [
      "[18, 18, 20, 20, 20, 21, 10, 21, '-', '-']\n"
     ]
    }
   ],
   "source": [
    "from collections import deque\n",
    "arr = [13, 11, 18, 5, 4, 20, 7, 10, 21, 5]\n",
    "n = len(arr)\n",
    "maxs = deque()\n",
    "ans = []\n",
    "for i in range(n - 1, -1, -1):\n",
    "    while maxs and arr[maxs[0]] <= arr[i]:\n",
    "        maxs.popleft()\n",
    "    if maxs:\n",
    "        ans.append(arr[maxs[0]])\n",
    "    else:\n",
    "        ans.append('-')\n",
    "    maxs.appendleft(i)\n",
    "ans.reverse()\n",
    "print(ans)"
   ]
  },
  {
   "cell_type": "markdown",
   "metadata": {},
   "source": [
    "**Перебор через рекурсию.**"
   ]
  },
  {
   "cell_type": "markdown",
   "metadata": {},
   "source": [
    "**Задача. Перебрать все двоичные числа длины n.**"
   ]
  },
  {
   "cell_type": "code",
   "execution_count": 108,
   "metadata": {},
   "outputs": [
    {
     "name": "stdout",
     "output_type": "stream",
     "text": [
      "000\n",
      "001\n",
      "010\n",
      "011\n",
      "100\n",
      "101\n",
      "110\n",
      "111\n"
     ]
    }
   ],
   "source": [
    "n = 3\n",
    "def f(s, n):\n",
    "    if len(s) == n:\n",
    "        return print(s)\n",
    "    f(s+'0', n)\n",
    "    f(s+'1', n)\n",
    "s = ''\n",
    "f(s, n)\n",
    "    "
   ]
  },
  {
   "cell_type": "markdown",
   "metadata": {},
   "source": [
    "**Задача. Перебрать все перестановки n чисел.**"
   ]
  },
  {
   "cell_type": "code",
   "execution_count": 114,
   "metadata": {},
   "outputs": [
    {
     "name": "stdout",
     "output_type": "stream",
     "text": [
      "(1, 2, 3)\n",
      "(1, 3, 2)\n",
      "(2, 1, 3)\n",
      "(2, 3, 1)\n",
      "(3, 1, 2)\n",
      "(3, 2, 1)\n"
     ]
    }
   ],
   "source": [
    "n = 3\n",
    "def f(per, n):\n",
    "    if len(per) == n:\n",
    "        return print(per)\n",
    "    for i in range(1, n + 1):\n",
    "        if i not in per:\n",
    "            f(per + (i, ), n)\n",
    "c = tuple()\n",
    "f(c, n)"
   ]
  },
  {
   "cell_type": "code",
   "execution_count": null,
   "metadata": {},
   "outputs": [],
   "source": []
  }
 ],
 "metadata": {
  "kernelspec": {
   "display_name": "base",
   "language": "python",
   "name": "python3"
  },
  "language_info": {
   "codemirror_mode": {
    "name": "ipython",
    "version": 3
   },
   "file_extension": ".py",
   "mimetype": "text/x-python",
   "name": "python",
   "nbconvert_exporter": "python",
   "pygments_lexer": "ipython3",
   "version": "3.9.12"
  }
 },
 "nbformat": 4,
 "nbformat_minor": 2
}
