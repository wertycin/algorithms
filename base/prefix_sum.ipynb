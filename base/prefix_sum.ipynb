{
 "cells": [
  {
   "cell_type": "markdown",
   "metadata": {},
   "source": [
    "**Простейшая задача.**\n",
    "\n",
    "**arr:** [2, 3, 8, 5, 7, 4, -1, 5]\n",
    "\n",
    "**Запросы вида:** sum(l, r) (сумма на отрезке, подмассиве, срезе)"
   ]
  },
  {
   "cell_type": "code",
   "execution_count": 1,
   "metadata": {},
   "outputs": [],
   "source": [
    "arr = [2, 3, 8, 5, 7, 4, -1, 5]"
   ]
  },
  {
   "cell_type": "code",
   "execution_count": 2,
   "metadata": {},
   "outputs": [
    {
     "name": "stdout",
     "output_type": "stream",
     "text": [
      "8\n"
     ]
    }
   ],
   "source": [
    "def sum_arr(l, r):\n",
    "    return sum(arr[l:r]) # O(n) – слишком долго\n",
    "print(sum_arr(2, 3))"
   ]
  },
  {
   "cell_type": "markdown",
   "metadata": {},
   "source": [
    "**Создаем префиксную сумму**"
   ]
  },
  {
   "cell_type": "code",
   "execution_count": 3,
   "metadata": {},
   "outputs": [
    {
     "name": "stdout",
     "output_type": "stream",
     "text": [
      "[0, 2, 5, 13, 18, 25, 29, 28, 33]\n"
     ]
    }
   ],
   "source": [
    "n = len(arr)\n",
    "pref = [0] * (n+1)\n",
    "for i in range(1, n + 1):\n",
    "    pref[i] = pref[i - 1] + arr[i - 1]\n",
    "print(pref)"
   ]
  },
  {
   "cell_type": "markdown",
   "metadata": {},
   "source": [
    "Тогда **sum(l, r)** можно легко найти: **pref[r] - pref[l]**"
   ]
  },
  {
   "cell_type": "code",
   "execution_count": 4,
   "metadata": {},
   "outputs": [
    {
     "name": "stdout",
     "output_type": "stream",
     "text": [
      "11\n"
     ]
    }
   ],
   "source": [
    "print(pref[3] - pref[1])"
   ]
  },
  {
   "cell_type": "markdown",
   "metadata": {},
   "source": [
    "**Задача. Массив из n элементов. Нужно уметь отвечать на запросы вида count(l, r), где count(l, r) - количество нулей на отрезке [l, r]**"
   ]
  },
  {
   "cell_type": "code",
   "execution_count": 5,
   "metadata": {},
   "outputs": [],
   "source": [
    "arr = [0, 0, 1, 0, 1, 1, 0, 1]"
   ]
  },
  {
   "cell_type": "markdown",
   "metadata": {},
   "source": [
    "**pref[i]** - количество нулей на [0, i)"
   ]
  },
  {
   "cell_type": "code",
   "execution_count": 6,
   "metadata": {},
   "outputs": [
    {
     "name": "stdout",
     "output_type": "stream",
     "text": [
      "2\n"
     ]
    }
   ],
   "source": [
    "n = len(arr)\n",
    "pref = [0] * (n + 1)\n",
    "\n",
    "for i in range(1, n+1):\n",
    "    pref[i] = pref[i - 1] + (arr[i - 1] == 0)\n",
    "\n",
    "def count(l, r):\n",
    "    global pref\n",
    "    return pref[r] - pref[l]\n",
    "print(count(0, 3))"
   ]
  },
  {
   "cell_type": "markdown",
   "metadata": {},
   "source": [
    "**Задача. Массив из n элементов (целые числа). Нужно уметь отвечать на запросы вида mul(l, r), где mul(l, r) - произведение всех чисел на отрезке [l, r]**"
   ]
  },
  {
   "cell_type": "code",
   "execution_count": 7,
   "metadata": {},
   "outputs": [],
   "source": [
    "arr = [5, 3, 0, 1, 2, 4]"
   ]
  },
  {
   "cell_type": "markdown",
   "metadata": {},
   "source": [
    "**Проблема: деление на ноль.**\n",
    "\n",
    "**Решение: если встречаем ноль, то не учитываем его (умножаем на 1 вместо 0). Если на отрезке есть ноль, то ответ 0, иначе - считаем через массив префиксных произведений**"
   ]
  },
  {
   "cell_type": "code",
   "execution_count": 8,
   "metadata": {},
   "outputs": [
    {
     "name": "stdout",
     "output_type": "stream",
     "text": [
      "8\n"
     ]
    }
   ],
   "source": [
    "n = len(arr)\n",
    "pref_mul = [1] * (n + 1)\n",
    "pref_zeros = [0] * (n + 1)\n",
    "\n",
    "for i in range(1, n+1):\n",
    "    pref_zeros[i] = pref_zeros[i - 1] + (arr[i - 1] == 0)\n",
    "\n",
    "for i in range(1, n+1):\n",
    "    if arr[i - 1] != 0:\n",
    "        pref_mul[i] = pref_mul[i - 1] * arr[i - 1]\n",
    "def count(l, r):\n",
    "    global pref_zeros\n",
    "    global pref_mul\n",
    "    if pref_zeros[r] - pref_zeros[l] == 0:\n",
    "        return int(pref_mul[r] / pref_mul[l])\n",
    "    else:\n",
    "        return 0\n",
    "    \n",
    "print(count(3, 6))"
   ]
  },
  {
   "cell_type": "markdown",
   "metadata": {},
   "source": [
    "**Задача. Массив из n элементов (целые числа). Есть ли в данном массиве подмассив с суммой 0?**"
   ]
  },
  {
   "cell_type": "code",
   "execution_count": 9,
   "metadata": {},
   "outputs": [],
   "source": [
    "arr = [2, 3, -5, -1, 0, 2, 1, -4] # YES\n",
    "# arr = [1, 2, 3, -10] # NO"
   ]
  },
  {
   "cell_type": "markdown",
   "metadata": {},
   "source": [
    "**Решение: два одинаковых элемента в массиве pref**"
   ]
  },
  {
   "cell_type": "code",
   "execution_count": 10,
   "metadata": {},
   "outputs": [
    {
     "name": "stdout",
     "output_type": "stream",
     "text": [
      "YES\n"
     ]
    }
   ],
   "source": [
    "n = len(arr)\n",
    "pref = [0] * (n + 1)\n",
    "\n",
    "for i in range(1, n+1):\n",
    "    pref[i] = pref[i - 1] + arr[i - 1]\n",
    "    \n",
    "print(\"NO\" if len(set(pref))==len(pref) else \"YES\")"
   ]
  },
  {
   "cell_type": "markdown",
   "metadata": {},
   "source": [
    "**Если хотим вывести (некоторые!) подотрезки**"
   ]
  },
  {
   "cell_type": "code",
   "execution_count": 11,
   "metadata": {},
   "outputs": [
    {
     "name": "stdout",
     "output_type": "stream",
     "text": [
      "(0, 3)\n",
      "(4, 5)\n",
      "(1, 7)\n"
     ]
    }
   ],
   "source": [
    "n = len(arr)\n",
    "pref = [0] * (n + 1)\n",
    "\n",
    "index = dict()\n",
    "index[0] = 0 # в цикле не добавляем нулевую пр. сумму, так как начинаем с 1\n",
    "\n",
    "for i in range(1, n+1):\n",
    "    pref[i] = pref[i - 1] + arr[i - 1]\n",
    "    if pref[i] in index:\n",
    "        print((index[pref[i]], i))\n",
    "    index[pref[i]] = i"
   ]
  },
  {
   "cell_type": "markdown",
   "metadata": {},
   "source": [
    "**Задача. Задан массив из n положительных целых чисел, ваша задача - подсчитать количество подмассивов, имеющих сумму x.**"
   ]
  },
  {
   "cell_type": "code",
   "execution_count": 12,
   "metadata": {},
   "outputs": [],
   "source": [
    "n, x = 5, 7\n",
    "arr = [2, 4, 1, 2, 7]\n",
    "n, x = 5, 0\n",
    "arr = [0, 0, 0, 0, 0]"
   ]
  },
  {
   "cell_type": "code",
   "execution_count": 13,
   "metadata": {},
   "outputs": [
    {
     "name": "stdout",
     "output_type": "stream",
     "text": [
      "15\n"
     ]
    }
   ],
   "source": [
    "pref = [0] * (n + 1)\n",
    "pref_cnt = dict()\n",
    "pref_cnt[0] = 1\n",
    "for i in range(n):\n",
    "    pref[i + 1] = pref[i] + arr[i]\n",
    "\n",
    "cnt = 0\n",
    "for i in range(1, n + 1):\n",
    "    if pref[i] - x in pref_cnt:\n",
    "        cnt += pref_cnt[pref[i] - x]\n",
    "    if pref[i] in pref_cnt:\n",
    "        pref_cnt[pref[i]] += 1\n",
    "    else:\n",
    "        pref_cnt[pref[i]] = 1\n",
    "    \n",
    "print(cnt)"
   ]
  },
  {
   "cell_type": "markdown",
   "metadata": {},
   "source": [
    "**Задача. Задана строка из \"#\" и \".\". Поступает q запросов вида $l_i$, $r_i$. Для каждого запроса необходимо посчитать количество позиций в $[l_i, r_i)$, для которых следующий символ равен предыдущему.**"
   ]
  },
  {
   "cell_type": "markdown",
   "metadata": {},
   "source": [
    "Пример: Подстрока \"#..##\", символы совпадают на двух позициях (2-3 и 4-5)."
   ]
  },
  {
   "cell_type": "code",
   "execution_count": 14,
   "metadata": {},
   "outputs": [],
   "source": [
    "s = '#..###'\n",
    "q = 3\n",
    "queries = [(1, 3), (5, 6), (1, 5), (3, 6), (3, 4)]"
   ]
  },
  {
   "cell_type": "code",
   "execution_count": 15,
   "metadata": {},
   "outputs": [
    {
     "name": "stdout",
     "output_type": "stream",
     "text": [
      "1\n",
      "1\n",
      "2\n",
      "2\n",
      "0\n"
     ]
    }
   ],
   "source": [
    "n = len(s)\n",
    "pref = [0] * n\n",
    "for i in range(n - 1):\n",
    "    pref[i + 1] = pref[i] + (s[i] == s[i + 1])\n",
    "for l, r in queries:\n",
    "    print(pref[r - 1] - pref[l - 1])"
   ]
  },
  {
   "cell_type": "code",
   "execution_count": 16,
   "metadata": {},
   "outputs": [],
   "source": [
    "s = input()\n",
    "q = int(input())\n",
    "queries = []\n",
    "for _ in range(q):\n",
    "    l, r = map(int, input().split())\n",
    "    queries.append((l, r))"
   ]
  },
  {
   "cell_type": "code",
   "execution_count": null,
   "metadata": {},
   "outputs": [],
   "source": []
  }
 ],
 "metadata": {
  "kernelspec": {
   "display_name": "base",
   "language": "python",
   "name": "python3"
  },
  "language_info": {
   "codemirror_mode": {
    "name": "ipython",
    "version": 3
   },
   "file_extension": ".py",
   "mimetype": "text/x-python",
   "name": "python",
   "nbconvert_exporter": "python",
   "pygments_lexer": "ipython3",
   "version": "3.9.undefined"
  }
 },
 "nbformat": 4,
 "nbformat_minor": 2
}
