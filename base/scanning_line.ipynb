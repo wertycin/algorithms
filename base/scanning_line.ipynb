{
 "cells": [
  {
   "cell_type": "markdown",
   "metadata": {},
   "source": [
    "**Сканирующая прямая.**"
   ]
  },
  {
   "cell_type": "markdown",
   "metadata": {},
   "source": [
    "**Задача. Пользователи заходят на сайт. Про каждого пользователя известно, в какое время он пришел и ушел. Нужно определить максимальное количество пользователей, единовременно находившихся на сайте.**"
   ]
  },
  {
   "cell_type": "code",
   "execution_count": 13,
   "metadata": {},
   "outputs": [],
   "source": [
    "users = [(1, 3), (2, 5), (2, 6), (0, 4)]"
   ]
  },
  {
   "cell_type": "code",
   "execution_count": 14,
   "metadata": {},
   "outputs": [
    {
     "name": "stdout",
     "output_type": "stream",
     "text": [
      "Count: 4 \n",
      "Time: 2\n"
     ]
    }
   ],
   "source": [
    "events = []\n",
    "for l, r in users:\n",
    "    events.append((l, \"2+\"))\n",
    "    events.append((r, \"1-\")) # сравнение двух строк (2+ > 1-) => после sort сначала будут ушедшие\n",
    "events.sort() # сортировка сначала по первым элементам, если равны – тогда по вторым\n",
    "\n",
    "cnt = 0\n",
    "max_cnt = 0\n",
    "max_time = 0\n",
    "for t, ev in events:\n",
    "    if ev==\"2+\":\n",
    "        cnt += 1\n",
    "    else:\n",
    "        cnt -= 1\n",
    "    if cnt > max_cnt:\n",
    "        max_cnt = cnt\n",
    "        max_time = t\n",
    "print(\"Count:\", max_cnt, \"\\nTime:\", max_time)"
   ]
  },
  {
   "cell_type": "markdown",
   "metadata": {},
   "source": [
    "**Важный момент: (1, 2) и (2, 3) – какое здесь максимальное количество пользователей на сайте? Должно быть обговорено в условии задачи. В данной реализации максимальное количество пользователей равно 1.**"
   ]
  },
  {
   "cell_type": "markdown",
   "metadata": {},
   "source": [
    "**Усложнение: нужно выводить идентификатор пользователя.**"
   ]
  },
  {
   "cell_type": "code",
   "execution_count": 24,
   "metadata": {},
   "outputs": [],
   "source": [
    "users = [(1, 2, 0), (2, 3, 1), (1, 3, 3)]"
   ]
  },
  {
   "cell_type": "code",
   "execution_count": 27,
   "metadata": {},
   "outputs": [
    {
     "name": "stdout",
     "output_type": "stream",
     "text": [
      "Count: 2 \n",
      "Time: 1 \n",
      "Users: {0, 3}\n"
     ]
    }
   ],
   "source": [
    "events = []\n",
    "for l, r, id in users:\n",
    "    events.append((l, \"2+\", id))\n",
    "    events.append((r, \"1-\", id)) # сравнение двух строк (2+ > 1-) => после sort сначала будут ушедшие\n",
    "events.sort() # сортировка сначала по первым элементам, если равны – тогда по вторым\n",
    "\n",
    "cnt = 0\n",
    "max_cnt = 0\n",
    "max_time = 0\n",
    "\n",
    "for t, ev, id in events: # находим максимальное количество пользователей на сайте\n",
    "    if ev==\"2+\":\n",
    "        cnt += 1\n",
    "    else:\n",
    "        cnt -= 1\n",
    "    if cnt > max_cnt:\n",
    "        max_cnt = cnt\n",
    "        max_time = t\n",
    "\n",
    "max_on_site = set()\n",
    "cnt = 0\n",
    "for t, ev, id in events: # считаем текущее количество пользователей, как только оно равно макс. => ответ\n",
    "    if ev==\"2+\":\n",
    "        cnt += 1\n",
    "        max_on_site.add(id)\n",
    "    else:\n",
    "        cnt -= 1\n",
    "        max_on_site.remove(id)\n",
    "    if cnt == max_cnt:\n",
    "        break\n",
    "\n",
    "print(\"Count:\", max_cnt, \"\\nTime:\", max_time, \"\\nUsers:\", max_on_site)"
   ]
  },
  {
   "cell_type": "markdown",
   "metadata": {},
   "source": [
    "**Задача. Дан массив из n целых чисел. Каждое число можно заменить на другое, отличающееся от изначального не более, чем на k. Какое наибольшее количество чисел можно сделать равными при такой процедуре?**"
   ]
  },
  {
   "cell_type": "markdown",
   "metadata": {},
   "source": [
    "**Решение. Каждое число $a_i$ можно заменить на $[a_i-k; a_i+k]$. Тогда получаем массив отрезков и нужно найти максимальное количество пересекающихся отрезков => предыдущая задача.**"
   ]
  },
  {
   "cell_type": "code",
   "execution_count": null,
   "metadata": {},
   "outputs": [],
   "source": []
  },
  {
   "cell_type": "markdown",
   "metadata": {},
   "source": []
  }
 ],
 "metadata": {
  "kernelspec": {
   "display_name": "base",
   "language": "python",
   "name": "python3"
  },
  "language_info": {
   "codemirror_mode": {
    "name": "ipython",
    "version": 3
   },
   "file_extension": ".py",
   "mimetype": "text/x-python",
   "name": "python",
   "nbconvert_exporter": "python",
   "pygments_lexer": "ipython3",
   "version": "3.9.12"
  }
 },
 "nbformat": 4,
 "nbformat_minor": 2
}
