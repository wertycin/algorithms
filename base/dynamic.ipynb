{
 "cells": [
  {
   "cell_type": "markdown",
   "metadata": {},
   "source": [
    "**Динамическое программирование.**"
   ]
  },
  {
   "cell_type": "markdown",
   "metadata": {},
   "source": [
    "**Платная лестница.** Чтобы наступить на i-тую ступеньку лестницы, состоящей из n ступенек, нужно заплатить arr[i] рублей. Мальчик умеет либо перешагивать на следующую ступеньку, либо перепрыгивать через одну. Необходимо определить минимальную сумму, необходимую для поднятия по лестнице."
   ]
  },
  {
   "cell_type": "code",
   "execution_count": 11,
   "metadata": {},
   "outputs": [
    {
     "name": "stdout",
     "output_type": "stream",
     "text": [
      "2\n"
     ]
    }
   ],
   "source": [
    "arr = [1, 3, 1]\n",
    "n = len(arr)\n",
    "cost = [10**10] * n\n",
    "cost[0] = arr[0]\n",
    "cost[1] = arr[0] + arr[1]\n",
    "for i in range(2, n):\n",
    "    cost[i] = min(cost[i-1], cost[i - 2]) + arr[i]\n",
    "print(cost[n-1])"
   ]
  },
  {
   "cell_type": "markdown",
   "metadata": {},
   "source": [
    "**Задача.** Необходимо посчитать количество последовательностей длины N, состоящих из 0 и 1, в которых никакие две единицы не стоят рядом."
   ]
  },
  {
   "cell_type": "markdown",
   "metadata": {},
   "source": [
    "**Решение:** число $x_n$ можно получить двумя способами: либо приписать 0 к строке длины i - 1, либо приписать 01 к строке длины i - 2."
   ]
  },
  {
   "cell_type": "code",
   "execution_count": 37,
   "metadata": {},
   "outputs": [
    {
     "name": "stdout",
     "output_type": "stream",
     "text": [
      "5\n"
     ]
    }
   ],
   "source": [
    "n = 3\n",
    "dp = [0] * n\n",
    "dp[0] = 2\n",
    "dp[1] = 3\n",
    "for i in range(2, n):\n",
    "    dp[i] = dp[i-1] + dp[i-2]\n",
    "print(dp[n-1])"
   ]
  },
  {
   "cell_type": "markdown",
   "metadata": {},
   "source": [
    "**Задача.** Необходимо посчитать количество последовательностей длины N, состоящих из 0 и 1, в которых никакие три единицы не стоят рядом."
   ]
  },
  {
   "cell_type": "markdown",
   "metadata": {},
   "source": [
    "**Решение:** число $x_n$ можно получить $ тремя способами: либо приписать 0 к строке длины i - 1, либо приписать 01 к строке длины i - 2, либо приписать 011 к строке длины i - 3."
   ]
  },
  {
   "cell_type": "code",
   "execution_count": 36,
   "metadata": {},
   "outputs": [
    {
     "name": "stdout",
     "output_type": "stream",
     "text": [
      "136\n"
     ]
    }
   ],
   "source": [
    "n = 8\n",
    "dp = [0] * n\n",
    "dp[0] = 2\n",
    "dp[1] = 4\n",
    "dp[2] = 7\n",
    "for i in range(2, n):\n",
    "    dp[i] = dp[i-1] + dp[i-2] + dp[i-3]\n",
    "print(dp[n-1])"
   ]
  },
  {
   "cell_type": "markdown",
   "metadata": {},
   "source": [
    "**Задача.** Калькулятор умеет выполнять три действия:\n",
    "\n",
    "1. Прибавить к числу 1.\n",
    "2. Умножить число на 2.\n",
    "3. Умножить число на 3.\n",
    "\n",
    "Определите, за какое наименьшее число операций можно получить из 1 число N."
   ]
  },
  {
   "cell_type": "code",
   "execution_count": 61,
   "metadata": {},
   "outputs": [
    {
     "name": "stdout",
     "output_type": "stream",
     "text": [
      "7\n"
     ]
    }
   ],
   "source": [
    "n = 128\n",
    "dp = [0] * (n + 1)\n",
    "dp[0] = -1\n",
    "for i in range(1, n + 1):\n",
    "    if i % 2 == 0:\n",
    "        dp[i] = dp[i//2] + 1\n",
    "        continue\n",
    "    if i % 3 == 0:\n",
    "        dp[i] = dp[i//3] + 1\n",
    "        continue\n",
    "    dp[i] = dp[i-1] + 1\n",
    "print(dp[n])"
   ]
  },
  {
   "cell_type": "markdown",
   "metadata": {},
   "source": []
  }
 ],
 "metadata": {
  "kernelspec": {
   "display_name": "base",
   "language": "python",
   "name": "python3"
  },
  "language_info": {
   "codemirror_mode": {
    "name": "ipython",
    "version": 3
   },
   "file_extension": ".py",
   "mimetype": "text/x-python",
   "name": "python",
   "nbconvert_exporter": "python",
   "pygments_lexer": "ipython3",
   "version": "3.9.12"
  }
 },
 "nbformat": 4,
 "nbformat_minor": 2
}
