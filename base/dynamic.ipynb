{
 "cells": [
  {
   "cell_type": "markdown",
   "metadata": {},
   "source": [
    "**Динамическое программирование.**"
   ]
  },
  {
   "cell_type": "markdown",
   "metadata": {},
   "source": [
    "**Платная лестница.** Чтобы наступить на i-тую ступеньку лестницы, состоящей из n ступенек, нужно заплатить arr[i] рублей. Мальчик умеет либо перешагивать на следующую ступеньку, либо перепрыгивать через одну. Необходимо определить минимальную сумму, необходимую для поднятия по лестнице."
   ]
  },
  {
   "cell_type": "code",
   "execution_count": 11,
   "metadata": {},
   "outputs": [
    {
     "name": "stdout",
     "output_type": "stream",
     "text": [
      "2\n"
     ]
    }
   ],
   "source": [
    "arr = [1, 3, 1]\n",
    "n = len(arr)\n",
    "cost = [10**10] * n\n",
    "cost[0] = arr[0]\n",
    "cost[1] = arr[0] + arr[1]\n",
    "for i in range(2, n):\n",
    "    cost[i] = min(cost[i-1], cost[i - 2]) + arr[i]\n",
    "print(cost[n-1])"
   ]
  },
  {
   "cell_type": "markdown",
   "metadata": {},
   "source": [
    "**Задача.** Необходимо посчитать количество последовательностей длины N, состоящих из 0 и 1, в которых никакие две единицы не стоят рядом."
   ]
  },
  {
   "cell_type": "markdown",
   "metadata": {},
   "source": [
    "**Решение:** число $x_n$ можно получить двумя способами: либо приписать 0 к строке длины i - 1, либо приписать 01 к строке длины i - 2."
   ]
  },
  {
   "cell_type": "code",
   "execution_count": 37,
   "metadata": {},
   "outputs": [
    {
     "name": "stdout",
     "output_type": "stream",
     "text": [
      "5\n"
     ]
    }
   ],
   "source": [
    "n = 3\n",
    "dp = [0] * n\n",
    "dp[0] = 2\n",
    "dp[1] = 3\n",
    "for i in range(2, n):\n",
    "    dp[i] = dp[i-1] + dp[i-2]\n",
    "print(dp[n-1])"
   ]
  },
  {
   "cell_type": "markdown",
   "metadata": {},
   "source": [
    "**Задача.** Необходимо посчитать количество последовательностей длины N, состоящих из 0 и 1, в которых никакие три единицы не стоят рядом."
   ]
  },
  {
   "cell_type": "markdown",
   "metadata": {},
   "source": [
    "**Решение:** число $x_n$ можно получить $ тремя способами: либо приписать 0 к строке длины i - 1, либо приписать 01 к строке длины i - 2, либо приписать 011 к строке длины i - 3."
   ]
  },
  {
   "cell_type": "code",
   "execution_count": 36,
   "metadata": {},
   "outputs": [
    {
     "name": "stdout",
     "output_type": "stream",
     "text": [
      "136\n"
     ]
    }
   ],
   "source": [
    "n = 8\n",
    "dp = [0] * n\n",
    "dp[0] = 2\n",
    "dp[1] = 4\n",
    "dp[2] = 7\n",
    "for i in range(2, n):\n",
    "    dp[i] = dp[i-1] + dp[i-2] + dp[i-3]\n",
    "print(dp[n-1])"
   ]
  },
  {
   "cell_type": "markdown",
   "metadata": {},
   "source": [
    "**Задача.** Калькулятор умеет выполнять три действия:\n",
    "\n",
    "1. Прибавить к числу 1.\n",
    "2. Умножить число на 2.\n",
    "3. Умножить число на 3.\n",
    "\n",
    "Определите, за какое наименьшее число операций можно получить из 1 число N."
   ]
  },
  {
   "cell_type": "code",
   "execution_count": 61,
   "metadata": {},
   "outputs": [
    {
     "name": "stdout",
     "output_type": "stream",
     "text": [
      "7\n"
     ]
    }
   ],
   "source": [
    "n = 128\n",
    "dp = [0] * (n + 1)\n",
    "dp[0] = -1\n",
    "for i in range(1, n + 1):\n",
    "    if i % 2 == 0:\n",
    "        dp[i] = dp[i//2] + 1\n",
    "        continue\n",
    "    if i % 3 == 0:\n",
    "        dp[i] = dp[i//3] + 1\n",
    "        continue\n",
    "    dp[i] = dp[i-1] + 1\n",
    "print(dp[n])"
   ]
  },
  {
   "cell_type": "markdown",
   "metadata": {},
   "source": [
    "**1025. Divisor Game**\n",
    "\n",
    "Easy\n",
    "\n",
    "Alice and Bob take turns playing a game, with Alice starting first.\n",
    "\n",
    "Initially, there is a number n on the chalkboard. On each player's turn, that player makes a move consisting of:\n",
    "\n",
    "Choosing any x with 0 < x < n and n % x == 0.\n",
    "Replacing the number n on the chalkboard with n - x.\n",
    "Also, if a player cannot make a move, they lose the game.\n",
    "\n",
    "Return true if and only if Alice wins the game, assuming both players play optimally."
   ]
  },
  {
   "cell_type": "markdown",
   "metadata": {},
   "source": [
    "**Example 1:**\n",
    "\n",
    "**Input:** n = 2\n",
    "\n",
    "**Output:** true\n",
    "\n",
    "**Explanation:** Alice chooses 1, and Bob has no more moves.\n",
    "\n",
    "**Example 2:**\n",
    "\n",
    "**Input:** n = 3\n",
    "\n",
    "**Output:** false\n",
    "\n",
    "**Explanation:** Alice chooses 1, Bob chooses 1, and Alice has no more moves."
   ]
  },
  {
   "cell_type": "code",
   "execution_count": 74,
   "metadata": {},
   "outputs": [
    {
     "name": "stdout",
     "output_type": "stream",
     "text": [
      "true\n"
     ]
    }
   ],
   "source": [
    "n = 4\n",
    "dp = [0] * (n + 1)\n",
    "for i in range(2, n + 1):\n",
    "    for j in range(1, int(i**0.5) + 1):\n",
    "        if i % j == 0 and dp[i-j] == 0:\n",
    "            dp[i] = 1\n",
    "print('true') if dp[n] else print('false')"
   ]
  },
  {
   "cell_type": "markdown",
   "metadata": {},
   "source": [
    "Общая закономерность (0 - проигрыш игрока при таком количестве камушков, 1 - выигрыш):\n",
    "1. 0\n",
    "2. 1\n",
    "3. 0\n",
    "4. 1\n",
    "5. 0\n",
    "6. 1\n",
    "7. 0\n",
    "8. 1\n",
    "9. 0\n",
    "\n",
    "..."
   ]
  },
  {
   "cell_type": "markdown",
   "metadata": {},
   "source": [
    "**746. Min Cost Climbing Stairs**\n",
    "\n",
    "Easy\n",
    "\n",
    "You are given an integer array cost where cost[i] is the cost of ith step on a staircase. Once you pay the cost, you can either climb one or two steps.\n",
    "\n",
    "You can either start from the step with index 0, or the step with index 1.\n",
    "\n",
    "Return the minimum cost to reach the top of the floor."
   ]
  },
  {
   "cell_type": "markdown",
   "metadata": {},
   "source": [
    "**Input:** cost = [10,15,20]\n",
    "\n",
    "**Output:** 15\n",
    "\n",
    "**Explanation:** You will start at index 1.\n",
    "- Pay 15 and climb two steps to reach the top.\n",
    "The total cost is 15."
   ]
  },
  {
   "cell_type": "code",
   "execution_count": 77,
   "metadata": {},
   "outputs": [
    {
     "name": "stdout",
     "output_type": "stream",
     "text": [
      "15\n"
     ]
    }
   ],
   "source": [
    "cost = [10, 15, 20]\n",
    "n = len(cost)\n",
    "dp = [10**6] * n\n",
    "dp[0] = cost[0]\n",
    "dp[1] = cost[1]\n",
    "for i in range(2, n):\n",
    "    dp[i] = min(dp[i - 1], dp[i - 2]) + cost[i]\n",
    "print(min(dp[n-1], dp[n-2]))"
   ]
  },
  {
   "cell_type": "markdown",
   "metadata": {},
   "source": []
  }
 ],
 "metadata": {
  "kernelspec": {
   "display_name": "base",
   "language": "python",
   "name": "python3"
  },
  "language_info": {
   "codemirror_mode": {
    "name": "ipython",
    "version": 3
   },
   "file_extension": ".py",
   "mimetype": "text/x-python",
   "name": "python",
   "nbconvert_exporter": "python",
   "pygments_lexer": "ipython3",
   "version": "3.9.12"
  }
 },
 "nbformat": 4,
 "nbformat_minor": 2
}
