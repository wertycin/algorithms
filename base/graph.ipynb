{
 "cells": [
  {
   "cell_type": "markdown",
   "metadata": {},
   "source": [
    "**LCA** - lowest common ancestor (наименьший общий предок).\n",
    "Двоичные прыжки => находим LCA за O(logN) (**амортизированное время**)."
   ]
  },
  {
   "cell_type": "markdown",
   "metadata": {},
   "source": [
    "Посчитаем массивы времен входа и выхода $t_{in}$ и $t_{out}$ при обходе DFS. Тогда p – общий предок v и u тогда и только тогда, когда\n",
    "\n",
    "$t_{in}^p \\geq t_{in}^u \\geq t_{out}^p$  **and**  $t_{in}^p \\geq t_{in}^v \\geq t_{out}^p$"
   ]
  },
  {
   "cell_type": "markdown",
   "metadata": {},
   "source": [
    "**Удаление клеток**\n",
    "\n",
    "(Время: 1 сек. Память: 16 Мб)\n",
    "Из прямоугольного листа клетчатой бумаги (N строк, M столбцов) удалили некоторые клетки. На сколько кусков распадётся оставшаяся часть листа? Две клетки не распадаются, если они имеют общую сторону.\n",
    "\n",
    "В первой строке входного файла INPUT.TXT находятся целые числа N и M, в следующих N строках – по M символов (1 ≤ N, M ≤ 100). Если клетка не была вырезана, этому соответствует знак #, если вырезана – точка."
   ]
  },
  {
   "cell_type": "code",
   "execution_count": null,
   "metadata": {},
   "outputs": [],
   "source": [
    "# input\n",
    "# 4 8\n",
    "# #.##.#.#\n",
    "# ......##\n",
    "# #.###.##\n",
    "# ##.##.##\n",
    "# output\n",
    "# 6"
   ]
  },
  {
   "cell_type": "code",
   "execution_count": 17,
   "metadata": {},
   "outputs": [
    {
     "name": "stdout",
     "output_type": "stream",
     "text": [
      "2\n"
     ]
    }
   ],
   "source": [
    "from collections import deque\n",
    "n, m = map(int, input().split())\n",
    "desk = [[0] * m for _ in range(n)]\n",
    "visited = [[0] * m for _ in range(n)]\n",
    "for i in range(n):\n",
    "    s = input()\n",
    "    for j in range(m):\n",
    "        if s[j] == '#':\n",
    "            desk[i][j] = 1\n",
    "def on_board(x, y):\n",
    "    return x > -1 and x < n and y > -1 and y < m\n",
    "def bfs(x, y, desk, visited):\n",
    "    queue = deque()\n",
    "    queue.append((x, y))\n",
    "    dx, dy = [-1, 1, 0, 0], [0, 0, -1, 1]\n",
    "    visited[x][y] = 1\n",
    "    while queue:\n",
    "        x, y = queue.popleft()\n",
    "        for i in range(4):\n",
    "            nx = x + dx[i]\n",
    "            ny = y + dy[i]\n",
    "            if on_board(nx, ny) and not visited[nx][ny] and desk[nx][ny]:\n",
    "                queue.append((nx, ny))\n",
    "                visited[nx][ny] = 1\n",
    "    return\n",
    "\n",
    "ans = 0\n",
    "for i in range(n):\n",
    "    for j in range(m):\n",
    "        if desk[i][j] and not visited[i][j]:\n",
    "            bfs(i, j, desk, visited)\n",
    "            ans += 1\n",
    "print(ans)"
   ]
  },
  {
   "cell_type": "markdown",
   "metadata": {},
   "source": [
    "**Табличка**\n",
    "\n",
    "(Время: 0,5 сек. Память: 16 Мб)\n",
    "Вам дана табличка, состоящая из N строк и M столбцов. В каждой клетке таблицы стоит либо 0, либо 1. Расстоянием между клетками (x1,y1) и (x2,y2) называется |x1-x2|+|y1-y2|. Вам нужно построить другую таблицу, в которой в каждой клетке стоит расстояние от данной до ближайшей клетки, содержащей 1 (в начальной таблице). Гарантируется, что хотя бы одна 1 в таблице есть."
   ]
  },
  {
   "cell_type": "markdown",
   "metadata": {},
   "source": [
    "**input:**\n",
    "\n",
    "2 3\n",
    "\n",
    "0 0 1\n",
    "\n",
    "1 0 0\n",
    "\n",
    "**output:**\n",
    "\n",
    "1 1 0\n",
    "\n",
    "0 1 1"
   ]
  },
  {
   "cell_type": "code",
   "execution_count": 38,
   "metadata": {},
   "outputs": [
    {
     "name": "stdout",
     "output_type": "stream",
     "text": [
      "1 1 0\n",
      "0 1 1\n"
     ]
    }
   ],
   "source": [
    "from collections import deque\n",
    "n, m = map(int, input().split())\n",
    "desk = []\n",
    "new_desk = [[10**10] * m for _ in range(n)]\n",
    "visited = [[0] * m for _ in range(n)]\n",
    "for i in range(n):\n",
    "    desk.append(list(map(int, input().split())))\n",
    "points = []\n",
    "for i in range(n):\n",
    "    for j in range(m):\n",
    "        if desk[i][j]:\n",
    "            points.append([i, j])\n",
    "def on_board(x, y):\n",
    "    return x > -1 and x < n and y > -1 and y < m\n",
    "def bfs(points, visited, new_desk):\n",
    "    queue = deque()\n",
    "    for x, y in points:\n",
    "        visited[x][y] = 1\n",
    "        new_desk[x][y] = 0\n",
    "        queue.append((x, y))\n",
    "    dx, dy = [-1, 1, 0, 0], [0, 0, -1, 1]\n",
    "    while queue:\n",
    "        x, y = queue.popleft()\n",
    "        for i in range(4):\n",
    "            nx = x + dx[i]\n",
    "            ny = y + dy[i]\n",
    "            if on_board(nx, ny) and not visited[nx][ny]:\n",
    "                queue.append((nx, ny))\n",
    "                visited[nx][ny] = 1\n",
    "                new_desk[nx][ny] = min(new_desk[nx][ny], new_desk[x][y] + 1)\n",
    "    return\n",
    "\n",
    "\n",
    "bfs(points, visited, new_desk)\n",
    "               \n",
    "for i in range(n):\n",
    "    print(' '.join(str(j) for j in new_desk[i]))"
   ]
  },
  {
   "cell_type": "code",
   "execution_count": 31,
   "metadata": {},
   "outputs": [
    {
     "name": "stdout",
     "output_type": "stream",
     "text": [
      "2 1\n"
     ]
    }
   ],
   "source": [
    "for i, j in [[2, 1]]:\n",
    "    print(i, j)"
   ]
  },
  {
   "cell_type": "code",
   "execution_count": 10,
   "metadata": {},
   "outputs": [
    {
     "name": "stdout",
     "output_type": "stream",
     "text": [
      "deque([]) 1 2\n"
     ]
    }
   ],
   "source": [
    "from collections import deque\n",
    "a = deque()\n",
    "a.append((1, 2))\n",
    "x, y = a.popleft()\n",
    "print(a, x, y)"
   ]
  },
  {
   "cell_type": "markdown",
   "metadata": {},
   "source": []
  }
 ],
 "metadata": {
  "kernelspec": {
   "display_name": "base",
   "language": "python",
   "name": "python3"
  },
  "language_info": {
   "codemirror_mode": {
    "name": "ipython",
    "version": 3
   },
   "file_extension": ".py",
   "mimetype": "text/x-python",
   "name": "python",
   "nbconvert_exporter": "python",
   "pygments_lexer": "ipython3",
   "version": "3.9.12"
  }
 },
 "nbformat": 4,
 "nbformat_minor": 2
}
