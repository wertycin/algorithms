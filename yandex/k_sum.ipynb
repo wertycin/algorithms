{
 "cells": [
  {
   "cell_type": "code",
   "execution_count": 7,
   "metadata": {},
   "outputs": [],
   "source": [
    "n, k = map(int, input().split())\n",
    "a = list(map(int, input().split()))\n",
    "b = list(map(int, input().split()))\n",
    "b.sort()"
   ]
  },
  {
   "cell_type": "code",
   "execution_count": 17,
   "metadata": {},
   "outputs": [],
   "source": [
    "l = 0\n",
    "r = 2*10**9\n",
    "answer = 0"
   ]
  },
  {
   "cell_type": "code",
   "execution_count": 18,
   "metadata": {},
   "outputs": [],
   "source": [
    "def ok(x, a, b, k):\n",
    "    cnt = 0\n",
    "    for i in range(n):\n",
    "        # a[i] - fixed\n",
    "        # find count of all pairs a[i], b[j]: a[i] + b[j] <= x\n",
    "        l = 0\n",
    "        r = n - 1\n",
    "        ans = -1\n",
    "        while l <= r:\n",
    "            mid = (l + r) // 2\n",
    "            if b[mid] <= x - a[i]:\n",
    "                l = mid + 1\n",
    "                ans = mid\n",
    "            else:\n",
    "                r = mid - 1\n",
    "        cnt += (ans + 1)\n",
    "    return cnt >= k"
   ]
  },
  {
   "cell_type": "code",
   "execution_count": 19,
   "metadata": {},
   "outputs": [],
   "source": [
    "while l <= r:\n",
    "    mid = (l+r) // 2\n",
    "    if ok(mid, a, b, k):\n",
    "        answer = mid\n",
    "        r = mid - 1\n",
    "    else:\n",
    "        l = mid + 1"
   ]
  },
  {
   "cell_type": "code",
   "execution_count": 20,
   "metadata": {},
   "outputs": [
    {
     "name": "stdout",
     "output_type": "stream",
     "text": [
      "3\n"
     ]
    }
   ],
   "source": [
    "print(answer)"
   ]
  },
  {
   "cell_type": "code",
   "execution_count": null,
   "metadata": {},
   "outputs": [],
   "source": []
  }
 ],
 "metadata": {
  "kernelspec": {
   "display_name": "base",
   "language": "python",
   "name": "python3"
  },
  "language_info": {
   "codemirror_mode": {
    "name": "ipython",
    "version": 3
   },
   "file_extension": ".py",
   "mimetype": "text/x-python",
   "name": "python",
   "nbconvert_exporter": "python",
   "pygments_lexer": "ipython3",
   "version": "3.9.12"
  }
 },
 "nbformat": 4,
 "nbformat_minor": 2
}
