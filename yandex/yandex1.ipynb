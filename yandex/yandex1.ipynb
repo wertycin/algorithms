{
 "cells": [
  {
   "cell_type": "markdown",
   "metadata": {},
   "source": [
    "**A. Покраска деревьев**"
   ]
  },
  {
   "cell_type": "code",
   "execution_count": 10,
   "metadata": {},
   "outputs": [
    {
     "name": "stdout",
     "output_type": "stream",
     "text": [
      "25\n"
     ]
    }
   ],
   "source": [
    "p, v = map(int, input().split())\n",
    "q, m = map(int, input().split())\n",
    "a1, b1 = p - v, p + v\n",
    "a2, b2 = q - m, q + m\n",
    "d = 0\n",
    "a = max(a1, a2)\n",
    "b = min(b1, b2)\n",
    "if a <= b:\n",
    "    d = b - a + 1\n",
    "print(b1 + b2 - a1 - a2 + 2 - d)"
   ]
  },
  {
   "cell_type": "markdown",
   "metadata": {},
   "source": [
    "**B. Футбольный комментатор**"
   ]
  },
  {
   "cell_type": "code",
   "execution_count": 26,
   "metadata": {},
   "outputs": [
    {
     "name": "stdout",
     "output_type": "stream",
     "text": [
      "6\n"
     ]
    }
   ],
   "source": [
    "a1, b1 = map(int, input().split(':'))\n",
    "a2, b2 = map(int, input().split(':'))\n",
    "status = int(input())\n",
    "# print(a1, b1, a2, b2, status)\n",
    "def sol(a1, a2, b1, b2, status):\n",
    "    a = a1 + a2\n",
    "    b = b1 + b2\n",
    "    if a > b:\n",
    "        return 0\n",
    "    if b > a:\n",
    "        return b - a + 1 if status == 2 else b - a\n",
    "    if status == 2 and a1 > a2:\n",
    "        return 0\n",
    "    if status == 1 and a2 > a1:\n",
    "        return 0\n",
    "    return 1\n",
    "print(sol(a1, a2, b1, b2, status))\n",
    "    "
   ]
  },
  {
   "cell_type": "markdown",
   "metadata": {},
   "source": [
    "**C. Форматирование файла**"
   ]
  },
  {
   "cell_type": "code",
   "execution_count": 29,
   "metadata": {},
   "outputs": [
    {
     "name": "stdout",
     "output_type": "stream",
     "text": [
      "8\n"
     ]
    }
   ],
   "source": [
    "n = int(input())\n",
    "sum = 0\n",
    "for _ in range(n):\n",
    "    spaces = int(input())\n",
    "    sum += spaces // 4\n",
    "    if spaces % 4==3:\n",
    "        sum+=2\n",
    "    else:\n",
    "        sum+=spaces % 4\n",
    "print(sum)"
   ]
  },
  {
   "cell_type": "markdown",
   "metadata": {},
   "source": [
    "**D. Слоны и ладьи**"
   ]
  },
  {
   "cell_type": "code",
   "execution_count": 30,
   "metadata": {},
   "outputs": [],
   "source": [
    "a = []\n"
   ]
  },
  {
   "cell_type": "markdown",
   "metadata": {},
   "source": [
    "**E. Прибыльный стартап**"
   ]
  },
  {
   "cell_type": "code",
   "execution_count": 81,
   "metadata": {},
   "outputs": [
    {
     "name": "stdout",
     "output_type": "stream",
     "text": [
      "21\n"
     ]
    }
   ],
   "source": [
    "n, k, d = map(int, input().split())\n",
    "ans = n\n",
    "for i in range(d):\n",
    "    ans *= 10\n",
    "    if ans % k == 0:\n",
    "        continue\n",
    "    if k - ans % k > 9:\n",
    "        ans = - 1\n",
    "        break\n",
    "    ans += k - ans % k\n",
    "print(ans)"
   ]
  },
  {
   "cell_type": "code",
   "execution_count": 75,
   "metadata": {},
   "outputs": [
    {
     "data": {
      "text/plain": [
       "30000000.0"
      ]
     },
     "execution_count": 75,
     "metadata": {},
     "output_type": "execute_result"
    }
   ],
   "source": [
    "2942092080000000.0 // 98069736.0"
   ]
  },
  {
   "cell_type": "markdown",
   "metadata": {},
   "source": []
  },
  {
   "cell_type": "code",
   "execution_count": 33,
   "metadata": {},
   "outputs": [
    {
     "data": {
      "text/plain": [
       "9"
      ]
     },
     "execution_count": 33,
     "metadata": {},
     "output_type": "execute_result"
    }
   ],
   "source": [
    "101 % 23"
   ]
  },
  {
   "cell_type": "code",
   "execution_count": null,
   "metadata": {},
   "outputs": [],
   "source": []
  }
 ],
 "metadata": {
  "kernelspec": {
   "display_name": "base",
   "language": "python",
   "name": "python3"
  },
  "language_info": {
   "codemirror_mode": {
    "name": "ipython",
    "version": 3
   },
   "file_extension": ".py",
   "mimetype": "text/x-python",
   "name": "python",
   "nbconvert_exporter": "python",
   "pygments_lexer": "ipython3",
   "version": "3.9.12"
  }
 },
 "nbformat": 4,
 "nbformat_minor": 2
}
