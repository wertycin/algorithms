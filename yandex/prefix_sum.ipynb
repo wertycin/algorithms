{
 "cells": [
  {
   "cell_type": "markdown",
   "metadata": {},
   "source": [
    "Занятие по префиксным суммам"
   ]
  },
  {
   "cell_type": "markdown",
   "metadata": {},
   "source": [
    "1480 leetcode (найти префиксную сумму)"
   ]
  },
  {
   "cell_type": "code",
   "execution_count": 39,
   "metadata": {},
   "outputs": [],
   "source": [
    "arr = [0, 2, 4, 5, 10]\n",
    "n = len(arr)\n",
    "prefix_sum = [0] * (n + 1)\n",
    "for i in range(n):\n",
    "    prefix_sum[i+1] = prefix_sum[i] + arr[i]"
   ]
  },
  {
   "cell_type": "code",
   "execution_count": 40,
   "metadata": {},
   "outputs": [
    {
     "name": "stdout",
     "output_type": "stream",
     "text": [
      "[0, 0, 2, 6, 11, 21]\n"
     ]
    }
   ],
   "source": [
    "print(prefix_sum)"
   ]
  },
  {
   "cell_type": "markdown",
   "metadata": {},
   "source": [
    "2574 leetcode (найти префиксную + суффиксную суммы)"
   ]
  },
  {
   "cell_type": "code",
   "execution_count": 41,
   "metadata": {},
   "outputs": [],
   "source": [
    "suffix_sum = [0] * (n + 1)\n",
    "for i in range(n):\n",
    "    suffix_sum[n - i - 1] = suffix_sum[n - i] + arr[n - i - 1]"
   ]
  },
  {
   "cell_type": "code",
   "execution_count": 42,
   "metadata": {},
   "outputs": [
    {
     "name": "stdout",
     "output_type": "stream",
     "text": [
      "[21, 21, 19, 15, 10, 0]\n"
     ]
    }
   ],
   "source": [
    "print(suffix_sum)"
   ]
  },
  {
   "cell_type": "code",
   "execution_count": 44,
   "metadata": {},
   "outputs": [
    {
     "name": "stdout",
     "output_type": "stream",
     "text": [
      "[21, 19, 13, 4, 11]\n"
     ]
    }
   ],
   "source": [
    "ans = [0] * n\n",
    "prefix_sum_ = prefix_sum[:n]\n",
    "suffix_sum_ = suffix_sum[1:]\n",
    "for i in range(n):\n",
    "    ans[i] = abs(prefix_sum_[i] - suffix_sum_[i])\n",
    "print(ans)"
   ]
  },
  {
   "cell_type": "markdown",
   "metadata": {},
   "source": [
    "**1588. Sum of All Odd Length Subarrays**"
   ]
  },
  {
   "cell_type": "markdown",
   "metadata": {},
   "source": [
    "Given an array of positive integers arr, return the sum of all possible odd-length subarrays of arr.\n",
    "\n",
    "A subarray is a contiguous subsequence of the array.\n",
    "https://leetcode.com/problems/sum-of-all-odd-length-subarrays/description/"
   ]
  },
  {
   "cell_type": "code",
   "execution_count": 45,
   "metadata": {},
   "outputs": [],
   "source": [
    "a = list(map(int, input().split()))"
   ]
  },
  {
   "cell_type": "code",
   "execution_count": 50,
   "metadata": {},
   "outputs": [
    {
     "name": "stdout",
     "output_type": "stream",
     "text": [
      "Массив:  [1, 4, 2, 5, 3] \n",
      "Префиксная сумма:  [0, 1, 5, 7, 12, 15]\n"
     ]
    }
   ],
   "source": [
    "n = len(a)\n",
    "prefix_sum = [0] * (n + 1)\n",
    "for i in range(n):\n",
    "    prefix_sum[i + 1] = prefix_sum[i] + a[i]\n",
    "print(\"Массив: \", a, \"\\nПрефиксная сумма: \", prefix_sum)"
   ]
  },
  {
   "cell_type": "code",
   "execution_count": 55,
   "metadata": {},
   "outputs": [
    {
     "name": "stdout",
     "output_type": "stream",
     "text": [
      "58\n"
     ]
    }
   ],
   "source": [
    "sum = 0\n",
    "window = 1\n",
    "while window <= n:\n",
    "    for i in range(n - window + 1):\n",
    "        sum += prefix_sum[i + window] - prefix_sum[i]\n",
    "    window += 2\n",
    "print(sum)"
   ]
  },
  {
   "cell_type": "markdown",
   "metadata": {},
   "source": [
    "**2485. Find the Pivot Integer**\n",
    "\n",
    "Given a positive integer n, find the pivot integer x such that:\n",
    "\n",
    "The sum of all elements between 1 and x inclusively equals the sum of all elements between x and n inclusively.\n",
    "Return the pivot integer x. If no such integer exists, return -1. It is guaranteed that there will be at most one pivot index for the given input.\n",
    "https://leetcode.com/problems/find-the-pivot-integer/description/"
   ]
  },
  {
   "cell_type": "code",
   "execution_count": 64,
   "metadata": {},
   "outputs": [
    {
     "name": "stdout",
     "output_type": "stream",
     "text": [
      "6\n"
     ]
    }
   ],
   "source": [
    "def solution(n):\n",
    "    for i in range(n):\n",
    "        if (i*(i+1)/2 == (n*(n+1))/2 - (i+1)*(i+2)/2):\n",
    "            return i + 1\n",
    "    return -1\n",
    "print(solution(8))\n",
    "    "
   ]
  },
  {
   "cell_type": "markdown",
   "metadata": {},
   "source": [
    "**2389. Longest Subsequence With Limited Sum**\n",
    "\n",
    "You are given an integer array nums of length n, and an integer array queries of length m.\n",
    "\n",
    "Return an array answer of length m where answer[i] is the maximum size of a subsequence that you can take from nums such that the sum of its elements is less than or equal to queries[i].\n",
    "\n",
    "A subsequence is an array that can be derived from another array by deleting some or no elements without changing the order of the remaining elements. https://leetcode.com/problems/longest-subsequence-with-limited-sum/description/"
   ]
  },
  {
   "cell_type": "markdown",
   "metadata": {},
   "source": [
    "Решение:\n",
    "1) Сортируем массив\n",
    "2) Находим префиксные суммы\n",
    "3) Находим максимальное число, не превосходящее данное (бин поиск)"
   ]
  },
  {
   "cell_type": "code",
   "execution_count": 65,
   "metadata": {},
   "outputs": [],
   "source": [
    "nums = list(map(int, input().split()))\n",
    "queries = list(map(int, input().split()))"
   ]
  },
  {
   "cell_type": "code",
   "execution_count": 111,
   "metadata": {},
   "outputs": [],
   "source": [
    "# 1. Сортировка\n",
    "nums.sort()"
   ]
  },
  {
   "cell_type": "code",
   "execution_count": 112,
   "metadata": {},
   "outputs": [],
   "source": [
    "# 2. Префиксная сумма\n",
    "n = len(nums)\n",
    "prefix_sum = [0] * (n + 1)\n",
    "for i in range(n):\n",
    "    prefix_sum[i + 1] = prefix_sum[i] + nums[i]"
   ]
  },
  {
   "cell_type": "code",
   "execution_count": 113,
   "metadata": {},
   "outputs": [],
   "source": [
    "# Бинарный поиск\n",
    "def search(array, k):\n",
    "    n = len(array)\n",
    "    l = 0\n",
    "    r = n - 1\n",
    "    while l <= r:\n",
    "            mid = (l + r) // 2\n",
    "            if array[mid] <= k:\n",
    "                l = mid + 1\n",
    "            else:\n",
    "                r = mid - 1\n",
    "    return l - 1"
   ]
  },
  {
   "cell_type": "code",
   "execution_count": 122,
   "metadata": {},
   "outputs": [
    {
     "name": "stdout",
     "output_type": "stream",
     "text": [
      "[2, 3, 4]\n"
     ]
    }
   ],
   "source": [
    "ans = [search(prefix_sum, querie) for querie in queries]\n",
    "print(ans)"
   ]
  },
  {
   "cell_type": "markdown",
   "metadata": {},
   "source": [
    "**1413. Minimum Value to Get Positive Step by Step Sum**\n",
    "Given an array of integers nums, you start with an initial positive value startValue.\n",
    "\n",
    "In each iteration, you calculate the step by step sum of startValue plus elements in nums (from left to right).\n",
    "\n",
    "Return the minimum positive value of startValue such that the step by step sum is never less than 1. https://leetcode.com/problems/minimum-value-to-get-positive-step-by-step-sum/description/"
   ]
  },
  {
   "cell_type": "markdown",
   "metadata": {},
   "source": [
    "Решение:\n",
    "\n",
    "1. Находим префиксные суммы O(n)\n",
    "2. Находим минимальную префиксную сумму из всех O(n)\n",
    "3. Берем модуль и прибавляем +1"
   ]
  },
  {
   "cell_type": "code",
   "execution_count": 137,
   "metadata": {},
   "outputs": [],
   "source": [
    "nums = list(map(int, input().split()))"
   ]
  },
  {
   "cell_type": "code",
   "execution_count": 139,
   "metadata": {},
   "outputs": [],
   "source": [
    "n = len(nums)\n",
    "prefix_sum = [0] * (n + 1)\n",
    "for i in range(n):\n",
    "    prefix_sum[i + 1] = prefix_sum[i] + nums[i]"
   ]
  },
  {
   "cell_type": "code",
   "execution_count": 140,
   "metadata": {},
   "outputs": [
    {
     "name": "stdout",
     "output_type": "stream",
     "text": [
      "[-3, 2, -3, 4, 2]\n"
     ]
    }
   ],
   "source": [
    "print(nums)"
   ]
  },
  {
   "cell_type": "code",
   "execution_count": 142,
   "metadata": {},
   "outputs": [
    {
     "name": "stdout",
     "output_type": "stream",
     "text": [
      "5\n"
     ]
    }
   ],
   "source": [
    "min_value = prefix_sum[1]\n",
    "for i in range(1, n+1):\n",
    "    min_value = min(min_value, prefix_sum[i])\n",
    "if min_value < 0:\n",
    "    print(abs(min_value)+1)\n",
    "else:\n",
    "    print(1)"
   ]
  },
  {
   "cell_type": "markdown",
   "metadata": {},
   "source": [
    "**1310. XOR Queries of a Subarray**\n",
    "You are given an array arr of positive integers. You are also given the array queries where queries[i] = [lefti, righti].\n",
    "\n",
    "For each query i compute the XOR of elements from lefti to righti (that is, arr[lefti] XOR arr[lefti + 1] XOR ... XOR arr[righti] ).\n",
    "\n",
    "Return an array answer where answer[i] is the answer to the ith query. https://leetcode.com/problems/xor-queries-of-a-subarray/description/"
   ]
  },
  {
   "cell_type": "markdown",
   "metadata": {},
   "source": [
    "Решение:\n",
    "\n",
    "1) Поскольку $XOR$ обратим ($XOR^{-1} = XOR$), посчитаем префиксный XOR\n",
    "2) answer(l, r) = prefix_xor[r] $XOR$ prefix_xor[l]"
   ]
  },
  {
   "cell_type": "code",
   "execution_count": 163,
   "metadata": {},
   "outputs": [],
   "source": [
    "arr = [1,3,4,8]\n",
    "queries = [[0,1],[1,2],[0,3],[3,3]]"
   ]
  },
  {
   "cell_type": "code",
   "execution_count": 167,
   "metadata": {},
   "outputs": [],
   "source": [
    "n = len(arr)\n",
    "prefix_xor = [0] * (n + 1)\n",
    "for i in range(n):\n",
    "    prefix_xor[i+1] = prefix_xor[i] ^ arr[i]"
   ]
  },
  {
   "cell_type": "code",
   "execution_count": 168,
   "metadata": {},
   "outputs": [
    {
     "name": "stdout",
     "output_type": "stream",
     "text": [
      "[0, 1, 2, 6, 14]\n"
     ]
    }
   ],
   "source": [
    "print(prefix_xor)"
   ]
  },
  {
   "cell_type": "code",
   "execution_count": 169,
   "metadata": {},
   "outputs": [
    {
     "name": "stdout",
     "output_type": "stream",
     "text": [
      "[2, 7, 14, 8]\n"
     ]
    }
   ],
   "source": [
    "answers = []\n",
    "for querie in queries:\n",
    "    l, r = querie[0], querie[1] + 1\n",
    "    answer = prefix_xor[r] ^ prefix_xor[l]\n",
    "    answers.append(answer)\n",
    "print(answers)"
   ]
  },
  {
   "cell_type": "markdown",
   "metadata": {},
   "source": [
    "**2381. Shifting Letters II**\n",
    "You are given a string s of lowercase English letters and a 2D integer array shifts where shifts[i] = [starti, endi, directioni]. For every i, shift the characters in s from the index starti to the index endi (inclusive) forward if directioni = 1, or shift the characters backward if directioni = 0.\n",
    "\n",
    "Shifting a character forward means replacing it with the next letter in the alphabet (wrapping around so that 'z' becomes 'a'). Similarly, shifting a character backward means replacing it with the previous letter in the alphabet (wrapping around so that 'a' becomes 'z').\n",
    "\n",
    "Return the final string after all such shifts to s are applied. https://leetcode.com/problems/shifting-letters-ii/description/"
   ]
  },
  {
   "cell_type": "markdown",
   "metadata": {},
   "source": [
    "Длина строки: n, кол-во запросов: m\n",
    "\n",
    "Решение:\n",
    "\n",
    "1. Создаем разностный массив $O(n)$\n",
    "2. Применяем операции к разностному массиву $O(m)$\n",
    "3. Восстанавливаем массив по разностному $O(n)$\n",
    "4. Применяем операции к строке $O(n)$\n",
    "\n",
    "Итого: $O(n+m)$"
   ]
  },
  {
   "cell_type": "code",
   "execution_count": 198,
   "metadata": {},
   "outputs": [],
   "source": [
    "shifts = [[0,1,0],[1,2,1],[0,2,1]]\n",
    "s = \"abc\"\n",
    "n = len(s)\n",
    "a = [0] * n\n",
    "diff_a = [0] * n"
   ]
  },
  {
   "cell_type": "code",
   "execution_count": 199,
   "metadata": {},
   "outputs": [
    {
     "name": "stdout",
     "output_type": "stream",
     "text": [
      "[0, 1, 1]\n"
     ]
    }
   ],
   "source": [
    "for command in shifts:\n",
    "    l, r, shift = command[0], command[1], command[2]\n",
    "    if shift == 0: shift = -1\n",
    "    r += 1\n",
    "    diff_a[l] += shift\n",
    "    if r < n: diff_a[r] -= shift\n",
    "print(diff_a)"
   ]
  },
  {
   "cell_type": "code",
   "execution_count": 200,
   "metadata": {},
   "outputs": [
    {
     "name": "stdout",
     "output_type": "stream",
     "text": [
      "[0, 1, 2]\n"
     ]
    }
   ],
   "source": [
    "a[0] = diff_a[0]\n",
    "for i in range(n - 1):\n",
    "    a[i + 1] += a[i] + diff_a[i+1]\n",
    "print(a)"
   ]
  },
  {
   "cell_type": "code",
   "execution_count": 218,
   "metadata": {},
   "outputs": [
    {
     "name": "stdout",
     "output_type": "stream",
     "text": [
      "ace\n"
     ]
    }
   ],
   "source": [
    "answer = \"\"\n",
    "for letter, shift in zip(s, a):\n",
    "    letter = chr((ord(letter)+shift - 97)%26 + 97)\n",
    "    answer += letter\n",
    "\n",
    "print(answer)"
   ]
  },
  {
   "cell_type": "markdown",
   "metadata": {},
   "source": [
    "**1124. Longest Well-Performing Interval**\n",
    "We are given hours, a list of the number of hours worked per day for a given employee.\n",
    "\n",
    "A day is considered to be a tiring day if and only if the number of hours worked is (strictly) greater than 8.\n",
    "\n",
    "A well-performing interval is an interval of days for which the number of tiring days is strictly larger than the number of non-tiring days.\n",
    "\n",
    "Return the length of the longest well-performing interval. https://leetcode.com/problems/longest-well-performing-interval/description/"
   ]
  },
  {
   "cell_type": "markdown",
   "metadata": {},
   "source": [
    "Решение:\n",
    "\n",
    "1. День загружен (>8) это +1, не загружен -1. $O(n)$\n",
    "2. Находим префиксную сумму получившегося массива из +1 и -1. $O(n)$\n",
    "3. Находим максимальный подотрезок с положительной суммой (двигаемся одним концом слева-направо, а вторым - справа-налево). $O(n^2)$\n",
    "\n",
    "**Не проходит по времени из-за $O(n^2)$**"
   ]
  },
  {
   "cell_type": "code",
   "execution_count": 243,
   "metadata": {},
   "outputs": [
    {
     "name": "stdout",
     "output_type": "stream",
     "text": [
      "[-1, -1, 1]\n"
     ]
    }
   ],
   "source": [
    "hours = [6,6,9]\n",
    "n = len(hours)\n",
    "days = [1 if hour > 8 else -1 for hour in hours]\n",
    "print(days)"
   ]
  },
  {
   "cell_type": "code",
   "execution_count": 244,
   "metadata": {},
   "outputs": [
    {
     "name": "stdout",
     "output_type": "stream",
     "text": [
      "[0, -1, -2, -1]\n"
     ]
    }
   ],
   "source": [
    "prefix_sum = [0] * (n + 1)\n",
    "for i in range(n):\n",
    "    prefix_sum[i + 1] = prefix_sum[i] + days[i]\n",
    "print(prefix_sum)"
   ]
  },
  {
   "cell_type": "code",
   "execution_count": 245,
   "metadata": {},
   "outputs": [
    {
     "name": "stdout",
     "output_type": "stream",
     "text": [
      "1\n"
     ]
    }
   ],
   "source": [
    "ans = 0\n",
    "for i in range(n):\n",
    "    for j in range(n, i, -1):\n",
    "        if prefix_sum[j] - prefix_sum[i] > 0 and j - i > ans:\n",
    "            ans = j - i\n",
    "print(ans)"
   ]
  },
  {
   "cell_type": "code",
   "execution_count": null,
   "metadata": {},
   "outputs": [],
   "source": []
  }
 ],
 "metadata": {
  "kernelspec": {
   "display_name": "base",
   "language": "python",
   "name": "python3"
  },
  "language_info": {
   "codemirror_mode": {
    "name": "ipython",
    "version": 3
   },
   "file_extension": ".py",
   "mimetype": "text/x-python",
   "name": "python",
   "nbconvert_exporter": "python",
   "pygments_lexer": "ipython3",
   "version": "3.9.12"
  }
 },
 "nbformat": 4,
 "nbformat_minor": 2
}
