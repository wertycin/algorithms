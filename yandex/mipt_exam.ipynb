{
 "cells": [
  {
   "cell_type": "code",
   "execution_count": 8,
   "metadata": {},
   "outputs": [],
   "source": [
    "import time"
   ]
  },
  {
   "cell_type": "markdown",
   "metadata": {},
   "source": [
    "**Разложение на простые множители**\n",
    "\n",
    "Вывести разложение натурального числа n на простые множители. Простые множители должны быть упорядочены по возрастанию и разделены пробелами.\n",
    "$2 ≤ n ≤ 10^6$."
   ]
  },
  {
   "cell_type": "code",
   "execution_count": 156,
   "metadata": {},
   "outputs": [
    {
     "name": "stdout",
     "output_type": "stream",
     "text": [
      "7 7\n",
      "0.0002758502960205078\n"
     ]
    }
   ],
   "source": [
    "n = int(input())\n",
    "k = n\n",
    "ans = []\n",
    "start = time.time()\n",
    "for i in range(2, int(k**0.5) + 1):\n",
    "    if n == 1:\n",
    "        break\n",
    "    while n % i == 0:\n",
    "        n = n / i\n",
    "        ans.append(i)\n",
    "if n == k:\n",
    "    ans.append(n)\n",
    "end = time.time()\n",
    "print(' '.join(str(c) for c in ans))\n",
    "print(end - start)"
   ]
  },
  {
   "cell_type": "markdown",
   "metadata": {},
   "source": [
    "**Максимальная сумма**\n",
    "\n",
    "Даны два массива целых чисел одинаковой длины A[0..n-1] и B[0..n-1]. Необходимо найти первую пару индексов i0 и j0, i0 ≤ j0, такую что A[i0] + B[j0] = max {A[i] + B[j], где 0 <= i < n, 0 <= j < n, i <= j}. Время работы - O(n).\n",
    "n ≤ 100000."
   ]
  },
  {
   "cell_type": "code",
   "execution_count": 157,
   "metadata": {},
   "outputs": [
    {
     "name": "stdout",
     "output_type": "stream",
     "text": [
      "1\n",
      "1\n",
      "2 0 0\n"
     ]
    }
   ],
   "source": [
    "n = int(input())\n",
    "a = list(map(int, input().split()))\n",
    "b = list(map(int, input().split()))\n",
    "ans_val = a[0] + b[0]\n",
    "ans_i = 0\n",
    "ans_j = 0\n",
    "max_a = a[0] - 1\n",
    "i = 0\n",
    "for j in range(n):\n",
    "    if a[i] > max_a:\n",
    "        max_a = a[i]\n",
    "        max_i = i\n",
    "    if max_a + b[j] > ans_val:\n",
    "        ans_val = max_a + b[j]\n",
    "        ans_i = max_i\n",
    "        ans_j = j\n",
    "    i += 1\n",
    "print(' '.join(str(num) for num in a))\n",
    "print(' '.join(str(num) for num in b))\n",
    "print(ans_val, ans_i, ans_j)"
   ]
  },
  {
   "cell_type": "markdown",
   "metadata": {},
   "source": [
    "**Цикл минимальной длины**\n",
    "\n",
    "Дан невзвешенный неориентированный граф. Найдите цикл минимальной длины.\n",
    "Ввод: v:кол-во вершин(макс. 50000), n:кол-во ребер(макс. 200000), n пар реберных вершин\n",
    "Вывод: одно целое число равное длине минимального цикла. Если цикла нет, то вывести -1."
   ]
  },
  {
   "cell_type": "code",
   "execution_count": 34,
   "metadata": {},
   "outputs": [
    {
     "name": "stdout",
     "output_type": "stream",
     "text": [
      "2 3 5 4\n"
     ]
    }
   ],
   "source": [
    "from queue import Queue\n",
    "\n",
    "if __name__ == \"__main__\":\n",
    "\n",
    "    def bfs(s):\n",
    "        q = Queue()\n",
    "        q.put(s)\n",
    "        d = [float('inf')] * n\n",
    "        d[s] = 0\n",
    "        p = [None] * n\n",
    "        while not q.empty():\n",
    "            u = q.get()\n",
    "            for v in adj_list[u]:\n",
    "                if d[v] == float('inf'):\n",
    "                    d[v] = d[u] + 1\n",
    "                    p[v] = u\n",
    "                    q.put(v)\n",
    "                elif v == s:\n",
    "                    cycle = []\n",
    "                    cur = u\n",
    "                    while cur is not None:\n",
    "                        cycle.append(cur)\n",
    "                        cur = p[cur]\n",
    "                    return cycle[::-1]\n",
    "        return []\n",
    "\n",
    "\n",
    "    # Считывание графа\n",
    "    n, m = map(int, input().split())\n",
    "    adj_list = [set() for _ in range(n)]\n",
    "    for _ in range(m):\n",
    "        u, v = map(int, input().split())\n",
    "        adj_list[u].add(v)\n",
    "\n",
    "    # Shortest cycle\n",
    "    shortest_cycle = []\n",
    "    cycle_len = float('inf')\n",
    "    for s in range(n):\n",
    "        cycle = bfs(s)\n",
    "        if cycle and len(cycle) < cycle_len:\n",
    "            shortest_cycle = cycle\n",
    "            cycle_len = len(cycle)\n",
    "\n",
    "    if cycle_len == float('inf'):\n",
    "        print('NO')\n",
    "    else:\n",
    "        print(*shortest_cycle)"
   ]
  },
  {
   "cell_type": "code",
   "execution_count": null,
   "metadata": {},
   "outputs": [],
   "source": [
    "from queue import Queue\n",
    "\n",
    "# Считывание графа\n",
    "n, m, s, t = map(int, input().split())\n",
    "adj_list = [set() for _ in range(n)]\n",
    "for _ in range(m):\n",
    "    u, v = map(int, input().split())\n",
    "    adj_list[u].add(v)\n",
    "    adj_list[v].add(u)\n",
    "\n",
    "# BFS\n",
    "d = [float('inf')] * n\n",
    "d[s] = 0\n",
    "p = [None] * n\n",
    "q = Queue()\n",
    "q.put(s)\n",
    "while not q.empty():\n",
    "    u = q.get() # достаем вершину из очереди\n",
    "    for v in adj_list[u]: # перебираем всех непосещенных соседей (расстояние до которых бесконечность)\n",
    "        if d[v] == float('inf'):\n",
    "            d[v] = d[u] + 1 # обновляем расстояние для соседа\n",
    "            p[v] = u # добавляем u как предка вершины v\n",
    "            q.put(v) # добавляем v в очередь\n",
    "path = []\n",
    "cur = t\n",
    "while cur is not None:\n",
    "    path.append(cur)\n",
    "    cur = p[cur]\n",
    "\n",
    "print(*path[::-1])"
   ]
  },
  {
   "cell_type": "markdown",
   "metadata": {},
   "source": [
    "**Поиск выхода из лабиринта**"
   ]
  },
  {
   "cell_type": "raw",
   "metadata": {
    "vscode": {
     "languageId": "raw"
    }
   },
   "source": [
    "6 10\n",
    "...#......\n",
    "......#.F.\n",
    "#######.##\n",
    ".....#....\n",
    ".S.#.#....\n",
    ".........."
   ]
  },
  {
   "cell_type": "code",
   "execution_count": 11,
   "metadata": {},
   "outputs": [
    {
     "name": "stdout",
     "output_type": "stream",
     "text": [
      "12\n"
     ]
    }
   ],
   "source": [
    "from queue import Queue\n",
    "n, m = map(int, input().split())\n",
    "a = []\n",
    "for i in range(n):\n",
    "    s = input()\n",
    "    for j in range(m):\n",
    "        if s[j] == 'S': start = [i, j]\n",
    "        if s[j] == 'F': final = [i, j]\n",
    "    a.append(s)\n",
    "def bfs(a, n, m, start, final):\n",
    "    d = [[float('inf') for _ in range(m)] for _ in range(n)]\n",
    "    q = Queue()\n",
    "    q.put([start[0], start[1]])\n",
    "    d[start[0]][start[1]] = 0\n",
    "    dx = [1, -1, 0, 0]\n",
    "    dy = [0, 0, 1, -1]\n",
    "    while not q.empty():\n",
    "        x, y = map(int, q.get())\n",
    "        for i in range(len(dx)):\n",
    "            x_n, y_n = x + dx[i], y + dy[i]\n",
    "            if (x_n < n and y_n < m and x_n > -1 and y_n > -1\n",
    "                and d[x_n][y_n] == float('inf') and a[x_n][y_n] != '#'):\n",
    "                d[x_n][y_n] = d[x][y] + 1\n",
    "                q.put([x_n, y_n])\n",
    "    return d[final[0]][final[1]]\n",
    "print(bfs(a, n, m, start, final))"
   ]
  },
  {
   "cell_type": "code",
   "execution_count": 43,
   "metadata": {},
   "outputs": [
    {
     "name": "stdout",
     "output_type": "stream",
     "text": [
      "[[inf, inf, inf], [inf, 0, inf], [inf, inf, inf], [inf, inf, inf]]\n"
     ]
    }
   ],
   "source": [
    "a = ['efuhe', 'sfa']\n",
    "a[1][2]\n",
    "d = [[float('inf') for _ in range(3)] for _ in range(4)]\n",
    "d[1][1] = 0\n",
    "print(d)"
   ]
  },
  {
   "cell_type": "markdown",
   "metadata": {},
   "source": [
    "**Чтение графа из файла**"
   ]
  },
  {
   "cell_type": "code",
   "execution_count": 2,
   "metadata": {},
   "outputs": [
    {
     "name": "stdout",
     "output_type": "stream",
     "text": [
      "[{1}, {0, 2}, {1, 3, 4}, {2, 4}, {2, 3}, {6}, {5}, set()]\n"
     ]
    }
   ],
   "source": [
    "f = open('graph.txt')\n",
    "n, m = map(int, f.readline().split())\n",
    "adj_list = [set() for _ in range(n)]\n",
    "for line in f:\n",
    "    u, v = map(int, line.split())\n",
    "    adj_list[u].add(v)\n",
    "    adj_list[v].add(u)\n",
    "f.close()\n",
    "print(adj_list)"
   ]
  },
  {
   "cell_type": "markdown",
   "metadata": {},
   "source": [
    "**Поиск в глубину**"
   ]
  },
  {
   "cell_type": "code",
   "execution_count": 3,
   "metadata": {},
   "outputs": [],
   "source": [
    "def dfs(adj_list, v, visited):\n",
    "    visited[v] = 1\n",
    "    for u in adj_list[v]:\n",
    "        if visited[u] != 1:\n",
    "            dfs(adj_list, u)"
   ]
  },
  {
   "cell_type": "markdown",
   "metadata": {},
   "source": [
    "**Поиск компонент связности**\n"
   ]
  },
  {
   "cell_type": "markdown",
   "metadata": {},
   "source": [
    "**Проверка наличия пути от S до E**"
   ]
  },
  {
   "cell_type": "code",
   "execution_count": 4,
   "metadata": {},
   "outputs": [
    {
     "name": "stdout",
     "output_type": "stream",
     "text": [
      "YES\n"
     ]
    }
   ],
   "source": [
    "def dfs(adj_list, v, visited):\n",
    "    visited[v] = 1\n",
    "    for u in adj_list[v]:\n",
    "        if visited[u] != 1:\n",
    "            dfs(adj_list, u, visited)\n",
    "\n",
    "start = 0\n",
    "end = 3\n",
    "visited = [0] * n\n",
    "dfs(adj_list, start, visited)\n",
    "print('YES') if visited[end] else print('NO')"
   ]
  },
  {
   "cell_type": "markdown",
   "metadata": {},
   "source": [
    "**Количество компонент связности**"
   ]
  },
  {
   "cell_type": "code",
   "execution_count": 6,
   "metadata": {},
   "outputs": [
    {
     "name": "stdout",
     "output_type": "stream",
     "text": [
      "3\n"
     ]
    }
   ],
   "source": [
    "def dfs(adj_list, v, visited):\n",
    "    visited[v] = 1\n",
    "    for u in adj_list[v]:\n",
    "        if not visited[u]:\n",
    "            dfs(adj_list, u, visited)\n",
    "\n",
    "visited = [0] * n\n",
    "cnt = 0\n",
    "for v in range(n):\n",
    "    if not visited[v]:\n",
    "        dfs(adj_list, v, visited)\n",
    "        cnt += 1\n",
    "print(cnt)"
   ]
  },
  {
   "cell_type": "markdown",
   "metadata": {},
   "source": [
    "**Раскраска компонент связности в разные цвета**"
   ]
  },
  {
   "cell_type": "code",
   "execution_count": 7,
   "metadata": {},
   "outputs": [
    {
     "name": "stdout",
     "output_type": "stream",
     "text": [
      "[1, 1, 1, 1, 1, 2, 2, 3]\n"
     ]
    }
   ],
   "source": [
    "def dfs(adj_list, v, visited, component):\n",
    "    visited[v] = component\n",
    "    for u in adj_list[v]:\n",
    "        if not visited[u]:\n",
    "            dfs(adj_list, u, visited, component)\n",
    "\n",
    "visited = [0] * n\n",
    "component = 1\n",
    "for v in range(n):\n",
    "    if not visited[v]:\n",
    "        dfs(adj_list, v, visited, component)\n",
    "        component +=1\n",
    "print(visited)"
   ]
  },
  {
   "cell_type": "code",
   "execution_count": null,
   "metadata": {},
   "outputs": [],
   "source": []
  },
  {
   "cell_type": "markdown",
   "metadata": {},
   "source": [
    "**Чтение ориентированного графа**\n"
   ]
  },
  {
   "cell_type": "code",
   "execution_count": 1,
   "metadata": {},
   "outputs": [
    {
     "name": "stdout",
     "output_type": "stream",
     "text": [
      "[{1}, {2}, {3}, {4}, {2}, {6}, set(), set()]\n"
     ]
    }
   ],
   "source": [
    "f = open('oriented_graph.txt')\n",
    "n, m = map(int, f.readline().split())\n",
    "adj_list = [set() for _ in range(n)]\n",
    "for line in f:\n",
    "    u, v = map(int, line.split())\n",
    "    adj_list[u].add(v)\n",
    "f.close()\n",
    "print(adj_list)"
   ]
  },
  {
   "cell_type": "markdown",
   "metadata": {},
   "source": [
    "**Поиск цикла в ориентированном графе**\n",
    "\n",
    "В графе есть цикл, если при обходе в глубину мы встретим вершину,\n",
    "которую мы начали, но ещё не закончили обрабатывать."
   ]
  },
  {
   "cell_type": "code",
   "execution_count": 2,
   "metadata": {},
   "outputs": [
    {
     "name": "stdout",
     "output_type": "stream",
     "text": [
      "True\n"
     ]
    }
   ],
   "source": [
    "cycle = False\n",
    "def dfs(adj_list, v, visited):\n",
    "    global cycle\n",
    "    visited[v] = 1\n",
    "    for u in adj_list[v]:\n",
    "        if visited[u] == 1:\n",
    "            cycle = True\n",
    "        if visited[u] == 0:\n",
    "            dfs(adj_list, u, visited)\n",
    "    visited[v] = 2\n",
    "\n",
    "visited = [0] * n\n",
    "cycle = False\n",
    "for v in range(n):\n",
    "    if visited[v] == 0:\n",
    "        dfs(adj_list, v, visited)\n",
    "print(cycle)"
   ]
  },
  {
   "cell_type": "markdown",
   "metadata": {},
   "source": [
    "**Восстановление пути**"
   ]
  },
  {
   "cell_type": "code",
   "execution_count": 7,
   "metadata": {},
   "outputs": [
    {
     "name": "stdout",
     "output_type": "stream",
     "text": [
      "[3, 4, 2]\n"
     ]
    }
   ],
   "source": [
    "def get_cycle(come_from, start, cycle):\n",
    "    v = start\n",
    "    cycle.append(start)\n",
    "    while come_from[v] != start:\n",
    "        cycle.append(come_from[v])\n",
    "        v = come_from[v]\n",
    "    return cycle.reverse()\n",
    "def dfs(adj_list, v, visited, come_from, cycle):\n",
    "    visited[v] = 1\n",
    "    for u in adj_list[v]:\n",
    "        if visited[u] == 1:\n",
    "            come_from[u] = v\n",
    "            get_cycle(come_from, u, cycle)\n",
    "            return\n",
    "        if visited[u] == 0:\n",
    "            come_from[u] = v\n",
    "            dfs(adj_list, u, visited, come_from, cycle)\n",
    "            if len(cycle)!=0:\n",
    "                return\n",
    "    visited[v] = 2\n",
    "\n",
    "visited = [0] * n\n",
    "come_from = [-1] * n\n",
    "cycle = []\n",
    "for v in range(n):\n",
    "    if visited[v] == 0:\n",
    "        dfs(adj_list, v, visited, come_from, cycle)\n",
    "print(cycle)"
   ]
  },
  {
   "cell_type": "code",
   "execution_count": 112,
   "metadata": {},
   "outputs": [
    {
     "name": "stdout",
     "output_type": "stream",
     "text": [
      "0\n"
     ]
    }
   ],
   "source": [
    "def f(a):\n",
    "    a = 1\n",
    "a = 0\n",
    "f(a)\n",
    "print(a)"
   ]
  },
  {
   "cell_type": "code",
   "execution_count": null,
   "metadata": {},
   "outputs": [],
   "source": []
  },
  {
   "cell_type": "markdown",
   "metadata": {},
   "source": [
    "**Поиск цикла в неориентированном графе**"
   ]
  },
  {
   "cell_type": "markdown",
   "metadata": {},
   "source": [
    "**Чтение графа из файла**"
   ]
  },
  {
   "cell_type": "code",
   "execution_count": 8,
   "metadata": {},
   "outputs": [
    {
     "name": "stdout",
     "output_type": "stream",
     "text": [
      "[{1}, {0, 2}, {1, 3, 4}, {2, 4}, {2, 3}, {6}, {5}, set()]\n"
     ]
    }
   ],
   "source": [
    "f = open('graph.txt')\n",
    "n, m = map(int, f.readline().split())\n",
    "adj_list = [set() for _ in range(n)]\n",
    "for line in f:\n",
    "    u, v = map(int, line.split())\n",
    "    adj_list[u].add(v)\n",
    "    adj_list[v].add(u)\n",
    "f.close()\n",
    "print(adj_list)"
   ]
  },
  {
   "cell_type": "code",
   "execution_count": 9,
   "metadata": {},
   "outputs": [
    {
     "name": "stdout",
     "output_type": "stream",
     "text": [
      "True\n"
     ]
    }
   ],
   "source": [
    "cycle = False\n",
    "def dfs(adj_list, v, visited, come_from):\n",
    "    global cycle\n",
    "    visited[v] = 1\n",
    "    for u in adj_list[v]:\n",
    "        if u == come_from:\n",
    "            continue\n",
    "        if visited[u] == 1:\n",
    "            cycle = True\n",
    "        if visited[u] == 0:\n",
    "            dfs(adj_list, u, visited, v)\n",
    "    visited[v] = 2\n",
    "\n",
    "visited = [0] * n\n",
    "cycle = False\n",
    "for v in range(n):\n",
    "    if visited[v] == 0:\n",
    "        dfs(adj_list, v, visited, -1)\n",
    "print(cycle)"
   ]
  },
  {
   "cell_type": "code",
   "execution_count": 10,
   "metadata": {},
   "outputs": [
    {
     "name": "stdout",
     "output_type": "stream",
     "text": [
      "[2, 4, 3]\n"
     ]
    }
   ],
   "source": [
    "def get_cycle(come_from, start, cycle):\n",
    "    cycle.append(start)\n",
    "    v = start\n",
    "    while come_from[v] != start:\n",
    "        cycle.append(come_from[v])\n",
    "        v = come_from[v]\n",
    "    return cycle\n",
    "def dfs(adj_list, v, visited, come_from, cycle):\n",
    "    visited[v] = 1\n",
    "    for u in adj_list[v]:\n",
    "        if u == come_from[v]:\n",
    "            continue\n",
    "        if visited[u] == 1:\n",
    "            come_from[u] = v\n",
    "            get_cycle(come_from, u, cycle)\n",
    "            return\n",
    "        if visited[u] == 0:\n",
    "            come_from[u] = v\n",
    "            dfs(adj_list, u, visited, come_from, cycle)\n",
    "            if len(cycle)!=0:\n",
    "                return\n",
    "    visited[v] = 2\n",
    "\n",
    "visited = [0] * n\n",
    "come_from = [-1] * n\n",
    "cycle = []\n",
    "for v in range(n):\n",
    "    if visited[v] == 0:\n",
    "        dfs(adj_list, v, visited, come_from, cycle)\n",
    "print(cycle)"
   ]
  },
  {
   "cell_type": "markdown",
   "metadata": {},
   "source": [
    "**Проверка графа на двудольность** (раскраска в два цвета, два соседа раскрашены в разные цвета)"
   ]
  },
  {
   "cell_type": "markdown",
   "metadata": {},
   "source": [
    "**Чтение графа из файла**"
   ]
  },
  {
   "cell_type": "code",
   "execution_count": 13,
   "metadata": {},
   "outputs": [
    {
     "name": "stdout",
     "output_type": "stream",
     "text": [
      "[{1, 3}, {0, 2}, {1, 4, 5}, {0, 6}, {8, 2, 6}, {8, 2}, {3, 4}, {8}, {4, 5, 7}]\n"
     ]
    }
   ],
   "source": [
    "f = open('bipartite.txt')\n",
    "n, m = map(int, f.readline().split())\n",
    "adj_list = [set() for _ in range(n)]\n",
    "for line in f:\n",
    "    u, v = map(int, line.split())\n",
    "    adj_list[u].add(v)\n",
    "    adj_list[v].add(u)\n",
    "f.close()\n",
    "print(adj_list)"
   ]
  },
  {
   "cell_type": "code",
   "execution_count": 14,
   "metadata": {},
   "outputs": [
    {
     "name": "stdout",
     "output_type": "stream",
     "text": [
      "True\n"
     ]
    }
   ],
   "source": [
    "isBipartite = True\n",
    "def dfs(adj_list, v, visited, color):\n",
    "    global isBipartite\n",
    "    visited[v] = color\n",
    "    for u in adj_list[v]:\n",
    "        if visited[u] == 0:\n",
    "            dfs(adj_list, u, visited, 3 - color)\n",
    "        elif visited[u] == color:\n",
    "            isBipartite = False\n",
    "\n",
    "visited = [0] * n\n",
    "for v in range(n):\n",
    "    if not visited[v]:\n",
    "        dfs(adj_list, v, visited, 1)\n",
    "        cnt += 1\n",
    "print(isBipartite)"
   ]
  },
  {
   "cell_type": "code",
   "execution_count": null,
   "metadata": {},
   "outputs": [],
   "source": []
  },
  {
   "cell_type": "markdown",
   "metadata": {},
   "source": [
    "**Чтение графа из файла**"
   ]
  },
  {
   "cell_type": "code",
   "execution_count": 15,
   "metadata": {},
   "outputs": [
    {
     "name": "stdout",
     "output_type": "stream",
     "text": [
      "[{2, 4}, set(), {1}, set(), {1, 2, 5}, set(), {5}]\n"
     ]
    }
   ],
   "source": [
    "f = open('topological_sort.txt')\n",
    "n, m = map(int, f.readline().split())\n",
    "names = f.readline().split()\n",
    "adj_list = [set() for _ in range(n)]\n",
    "for line in f:\n",
    "    u, v = map(int, line.split())\n",
    "    u -= 1\n",
    "    v -= 1\n",
    "    adj_list[u].add(v)\n",
    "f.close()\n",
    "print(adj_list)"
   ]
  },
  {
   "cell_type": "markdown",
   "metadata": {},
   "source": [
    "**Топологическая сортировка** (порядок надевания одежды)"
   ]
  },
  {
   "cell_type": "code",
   "execution_count": 16,
   "metadata": {},
   "outputs": [
    {
     "name": "stdout",
     "output_type": "stream",
     "text": [
      "socks glasses shirt pants shoes blazer coat "
     ]
    }
   ],
   "source": [
    "def dfs(adj_list, v, visited, order):\n",
    "    visited[v] = 1\n",
    "    for u in adj_list[v]:\n",
    "        if visited[u] == 0:\n",
    "            dfs(adj_list, u, visited, order)\n",
    "    order.append(v)\n",
    "order = []\n",
    "visited = [0] * n\n",
    "for v in range(n):\n",
    "    if not visited[v]:\n",
    "        dfs(adj_list, v, visited, order)\n",
    "for v in order[::-1]:\n",
    "    print(names[v], end=' ')"
   ]
  },
  {
   "cell_type": "code",
   "execution_count": null,
   "metadata": {},
   "outputs": [],
   "source": [
    "    "
   ]
  },
  {
   "cell_type": "markdown",
   "metadata": {},
   "source": [
    "**Поиск компонент сильной связности** (ориентированный граф)"
   ]
  },
  {
   "cell_type": "code",
   "execution_count": 159,
   "metadata": {},
   "outputs": [
    {
     "data": {
      "text/plain": [
       "3"
      ]
     },
     "execution_count": 159,
     "metadata": {},
     "output_type": "execute_result"
    }
   ],
   "source": [
    "a= [1, 3]\n",
    "a[2-1]"
   ]
  },
  {
   "cell_type": "code",
   "execution_count": 10,
   "metadata": {},
   "outputs": [
    {
     "ename": "IndexError",
     "evalue": "list index out of range",
     "output_type": "error",
     "traceback": [
      "\u001b[0;31m---------------------------------------------------------------------------\u001b[0m",
      "\u001b[0;31mIndexError\u001b[0m                                Traceback (most recent call last)",
      "Input \u001b[0;32mIn [10]\u001b[0m, in \u001b[0;36m<cell line: 24>\u001b[0;34m()\u001b[0m\n\u001b[1;32m     22\u001b[0m                 q\u001b[38;5;241m.\u001b[39mput([x_n, y_n])\n\u001b[1;32m     23\u001b[0m     \u001b[38;5;28;01mreturn\u001b[39;00m d[final[\u001b[38;5;241m0\u001b[39m]][final[\u001b[38;5;241m1\u001b[39m]]\n\u001b[0;32m---> 24\u001b[0m \u001b[38;5;28mprint\u001b[39m(\u001b[43mbfs\u001b[49m\u001b[43m(\u001b[49m\u001b[43ma\u001b[49m\u001b[43m,\u001b[49m\u001b[43m \u001b[49m\u001b[43mn\u001b[49m\u001b[43m,\u001b[49m\u001b[43m \u001b[49m\u001b[43mm\u001b[49m\u001b[43m,\u001b[49m\u001b[43m \u001b[49m\u001b[43m[\u001b[49m\u001b[38;5;241;43m0\u001b[39;49m\u001b[43m,\u001b[49m\u001b[43m \u001b[49m\u001b[38;5;241;43m0\u001b[39;49m\u001b[43m]\u001b[49m\u001b[43m,\u001b[49m\u001b[43m \u001b[49m\u001b[43m[\u001b[49m\u001b[43mn\u001b[49m\u001b[38;5;241;43m-\u001b[39;49m\u001b[38;5;241;43m1\u001b[39;49m\u001b[43m,\u001b[49m\u001b[43m \u001b[49m\u001b[43mm\u001b[49m\u001b[38;5;241;43m-\u001b[39;49m\u001b[38;5;241;43m1\u001b[39;49m\u001b[43m]\u001b[49m\u001b[43m)\u001b[49m)\n",
      "Input \u001b[0;32mIn [10]\u001b[0m, in \u001b[0;36mbfs\u001b[0;34m(a, n, m, start, final)\u001b[0m\n\u001b[1;32m     17\u001b[0m \u001b[38;5;28;01mfor\u001b[39;00m i \u001b[38;5;129;01min\u001b[39;00m \u001b[38;5;28mrange\u001b[39m(\u001b[38;5;28mlen\u001b[39m(dx)):\n\u001b[1;32m     18\u001b[0m     x_n, y_n \u001b[38;5;241m=\u001b[39m x \u001b[38;5;241m+\u001b[39m dx[i], y \u001b[38;5;241m+\u001b[39m dy[i]\n\u001b[1;32m     19\u001b[0m     \u001b[38;5;28;01mif\u001b[39;00m (x_n \u001b[38;5;241m<\u001b[39m n \u001b[38;5;129;01mand\u001b[39;00m y_n \u001b[38;5;241m<\u001b[39m m \u001b[38;5;129;01mand\u001b[39;00m x_n \u001b[38;5;241m>\u001b[39m \u001b[38;5;241m-\u001b[39m\u001b[38;5;241m1\u001b[39m \u001b[38;5;129;01mand\u001b[39;00m y_n \u001b[38;5;241m>\u001b[39m \u001b[38;5;241m-\u001b[39m\u001b[38;5;241m1\u001b[39m\n\u001b[0;32m---> 20\u001b[0m         \u001b[38;5;129;01mand\u001b[39;00m d[x_n][y_n] \u001b[38;5;241m==\u001b[39m \u001b[38;5;28mfloat\u001b[39m(\u001b[38;5;124m'\u001b[39m\u001b[38;5;124minf\u001b[39m\u001b[38;5;124m'\u001b[39m) \u001b[38;5;129;01mand\u001b[39;00m \u001b[43ma\u001b[49m\u001b[43m[\u001b[49m\u001b[43mx_n\u001b[49m\u001b[43m]\u001b[49m[y_n] \u001b[38;5;241m!=\u001b[39m \u001b[38;5;124m'\u001b[39m\u001b[38;5;124m#\u001b[39m\u001b[38;5;124m'\u001b[39m):\n\u001b[1;32m     21\u001b[0m         d[x_n][y_n] \u001b[38;5;241m=\u001b[39m d[x][y] \u001b[38;5;241m+\u001b[39m \u001b[38;5;241m1\u001b[39m\n\u001b[1;32m     22\u001b[0m         q\u001b[38;5;241m.\u001b[39mput([x_n, y_n])\n",
      "\u001b[0;31mIndexError\u001b[0m: list index out of range"
     ]
    }
   ],
   "source": [
    "from queue import Queue\n",
    "import random\n",
    "n, m = map(int, input().split())\n",
    "a = []\n",
    "def generate(n, m):\n",
    "    x, y = random.randint(0, n), random.randint(0, m)\n",
    "\n",
    "def bfs(a, n, m, start, final):\n",
    "    d = [[float('inf') for _ in range(m)] for _ in range(n)]\n",
    "    q = Queue()\n",
    "    q.put([start[0], start[1]])\n",
    "    d[start[0]][start[1]] = 0\n",
    "    dx = [1, -1, 0, 0]\n",
    "    dy = [0, 0, 1, -1]\n",
    "    while not q.empty():\n",
    "        x, y = map(int, q.get())\n",
    "        for i in range(len(dx)):\n",
    "            x_n, y_n = x + dx[i], y + dy[i]\n",
    "            if (x_n < n and y_n < m and x_n > -1 and y_n > -1\n",
    "                and d[x_n][y_n] == float('inf') and a[x_n][y_n] != '#'):\n",
    "                d[x_n][y_n] = d[x][y] + 1\n",
    "                q.put([x_n, y_n])\n",
    "    return d[final[0]][final[1]]\n",
    "print(bfs(a, n, m, [0, 0], [n-1, m-1]))"
   ]
  },
  {
   "cell_type": "code",
   "execution_count": 8,
   "metadata": {},
   "outputs": [
    {
     "name": "stdout",
     "output_type": "stream",
     "text": [
      "1\n"
     ]
    }
   ],
   "source": [
    "import random\n",
    "print(random.randint(1, 2))"
   ]
  },
  {
   "cell_type": "code",
   "execution_count": 3,
   "metadata": {},
   "outputs": [
    {
     "name": "stdout",
     "output_type": "stream",
     "text": [
      "NO\n",
      "YES\n",
      "NO\n"
     ]
    }
   ],
   "source": [
    "from queue import Queue\n",
    "# n, m = map(int, input().split())\n",
    "a = []\n",
    "\n",
    "# def generate(n, m):\n",
    "#     return random.randint(0, n), random.randint(0, m)\n",
    "# def read_f(a):\n",
    "#     f = open('input.txt')\n",
    "#     n, m, q = map(int, f.readline().split())\n",
    "#     for line in f:\n",
    "#         u, v = map(int, line.split())\n",
    "#         u -= 1\n",
    "#         v -= 1\n",
    "#         a.append([u, v])\n",
    "#     return n, m, q, a\n",
    "def read(a):\n",
    "    n, m, q = map(int, input().split())\n",
    "    for i in range(q):\n",
    "        u, v = map(int, input().split())\n",
    "        u -= 1\n",
    "        v -= 1\n",
    "        a.append([u, v])\n",
    "    return n, m, q, a\n",
    "\n",
    "n, m, q, a = read(a)\n",
    "b = [[0 for _ in range(m)] for _ in range(n)]\n",
    "start = [0, 0]\n",
    "final = [n-1, m-1]\n",
    "def bfs(a, n, m, start, final):\n",
    "    d = [[float('inf') for _ in range(m)] for _ in range(n)]\n",
    "    q = Queue()\n",
    "    q.put([start[0], start[1]])\n",
    "    d[start[0]][start[1]] = 0\n",
    "    dx = [1, -1, 0, 0]\n",
    "    dy = [0, 0, 1, -1]\n",
    "    while not q.empty():\n",
    "        x, y = map(int, q.get())\n",
    "        for i in range(len(dx)):\n",
    "            x_n, y_n = x + dx[i], y + dy[i]\n",
    "            if (x_n < n and y_n < m and x_n > -1 and y_n > -1\n",
    "                and d[x_n][y_n] == float('inf') and a[x_n][y_n] != 1):\n",
    "                d[x_n][y_n] = d[x][y] + 1\n",
    "                q.put([x_n, y_n])\n",
    "    return d[final[0]][final[1]]\n",
    "# print(a)\n",
    "for i in range(len(a)):\n",
    "    b[a[i][0]][a[i][1]] = 1\n",
    "    if bfs(b, n, m, start, final) == float('inf') or a[i][0] == 0 and a[i][1] == 0 or a[i][0] == n-1 and a[i][1] == m-1:\n",
    "        print('YES')\n",
    "        # for i in range(len(b)):\n",
    "        #     print(b[i])\n",
    "        b[a[i][0]][a[i][1]] = 0\n",
    "    else:\n",
    "        print('NO')"
   ]
  },
  {
   "cell_type": "code",
   "execution_count": 27,
   "metadata": {},
   "outputs": [
    {
     "name": "stdout",
     "output_type": "stream",
     "text": [
      "NO 1 3\n",
      "NO 4 1\n",
      "NO 1 4\n",
      "YES 4 4\n",
      "NO 3 3\n",
      "NO 3 1\n",
      "NO 3 4\n",
      "YES 4 3\n",
      "NO 4 1\n",
      "YES 3 2\n",
      "NO 2 4\n",
      "NO 1 3\n",
      "NO 3 1\n",
      "NO 1 3\n",
      "YES 2 2\n",
      "NO 2 4\n",
      "YES 4 3\n",
      "NO 2 3\n",
      "NO 2 3\n",
      "NO 1 3\n"
     ]
    }
   ],
   "source": [
    "from queue import Queue\n",
    "import random\n",
    "# n, m = map(int, input().split())\n",
    "a = []\n",
    "n, m, q = 10, 10, 100\n",
    "# def generate(n, m, q):\n",
    "#     f = open('input.txt', 'w')\n",
    "#     f.write(str(n)+' '+str(m)+' '+str(q)+'\\n')\n",
    "#     for i in range(q):\n",
    "#         f.write(str(random.randint(1, n))+' '+str(random.randint(1, m))+'\\n')\n",
    "# generate(n, m, q)   \n",
    "\n",
    "def read_f(a):\n",
    "    f = open('input.txt')\n",
    "    n, m, q = map(int, f.readline().split())\n",
    "    for line in f:\n",
    "        u, v = map(int, line.split())\n",
    "        u -= 1\n",
    "        v -= 1\n",
    "        a.append([u, v])\n",
    "    return n, m, q, a\n",
    "# def read(a):\n",
    "#     n, m, q = map(int, input().split())\n",
    "#     for i in range(q):\n",
    "#         u, v = map(int, input().split())\n",
    "#         u -= 1\n",
    "#         v -= 1\n",
    "#         a.append([u, v])\n",
    "#     return n, m, q, a\n",
    "\n",
    "n, m, q, a = read_f(a)\n",
    "b = [[0 for _ in range(m)] for _ in range(n)]\n",
    "start = [0, 0]\n",
    "final = [n-1, m-1]\n",
    "def bfs(a, n, m, start, final):\n",
    "    d = [[float('inf') for _ in range(m)] for _ in range(n)]\n",
    "    q = Queue()\n",
    "    q.put([start[0], start[1]])\n",
    "    d[start[0]][start[1]] = 0\n",
    "    dx = [1, -1, 0, 0]\n",
    "    dy = [0, 0, 1, -1]\n",
    "    while not q.empty():\n",
    "        x, y = map(int, q.get())\n",
    "        for i in range(len(dx)):\n",
    "            x_n, y_n = x + dx[i], y + dy[i]\n",
    "            if (x_n < n and y_n < m and x_n > -1 and y_n > -1\n",
    "                and d[x_n][y_n] == float('inf') and a[x_n][y_n] != 1):\n",
    "                d[x_n][y_n] = d[x][y] + 1\n",
    "                q.put([x_n, y_n])\n",
    "    return d[final[0]][final[1]]\n",
    "# print(a)\n",
    "for i in range(len(a)):\n",
    "    b[a[i][0]][a[i][1]] = 1\n",
    "    if bfs(b, n, m, start, final) == float('inf') or a[i][0] == 0 and a[i][1] == 0 or a[i][0] == n-1 and a[i][1] == m-1:\n",
    "        print('YES', a[i][0] + 1, a[i][1] + 1)\n",
    "        # for i in range(len(b)):\n",
    "        #     print(b[i])\n",
    "        b[a[i][0]][a[i][1]] = 0\n",
    "    else:\n",
    "        print('NO', a[i][0] + 1, a[i][1] + 1)"
   ]
  },
  {
   "cell_type": "code",
   "execution_count": null,
   "metadata": {},
   "outputs": [],
   "source": []
  }
 ],
 "metadata": {
  "kernelspec": {
   "display_name": "base",
   "language": "python",
   "name": "python3"
  },
  "language_info": {
   "codemirror_mode": {
    "name": "ipython",
    "version": 3
   },
   "file_extension": ".py",
   "mimetype": "text/x-python",
   "name": "python",
   "nbconvert_exporter": "python",
   "pygments_lexer": "ipython3",
   "version": "3.9.12"
  }
 },
 "nbformat": 4,
 "nbformat_minor": 2
}
