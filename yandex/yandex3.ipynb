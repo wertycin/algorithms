{
 "cells": [
  {
   "cell_type": "markdown",
   "metadata": {},
   "source": [
    "**Фибоначчи**\n",
    "\n",
    "Проверить, является ли большое число (до 500 тысяч знаков) числом Фибоначчи."
   ]
  },
  {
   "cell_type": "code",
   "execution_count": 6,
   "metadata": {},
   "outputs": [
    {
     "name": "stdout",
     "output_type": "stream",
     "text": [
      "No\n"
     ]
    }
   ],
   "source": [
    "mods = [10**9 + 7, 10**9 + 11, 10**9 + 13]\n",
    "maxfibnum = 40000\n",
    "usedhashes = []\n",
    "for _ in range(len(mods)):\n",
    "    usedhashes.append(set())\n",
    "\n",
    "for i in range(len(mods)):\n",
    "    f1 = 1\n",
    "    f2 = 1\n",
    "    usedhashes[i].add(1)\n",
    "    for j in range(maxfibnum):\n",
    "        f1, f2 = f2, (f1 + f2) % mods[i]\n",
    "        usedhashes[i].add(f2)\n",
    "ans = []\n",
    "n = int(input())\n",
    "for i in range(n):\n",
    "    now = int(input())\n",
    "    isfib = True\n",
    "    for j in range(len(mods)):\n",
    "        isfib = isfib and now % mods[j] in usedhashes[j]\n",
    "    if isfib:\n",
    "        ans.append('Yes')\n",
    "    else:\n",
    "        ans.append('No')\n",
    "print('\\n'.join(ans)) "
   ]
  },
  {
   "cell_type": "markdown",
   "metadata": {},
   "source": [
    "**Сумма пары чисел**\n",
    "\n",
    "Найти пару чисел A и B в массиве a, для которой A + B = X (X – заданное число)."
   ]
  },
  {
   "cell_type": "code",
   "execution_count": 7,
   "metadata": {},
   "outputs": [
    {
     "name": "stdout",
     "output_type": "stream",
     "text": [
      "3 2\n"
     ]
    }
   ],
   "source": [
    "x = int(input())\n",
    "n = int(input())\n",
    "a = list(map(int, input().split()))\n",
    "prevnums = set()\n",
    "ans1, ans2 = 0, 0\n",
    "for i in range(n):\n",
    "    if x - a[i] in prevnums:\n",
    "        ans1, ans2 = a[i], x - a[i]\n",
    "        break\n",
    "    prevnums.add(a[i])\n",
    "print(ans1, ans2)"
   ]
  },
  {
   "cell_type": "markdown",
   "metadata": {},
   "source": [
    "**A. Плейлисты**\n",
    "\n",
    "\n",
    "Костя успешно прошел собеседование и попал на стажировку в отдел разработки сервиса «Музыка».\n",
    "Конкретно ему поручили такое задание — научиться подбирать плейлист для группы друзей, родственников или коллег. При этом нужно подобрать такой плейлист, в который входят исключительно нравящиеся всем членам группы песни.\n",
    "Костя очень хотел выполнить это задание быстро и качественно, но у него не получается. Помогите ему написать программу, которая составляет плейлист для группы людей."
   ]
  },
  {
   "cell_type": "code",
   "execution_count": 1,
   "metadata": {},
   "outputs": [
    {
     "name": "stdout",
     "output_type": "stream",
     "text": [
      "2\n",
      "ау вцц\n"
     ]
    }
   ],
   "source": [
    "n = int(input())\n",
    "dictonary = dict()\n",
    "for i in range(n):\n",
    "    m = int(input())\n",
    "    songs = input()\n",
    "    for song in songs.split():\n",
    "        if song in dictonary:\n",
    "            dictonary[song] += 1\n",
    "        else:\n",
    "            dictonary[song] = 1\n",
    "ans = []\n",
    "for song in dictonary:\n",
    "    if dictonary[song] == n:\n",
    "        ans.append(song)\n",
    "ans.sort()\n",
    "print(len(ans))\n",
    "print(' '.join(ans))"
   ]
  },
  {
   "cell_type": "markdown",
   "metadata": {},
   "source": [
    "**B. Анаграмма?**\n",
    "\n",
    "Задано две строки, нужно проверить, является ли одна анаграммой другой. Анаграммой называется строка, полученная из другой перестановкой букв.\n",
    "Формат ввода\n",
    "\n",
    "Строки состоят из строчных латинских букв, их длина не превосходит 100000. Каждая записана в отдельной строке."
   ]
  },
  {
   "cell_type": "code",
   "execution_count": 2,
   "metadata": {},
   "outputs": [
    {
     "name": "stdout",
     "output_type": "stream",
     "text": [
      "YES\n"
     ]
    }
   ],
   "source": [
    "s1 = input()\n",
    "s2 = input()\n",
    "dict1 = dict()\n",
    "dict2 = dict()\n",
    "for c in s1:\n",
    "    if c in dict1:\n",
    "        dict1[c] += 1\n",
    "    else:\n",
    "        dict1[c] = 1\n",
    "for c in s2:\n",
    "    if c in dict2:\n",
    "        dict2[c] += 1\n",
    "    else:\n",
    "        dict2[c] = 1\n",
    "print(\"YES\" if dict1 == dict2 else \"NO\")"
   ]
  },
  {
   "cell_type": "markdown",
   "metadata": {},
   "source": [
    "**C. Удаление чисел**\n",
    "\n",
    "\n",
    "Дан массив a из n чисел. Найдите минимальное количество чисел, после удаления которых попарная разность оставшихся чисел по модулю не будет превышать 1, то есть после удаления ни одно число не должно отличаться от какого-либо другого более чем на 1."
   ]
  },
  {
   "cell_type": "code",
   "execution_count": null,
   "metadata": {},
   "outputs": [],
   "source": [
    "n = int(input())\n",
    "a = list(map(int, input().split()))\n",
    "nums = dict()\n",
    "for num in a:\n",
    "    if num in nums:\n",
    "        nums[num] += 1\n",
    "    else:\n",
    "        nums[num] = 1\n",
    "max_num = 0\n",
    "for i in nums:\n",
    "    if i + 1 in nums:\n",
    "        max_num = max(max_num, nums[i] + nums[i + 1])\n",
    "if max_num == 0:\n",
    "    for i in nums:\n",
    "        max_num = max(max_num, nums[i])\n",
    "print(n - max_num)"
   ]
  },
  {
   "cell_type": "markdown",
   "metadata": {},
   "source": [
    "**D. Повторяющееся число**\n",
    "\n",
    "\n",
    "Вам дана последовательность измерений некоторой величины. Требуется определить, повторялась ли какое-либо число, причём расстояние между повторами не превосходило k. Выведите YES, если найдется повторяющееся число и расстояние между повторами не превосходит k и NO в противном случае."
   ]
  },
  {
   "cell_type": "code",
   "execution_count": null,
   "metadata": {},
   "outputs": [],
   "source": [
    "n, k = map(int, input().split())\n",
    "a = list(map(int, input().split()))\n",
    "prevnums = dict()\n",
    "ans = 'NO'\n",
    "for i in range(n):\n",
    "    if a[i] in prevnums and i - prevnums[a[i]] <= k:\n",
    "        ans = 'YES'\n",
    "        break\n",
    "    prevnums[a[i]] = i\n",
    "print(ans)"
   ]
  },
  {
   "cell_type": "markdown",
   "metadata": {},
   "source": [
    "**E. Два из трех**\n",
    "\n",
    "\n",
    "Вам даны три списка чисел. Найдите все числа, которые встречаются хотя бы в двух из трёх списков."
   ]
  },
  {
   "cell_type": "code",
   "execution_count": null,
   "metadata": {},
   "outputs": [],
   "source": [
    "n1 = int(input())\n",
    "a1 = list(map(int, input().split()))\n",
    "n2 = int(input())\n",
    "a2 = list(map(int, input().split()))\n",
    "n3 = int(input())\n",
    "a3 = list(map(int, input().split()))\n",
    "\n",
    "dictonary = dict()\n",
    "for num in a1:\n",
    "    if num in dictonary:\n",
    "        dictonary[num].add(1)\n",
    "    else:\n",
    "        dictonary[num] = {1}\n",
    "for num in a2:\n",
    "    if num in dictonary:\n",
    "        dictonary[num].add(2)\n",
    "    else:\n",
    "        dictonary[num] = {2}\n",
    "for num in a3:\n",
    "    if num in dictonary:\n",
    "        dictonary[num].add(3)\n",
    "    else:\n",
    "        dictonary[num] = {3}\n",
    "\n",
    "ans = []\n",
    "for num in dictonary:\n",
    "    if len(dictonary[num]) >= 2:\n",
    "        ans.append(num)\n",
    "ans.sort()\n",
    "print(' '.join(str(num) for num in ans))"
   ]
  },
  {
   "cell_type": "markdown",
   "metadata": {},
   "source": [
    "**F. Замена слов**\n",
    "\n",
    "\n",
    "С целью экономии чернил в картридже принтера было принято решение укоротить некоторые слова в тексте. Для этого был составлен словарь слов, до которых можно сокращать более длинные слова. Слово из текста можно сократить, если в словаре найдется слово, являющееся началом слова из текста. Например, если в списке есть слово \"лом\", то слова из текста \"ломбард\", \"ломоносов\" и другие слова, начинающиеся на \"лом\", можно сократить до \"лом\".\n",
    "Если слово из текста можно сократить до нескольких слов из словаря, то следует сокращать его до самого короткого слова."
   ]
  },
  {
   "cell_type": "code",
   "execution_count": null,
   "metadata": {},
   "outputs": [],
   "source": [
    "dictonary = input()\n",
    "text = input()\n",
    "my_dict = set()\n",
    "ans = []\n",
    "for word in dictonary.split():\n",
    "    my_dict.add(word)\n",
    "for word in text.split():\n",
    "    Flag = True\n",
    "    for i in range(1, len(word) + 1):\n",
    "        if word[0:i] in my_dict:\n",
    "            Flag = False\n",
    "            ans.append(word[0:i])\n",
    "            break\n",
    "    if Flag:\n",
    "        ans.append(word)\n",
    "print(' '.join(ans))"
   ]
  }
 ],
 "metadata": {
  "kernelspec": {
   "display_name": "base",
   "language": "python",
   "name": "python3"
  },
  "language_info": {
   "codemirror_mode": {
    "name": "ipython",
    "version": 3
   },
   "file_extension": ".py",
   "mimetype": "text/x-python",
   "name": "python",
   "nbconvert_exporter": "python",
   "pygments_lexer": "ipython3",
   "version": "3.9.12"
  }
 },
 "nbformat": 4,
 "nbformat_minor": 2
}
