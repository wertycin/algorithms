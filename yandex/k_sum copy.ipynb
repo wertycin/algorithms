{
 "cells": [
  {
   "cell_type": "code",
   "execution_count": 21,
   "metadata": {},
   "outputs": [],
   "source": [
    "n, k = map(int, input().split())\n",
    "a = list(map(int, input().split()))\n",
    "b = list(map(int, input().split()))\n",
    "a.sort()\n",
    "b.sort()"
   ]
  },
  {
   "cell_type": "code",
   "execution_count": 22,
   "metadata": {},
   "outputs": [],
   "source": [
    "l = 0\n",
    "r = 2*10**9\n",
    "answer = 0"
   ]
  },
  {
   "cell_type": "code",
   "execution_count": 23,
   "metadata": {},
   "outputs": [],
   "source": [
    "def ok(x, a, b, k):\n",
    "    r = len(b) - 1\n",
    "    cnt = 0\n",
    "    for i in range(len(a)):\n",
    "        # a[i] - fixed\n",
    "        # find max r: a[i]+b[r] <= x\n",
    "        while r >= 0 and a[i] + b[r] > x:\n",
    "            r -= 1\n",
    "        cnt += (r + 1)\n",
    "\n",
    "    return cnt >= k"
   ]
  },
  {
   "cell_type": "code",
   "execution_count": 24,
   "metadata": {},
   "outputs": [],
   "source": [
    "while l <= r:\n",
    "    mid = (l+r) // 2\n",
    "    if ok(mid, a, b, k):\n",
    "        answer = mid\n",
    "        r = mid - 1\n",
    "    else:\n",
    "        l = mid + 1"
   ]
  },
  {
   "cell_type": "code",
   "execution_count": 25,
   "metadata": {},
   "outputs": [
    {
     "name": "stdout",
     "output_type": "stream",
     "text": [
      "9\n"
     ]
    }
   ],
   "source": [
    "print(answer)"
   ]
  },
  {
   "cell_type": "code",
   "execution_count": null,
   "metadata": {},
   "outputs": [],
   "source": []
  }
 ],
 "metadata": {
  "kernelspec": {
   "display_name": "base",
   "language": "python",
   "name": "python3"
  },
  "language_info": {
   "codemirror_mode": {
    "name": "ipython",
    "version": 3
   },
   "file_extension": ".py",
   "mimetype": "text/x-python",
   "name": "python",
   "nbconvert_exporter": "python",
   "pygments_lexer": "ipython3",
   "version": "3.9.12"
  }
 },
 "nbformat": 4,
 "nbformat_minor": 2
}
