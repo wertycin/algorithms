{
 "cells": [
  {
   "cell_type": "code",
   "execution_count": 4,
   "metadata": {},
   "outputs": [],
   "source": [
    "a = list(map(int, input().split()))"
   ]
  },
  {
   "cell_type": "code",
   "execution_count": 5,
   "metadata": {},
   "outputs": [
    {
     "name": "stdout",
     "output_type": "stream",
     "text": [
      "[1, 4, 5, 9, 10, 13, 20, 120, 399]\n",
      "[0, 1, 2, 3, 4, 5, 6, 7, 8]\n"
     ]
    }
   ],
   "source": [
    "print(a)\n",
    "print(list(range(len(a))))"
   ]
  },
  {
   "cell_type": "markdown",
   "metadata": {},
   "source": [
    "**Шаблон бинарного поиска**"
   ]
  },
  {
   "cell_type": "markdown",
   "metadata": {},
   "source": [
    "Дан отсортированный массив a. Шаблон реализует поиск наибольшего a[i], не превосходящего x."
   ]
  },
  {
   "cell_type": "code",
   "execution_count": 6,
   "metadata": {},
   "outputs": [],
   "source": [
    "def ok(a, mid, x):\n",
    "    return a[mid] <= x\n",
    "def bin_search(a, x):\n",
    "    l = 0\n",
    "    r = len(a) - 1\n",
    "    ans = 0\n",
    "    while l <= r:\n",
    "        mid = (l + r) // 2\n",
    "        if ok(a, mid, x):\n",
    "            ans = mid\n",
    "            #r = mid - 1\n",
    "            l = mid + 1\n",
    "        else:\n",
    "            #l = mid + 1\n",
    "            r = mid - 1\n",
    "    return ans   "
   ]
  },
  {
   "cell_type": "code",
   "execution_count": 7,
   "metadata": {},
   "outputs": [
    {
     "name": "stdout",
     "output_type": "stream",
     "text": [
      "val =  20 pos =  6\n"
     ]
    }
   ],
   "source": [
    "x = int(input())\n",
    "print('val = ', a[bin_search(a, x)], 'pos = ', bin_search(a, x))"
   ]
  },
  {
   "cell_type": "code",
   "execution_count": null,
   "metadata": {},
   "outputs": [],
   "source": []
  },
  {
   "cell_type": "markdown",
   "metadata": {},
   "source": [
    "**E. Уравнение**\n",
    "\n",
    "Найдите такое число 𝑥, что $𝑥^2+\\sqrt𝑥=𝑐$."
   ]
  },
  {
   "cell_type": "code",
   "execution_count": 18,
   "metadata": {},
   "outputs": [
    {
     "name": "stdout",
     "output_type": "stream",
     "text": [
      "4.0\n"
     ]
    }
   ],
   "source": []
  },
  {
   "cell_type": "markdown",
   "metadata": {},
   "source": []
  }
 ],
 "metadata": {
  "kernelspec": {
   "display_name": "base",
   "language": "python",
   "name": "python3"
  },
  "language_info": {
   "codemirror_mode": {
    "name": "ipython",
    "version": 3
   },
   "file_extension": ".py",
   "mimetype": "text/x-python",
   "name": "python",
   "nbconvert_exporter": "python",
   "pygments_lexer": "ipython3",
   "version": "3.9.12"
  }
 },
 "nbformat": 4,
 "nbformat_minor": 2
}
