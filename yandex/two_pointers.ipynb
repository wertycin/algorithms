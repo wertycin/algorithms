{
 "cells": [
  {
   "cell_type": "code",
   "execution_count": null,
   "metadata": {},
   "outputs": [],
   "source": []
  },
  {
   "cell_type": "markdown",
   "metadata": {},
   "source": [
    "**B. Общая длина**\n",
    "https://codeforces.com/edu/course/2/lesson/9/3/practice/contest/307094/problem/B"
   ]
  },
  {
   "cell_type": "code",
   "execution_count": 184,
   "metadata": {},
   "outputs": [
    {
     "ename": "KeyboardInterrupt",
     "evalue": "Interrupted by user",
     "output_type": "error",
     "traceback": [
      "\u001b[0;31m---------------------------------------------------------------------------\u001b[0m",
      "\u001b[0;31mKeyboardInterrupt\u001b[0m                         Traceback (most recent call last)",
      "Input \u001b[0;32mIn [184]\u001b[0m, in \u001b[0;36m<cell line: 1>\u001b[0;34m()\u001b[0m\n\u001b[0;32m----> 1\u001b[0m n, s \u001b[38;5;241m=\u001b[39m \u001b[38;5;28mmap\u001b[39m(\u001b[38;5;28mint\u001b[39m, \u001b[38;5;28;43minput\u001b[39;49m\u001b[43m(\u001b[49m\u001b[43m)\u001b[49m\u001b[38;5;241m.\u001b[39msplit())\n\u001b[1;32m      2\u001b[0m a \u001b[38;5;241m=\u001b[39m \u001b[38;5;28mlist\u001b[39m(\u001b[38;5;28mmap\u001b[39m(\u001b[38;5;28mint\u001b[39m, \u001b[38;5;28minput\u001b[39m()\u001b[38;5;241m.\u001b[39msplit()))\n\u001b[1;32m      3\u001b[0m CurSum \u001b[38;5;241m=\u001b[39m \u001b[38;5;241m0\u001b[39m\n",
      "File \u001b[0;32m~/opt/anaconda3/lib/python3.9/site-packages/ipykernel/kernelbase.py:1177\u001b[0m, in \u001b[0;36mKernel.raw_input\u001b[0;34m(self, prompt)\u001b[0m\n\u001b[1;32m   1173\u001b[0m \u001b[38;5;28;01mif\u001b[39;00m \u001b[38;5;129;01mnot\u001b[39;00m \u001b[38;5;28mself\u001b[39m\u001b[38;5;241m.\u001b[39m_allow_stdin:\n\u001b[1;32m   1174\u001b[0m     \u001b[38;5;28;01mraise\u001b[39;00m StdinNotImplementedError(\n\u001b[1;32m   1175\u001b[0m         \u001b[38;5;124m\"\u001b[39m\u001b[38;5;124mraw_input was called, but this frontend does not support input requests.\u001b[39m\u001b[38;5;124m\"\u001b[39m\n\u001b[1;32m   1176\u001b[0m     )\n\u001b[0;32m-> 1177\u001b[0m \u001b[38;5;28;01mreturn\u001b[39;00m \u001b[38;5;28;43mself\u001b[39;49m\u001b[38;5;241;43m.\u001b[39;49m\u001b[43m_input_request\u001b[49m\u001b[43m(\u001b[49m\n\u001b[1;32m   1178\u001b[0m \u001b[43m    \u001b[49m\u001b[38;5;28;43mstr\u001b[39;49m\u001b[43m(\u001b[49m\u001b[43mprompt\u001b[49m\u001b[43m)\u001b[49m\u001b[43m,\u001b[49m\n\u001b[1;32m   1179\u001b[0m \u001b[43m    \u001b[49m\u001b[38;5;28;43mself\u001b[39;49m\u001b[38;5;241;43m.\u001b[39;49m\u001b[43m_parent_ident\u001b[49m\u001b[43m[\u001b[49m\u001b[38;5;124;43m\"\u001b[39;49m\u001b[38;5;124;43mshell\u001b[39;49m\u001b[38;5;124;43m\"\u001b[39;49m\u001b[43m]\u001b[49m\u001b[43m,\u001b[49m\n\u001b[1;32m   1180\u001b[0m \u001b[43m    \u001b[49m\u001b[38;5;28;43mself\u001b[39;49m\u001b[38;5;241;43m.\u001b[39;49m\u001b[43mget_parent\u001b[49m\u001b[43m(\u001b[49m\u001b[38;5;124;43m\"\u001b[39;49m\u001b[38;5;124;43mshell\u001b[39;49m\u001b[38;5;124;43m\"\u001b[39;49m\u001b[43m)\u001b[49m\u001b[43m,\u001b[49m\n\u001b[1;32m   1181\u001b[0m \u001b[43m    \u001b[49m\u001b[43mpassword\u001b[49m\u001b[38;5;241;43m=\u001b[39;49m\u001b[38;5;28;43;01mFalse\u001b[39;49;00m\u001b[43m,\u001b[49m\n\u001b[1;32m   1182\u001b[0m \u001b[43m\u001b[49m\u001b[43m)\u001b[49m\n",
      "File \u001b[0;32m~/opt/anaconda3/lib/python3.9/site-packages/ipykernel/kernelbase.py:1219\u001b[0m, in \u001b[0;36mKernel._input_request\u001b[0;34m(self, prompt, ident, parent, password)\u001b[0m\n\u001b[1;32m   1216\u001b[0m             \u001b[38;5;28;01mbreak\u001b[39;00m\n\u001b[1;32m   1217\u001b[0m \u001b[38;5;28;01mexcept\u001b[39;00m \u001b[38;5;167;01mKeyboardInterrupt\u001b[39;00m:\n\u001b[1;32m   1218\u001b[0m     \u001b[38;5;66;03m# re-raise KeyboardInterrupt, to truncate traceback\u001b[39;00m\n\u001b[0;32m-> 1219\u001b[0m     \u001b[38;5;28;01mraise\u001b[39;00m \u001b[38;5;167;01mKeyboardInterrupt\u001b[39;00m(\u001b[38;5;124m\"\u001b[39m\u001b[38;5;124mInterrupted by user\u001b[39m\u001b[38;5;124m\"\u001b[39m) \u001b[38;5;28;01mfrom\u001b[39;00m \u001b[38;5;28mNone\u001b[39m\n\u001b[1;32m   1220\u001b[0m \u001b[38;5;28;01mexcept\u001b[39;00m \u001b[38;5;167;01mException\u001b[39;00m:\n\u001b[1;32m   1221\u001b[0m     \u001b[38;5;28mself\u001b[39m\u001b[38;5;241m.\u001b[39mlog\u001b[38;5;241m.\u001b[39mwarning(\u001b[38;5;124m\"\u001b[39m\u001b[38;5;124mInvalid Message:\u001b[39m\u001b[38;5;124m\"\u001b[39m, exc_info\u001b[38;5;241m=\u001b[39m\u001b[38;5;28;01mTrue\u001b[39;00m)\n",
      "\u001b[0;31mKeyboardInterrupt\u001b[0m: Interrupted by user"
     ]
    }
   ],
   "source": [
    "n, s = map(int, input().split())\n",
    "a = list(map(int, input().split()))\n",
    "CurSum = 0\n",
    "MaxLen = 0\n",
    "l = 0\n",
    "for r in range(n):\n",
    "    CurSum += a[r]\n",
    "    while (CurSum > s):\n",
    "        CurSum -= a[l]\n",
    "        l += 1\n",
    "    MaxLen = max(MaxLen, r - l + 1)\n",
    "print(MaxLen)"
   ]
  },
  {
   "cell_type": "code",
   "execution_count": null,
   "metadata": {},
   "outputs": [
    {
     "name": "stdout",
     "output_type": "stream",
     "text": [
      "5\n"
     ]
    }
   ],
   "source": [
    "n, s = map(int, input().split())\n",
    "a = list(map(int, input().split()))\n",
    "CurSum = 0\n",
    "LenSum = 0\n",
    "l = 0\n",
    "for r in range(n):\n",
    "    CurSum += a[r]\n",
    "    while (CurSum > s):\n",
    "        CurSum -= a[l]\n",
    "        l += 1\n",
    "    if CurSum <= s:\n",
    "        LenSum += 1\n",
    "    \n",
    "    \n",
    "print(LenSum)"
   ]
  },
  {
   "cell_type": "code",
   "execution_count": null,
   "metadata": {},
   "outputs": [
    {
     "name": "stdout",
     "output_type": "stream",
     "text": [
      "l = 0 r = 0\n",
      "2 1\n",
      "l = 0 r = 1\n",
      "4 3\n",
      "l = 0 r = 2\n",
      "4 6\n",
      "l = 0 r = 3\n",
      "l = 1 r = 3\n",
      "7 9\n",
      "l = 1 r = 4\n",
      "l = 2 r = 4\n",
      "l = 3 r = 4\n",
      "9 9\n",
      "l = 3 r = 5\n",
      "l = 4 r = 5\n",
      "11\n"
     ]
    }
   ],
   "source": [
    "n, s = map(int, input().split())\n",
    "a = list(map(int, input().split()))\n",
    "CurSum = 0\n",
    "LenSum = 0\n",
    "r = 0\n",
    "for l in range(n):\n",
    "    print('l =', l, 'r =', r)\n",
    "    while (r < n and CurSum <= s):\n",
    "        CurSum += a[r]\n",
    "        if CurSum <= s:\n",
    "            LenSum += r - l + 1\n",
    "        print(LenSum, CurSum)\n",
    "        r += 1\n",
    "        print('l =', l, 'r =', r)\n",
    "    \n",
    "    CurSum -= a[l]\n",
    "    \n",
    "    \n",
    "print(LenSum)"
   ]
  },
  {
   "cell_type": "markdown",
   "metadata": {},
   "source": [
    "**C. Город Че**"
   ]
  },
  {
   "cell_type": "code",
   "execution_count": null,
   "metadata": {},
   "outputs": [
    {
     "name": "stdout",
     "output_type": "stream",
     "text": [
      "6\n"
     ]
    }
   ],
   "source": [
    "n, s = map(int, input().split())\n",
    "a = list(map(int, input().split()))\n",
    "Count = 0\n",
    "CurDist = 0\n",
    "r = 0\n",
    "for l in range(n):\n",
    "    while (r < n and a[r] - a[l] <= s):\n",
    "        r += 1\n",
    "    if r < n:\n",
    "        if a[r] - a[l] > s:\n",
    "            Count += n - r\n",
    "    else:\n",
    "        if a[r - 1] - a[l] > s:\n",
    "            Count += n - r\n",
    "print(Count)"
   ]
  },
  {
   "cell_type": "code",
   "execution_count": null,
   "metadata": {},
   "outputs": [],
   "source": [
    "L = 0\n",
    "for R = 0..n-1\n",
    "    add(a[R])\n",
    "    while not good():\n",
    "        remove(a[L])\n",
    "        L++"
   ]
  },
  {
   "cell_type": "markdown",
   "metadata": {},
   "source": [
    "**A. Отрезок с небольшой суммой**\n",
    "\n",
    "Дан массив из 𝑛 чисел 𝑎𝑖. Скажем, что отрезок этого массива 𝑎[𝑙..𝑟] (1≤𝑙≤𝑟≤𝑛) хороший, если сумма чисел на этом отрезке не больше 𝑠. Ваша задача — найти самый длинный хороший отрезок"
   ]
  },
  {
   "cell_type": "code",
   "execution_count": null,
   "metadata": {},
   "outputs": [
    {
     "name": "stdout",
     "output_type": "stream",
     "text": [
      "4\n"
     ]
    }
   ],
   "source": [
    "n, s = map(int, input().split())\n",
    "a = list(map(int, input().split()))\n",
    "CurSum = 0\n",
    "MaxLen = 0\n",
    "l = 0\n",
    "for r in range(n):\n",
    "    CurSum += a[r]\n",
    "    while CurSum > s:\n",
    "        CurSum -= a[l]\n",
    "        l += 1\n",
    "    MaxLen = max(MaxLen, r - l + 1)\n",
    "print(MaxLen)"
   ]
  },
  {
   "cell_type": "markdown",
   "metadata": {},
   "source": [
    "**B. Отрезок с большой суммой**\n",
    "\n",
    "Дан массив из 𝑛 чисел 𝑎𝑖. Скажем, что отрезок этого массива 𝑎[𝑙..𝑟] (1≤𝑙≤𝑟≤𝑛) хороший, если сумма чисел на этом отрезке не меньше 𝑠. Ваша задача — найти самый короткий хороший отрезок.\n",
    "\n",
    "Входные данные\n",
    "Первая строка содержит целые числа 𝑛 и 𝑠 (1≤𝑛≤105, 1≤𝑠≤1018). Вторая строка содержит числа 𝑎𝑖 (1≤𝑎𝑖≤109).\n",
    "\n",
    "Выходные данные\n",
    "Выведите одно число — длину самого короткого хорошего отрезка. Если таких отрезков нет, выведите −1."
   ]
  },
  {
   "cell_type": "code",
   "execution_count": null,
   "metadata": {},
   "outputs": [
    {
     "name": "stdout",
     "output_type": "stream",
     "text": [
      "-1\n"
     ]
    }
   ],
   "source": [
    "n, s = map(int, input().split())\n",
    "a = list(map(int, input().split()))\n",
    "CurSum = 0\n",
    "MinLen = n + 1\n",
    "l = 0\n",
    "for r in range(n):\n",
    "    CurSum += a[r]\n",
    "    while CurSum - a[l] >= s:\n",
    "        CurSum -= a[l]\n",
    "        l += 1\n",
    "    if CurSum >= s:\n",
    "        MinLen = min(MinLen, r - l + 1)\n",
    "print(MinLen) if MinLen < n + 1 else print(-1)"
   ]
  },
  {
   "cell_type": "markdown",
   "metadata": {},
   "source": [
    "**C. Число отрезков с небольшой суммой**\n",
    "\n",
    "Дан массив из 𝑛 чисел 𝑎𝑖. Скажем, что отрезок этого массива 𝑎[𝑙..𝑟] (1≤𝑙≤𝑟≤𝑛) хороший, если сумма чисел на этом отрезке не больше 𝑠. Ваша задача — найти число различных хороших отрезков."
   ]
  },
  {
   "cell_type": "code",
   "execution_count": null,
   "metadata": {},
   "outputs": [
    {
     "name": "stdout",
     "output_type": "stream",
     "text": [
      "19\n"
     ]
    }
   ],
   "source": [
    "n, s = map(int, input().split())\n",
    "a = list(map(int, input().split()))\n",
    "CurSum = 0\n",
    "LenSum = 0\n",
    "l = 0\n",
    "for r in range(n):\n",
    "    CurSum += a[r]\n",
    "    while CurSum > s:\n",
    "        CurSum -= a[l]\n",
    "        l += 1\n",
    "\n",
    "    LenSum += r - l + 1\n",
    "print(LenSum)"
   ]
  },
  {
   "cell_type": "markdown",
   "metadata": {},
   "source": [
    "**D. Число отрезков с большой суммой**\n",
    "\n",
    "Дан массив из 𝑛 чисел 𝑎𝑖. Скажем, что отрезок этого массива 𝑎[𝑙..𝑟] (1≤𝑙≤𝑟≤𝑛) хороший, если сумма чисел на этом отрезке не меньше 𝑠. Ваша задача — найти число различных хороших отрезков."
   ]
  },
  {
   "cell_type": "code",
   "execution_count": null,
   "metadata": {},
   "outputs": [
    {
     "name": "stdout",
     "output_type": "stream",
     "text": [
      "10\n"
     ]
    }
   ],
   "source": [
    "n, s = map(int, input().split())\n",
    "a = list(map(int, input().split()))\n",
    "prefix_sum = [0] * (n + 1)\n",
    "for i in range(n):\n",
    "    prefix_sum[i + 1] = a[i] + prefix_sum[i]\n",
    "LenSum = 0\n",
    "l = 0\n",
    "for r in range(n + 1):\n",
    "    while prefix_sum[r] - prefix_sum[l] >= s:\n",
    "        l += 1\n",
    "        LenSum += n + 1 - r\n",
    "print(LenSum)\n",
    "    "
   ]
  },
  {
   "cell_type": "markdown",
   "metadata": {},
   "source": [
    "**Нахождение количества пар чисел a[i] и a[j], для которых a[i] - a[j] <= s**"
   ]
  },
  {
   "cell_type": "code",
   "execution_count": null,
   "metadata": {},
   "outputs": [
    {
     "name": "stdout",
     "output_type": "stream",
     "text": [
      "1\n"
     ]
    }
   ],
   "source": [
    "n, s = map(int, input().split())\n",
    "a = list(map(int, input().split()))\n",
    "LenSum = 0\n",
    "l = 0\n",
    "for r in range(n):\n",
    "    while a[r] - a[l] >= s:\n",
    "        l += 1\n",
    "        LenSum += n - r\n",
    "print(LenSum)"
   ]
  },
  {
   "cell_type": "markdown",
   "metadata": {},
   "source": [
    "**Нахождение количества пар чисел a[i] и a[j], для которых a[i] + a[j] >= s**"
   ]
  },
  {
   "cell_type": "code",
   "execution_count": null,
   "metadata": {},
   "outputs": [
    {
     "name": "stdout",
     "output_type": "stream",
     "text": [
      "7\n"
     ]
    }
   ],
   "source": [
    "n, s = map(int, input().split())\n",
    "a = list(map(int, input().split()))\n",
    "LenSum = 0\n",
    "l = 0\n",
    "for r in range(n):\n",
    "    while l < r and a[r] + a[l] >= s:\n",
    "        l += 1\n",
    "        LenSum += n - r\n",
    "print(LenSum)"
   ]
  },
  {
   "cell_type": "markdown",
   "metadata": {},
   "source": []
  },
  {
   "cell_type": "code",
   "execution_count": null,
   "metadata": {},
   "outputs": [],
   "source": []
  },
  {
   "cell_type": "code",
   "execution_count": null,
   "metadata": {},
   "outputs": [
    {
     "data": {
      "text/plain": [
       "5"
      ]
     },
     "execution_count": 147,
     "metadata": {},
     "output_type": "execute_result"
    }
   ],
   "source": [
    "a = [1, 2, 3, 4, 5]\n",
    "prefix_sum = [0] * (n+1)\n",
    "for i in range(n):\n",
    "    prefix_sum[i + 1] = prefix_sum[i] + a[i]\n",
    "prefix_sum[3]-prefix_sum[1]"
   ]
  },
  {
   "cell_type": "code",
   "execution_count": null,
   "metadata": {},
   "outputs": [],
   "source": []
  },
  {
   "cell_type": "markdown",
   "metadata": {},
   "source": [
    "**844. Backspace String Compare**\n",
    "Easy\n",
    "\n",
    "Topics\n",
    "Companies\n",
    "Given two strings s and t, return true if they are equal when both are typed into empty text editors. '#' means a backspace character.\n",
    "\n",
    "Note that after backspacing an empty text, the text will continue empty."
   ]
  },
  {
   "cell_type": "code",
   "execution_count": null,
   "metadata": {},
   "outputs": [],
   "source": [
    "\n"
   ]
  },
  {
   "cell_type": "markdown",
   "metadata": {},
   "source": [
    "**E. Рюкзак на отрезке**\n",
    "Дан массив из 𝑛 предметов, для каждого известен его вес 𝑤𝑖 и стоимость 𝑐𝑖. Нужно выбрать отрезок этого массива, суммарный вес на котором не больше 𝑠, а суммарная стоимость — максимальна."
   ]
  },
  {
   "cell_type": "code",
   "execution_count": null,
   "metadata": {},
   "outputs": [
    {
     "name": "stdout",
     "output_type": "stream",
     "text": [
      "17\n"
     ]
    }
   ],
   "source": [
    "n, s = map(int, input().split())\n",
    "w = list(map(int, input().split()))\n",
    "c = list(map(int, input().split()))\n",
    "CurCost = 0\n",
    "CurWeight = 0\n",
    "MaxCost = 0\n",
    "l = 0\n",
    "for r in range(n):\n",
    "    CurCost += c[r]\n",
    "    CurWeight += w[r]\n",
    "    while CurWeight > s:\n",
    "        CurWeight -= w[l]\n",
    "        CurCost -= c[l]\n",
    "        l += 1\n",
    "    MaxCost = max(MaxCost, CurCost)\n",
    "print(MaxCost)"
   ]
  },
  {
   "cell_type": "markdown",
   "metadata": {},
   "source": [
    "**A. Зацикленный плейлист**\n",
    "https://codeforces.com/edu/course/2/lesson/9/3/practice/contest/307094/problem/A\n",
    "Миша слушает музыку на плеере, его плейлист состоит из n песен, которые играются в определенном порядке. После того, как закончится последняя песня, начинает играть первая. Каждая песня имеет свою характеристику — позитивность ai, заданную натуральным числом. После прослушивания i-й песни настроение Миши увеличивается на ai.\n",
    "\n",
    "Миша может начать прослушивание с любой из песен и прослушать подряд любое количество песен, при этом возможно некоторые песни он прослушает больше одного раза.\n",
    "\n",
    "Миша чувствует себя счастливым, если его настроение после прослушивания песен увеличилось хотя бы на p. Он хочет почувствовать себя счастливым, прослушав как можно меньше песен. Помогите ему выбрать песню, с которой следует начать прослушивание, и число песен, которые нужно прослушать, чтобы стать счастливым."
   ]
  },
  {
   "cell_type": "code",
   "execution_count": 200,
   "metadata": {},
   "outputs": [
    {
     "name": "stdout",
     "output_type": "stream",
     "text": [
      "2 1428571\n"
     ]
    }
   ],
   "source": [
    "n, s = map(int, input().split())\n",
    "a = list(map(int, input().split()))\n",
    "CurHap = 0\n",
    "StartPos = -1\n",
    "MinLen = -1\n",
    "Flag = False\n",
    "l = 0\n",
    "left = 0\n",
    "r = 0\n",
    "right = 0\n",
    "while not Flag:\n",
    "    CurHap += a[r]\n",
    "    while CurHap - a[l] >= s:\n",
    "        CurHap -= a[l]\n",
    "        l = (l + 1) % n\n",
    "        left += 1\n",
    "    if CurHap >= s:\n",
    "        if left > n:\n",
    "            Flag = True\n",
    "        if MinLen > right - left + 1 or MinLen == -1:\n",
    "            StartPos = l + 1\n",
    "            MinLen = right - left + 1\n",
    "    r = (r + 1) % n\n",
    "    right += 1\n",
    "print(StartPos, MinLen)"
   ]
  },
  {
   "cell_type": "code",
   "execution_count": null,
   "metadata": {},
   "outputs": [],
   "source": []
  }
 ],
 "metadata": {
  "kernelspec": {
   "display_name": "base",
   "language": "python",
   "name": "python3"
  },
  "language_info": {
   "codemirror_mode": {
    "name": "ipython",
    "version": 3
   },
   "file_extension": ".py",
   "mimetype": "text/x-python",
   "name": "python",
   "nbconvert_exporter": "python",
   "pygments_lexer": "ipython3",
   "version": "3.9.12"
  }
 },
 "nbformat": 4,
 "nbformat_minor": 2
}
