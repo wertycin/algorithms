{
 "cells": [
  {
   "cell_type": "code",
   "execution_count": 8,
   "metadata": {},
   "outputs": [
    {
     "name": "stdout",
     "output_type": "stream",
     "text": [
      " -8 -3 4 5 7 8 9\n"
     ]
    }
   ],
   "source": [
    "#-------------------------------------------------\n",
    "# Быстрая сортировка Хоара через рекурсию\n",
    "#-------------------------------------------------\n",
    "import random\n",
    "\n",
    "\n",
    "def quick_sort(a):\n",
    "    if len(a) > 1:\n",
    "        x = a[random.randint(0, len(a)-1)]      # случайное пороговое значение (для разделения на малые и большие)\n",
    "        low = [u for u in a if u < x]\n",
    "        eq = [u for u in a if u == x]\n",
    "        hi = [u for u in a if u > x]\n",
    "        a = quick_sort(low) + eq + quick_sort(hi)\n",
    "\n",
    "    return a\n",
    "\n",
    "\n",
    "a = [9, 5, -3, 4, 7, 8, -8]\n",
    "a = quick_sort(a)\n",
    "\n",
    "print(' '.join(str(num) for num in a))"
   ]
  },
  {
   "cell_type": "code",
   "execution_count": null,
   "metadata": {},
   "outputs": [],
   "source": []
  }
 ],
 "metadata": {
  "kernelspec": {
   "display_name": "base",
   "language": "python",
   "name": "python3"
  },
  "language_info": {
   "codemirror_mode": {
    "name": "ipython",
    "version": 3
   },
   "file_extension": ".py",
   "mimetype": "text/x-python",
   "name": "python",
   "nbconvert_exporter": "python",
   "pygments_lexer": "ipython3",
   "version": "3.9.12"
  }
 },
 "nbformat": 4,
 "nbformat_minor": 2
}
