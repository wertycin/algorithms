{
 "cells": [
  {
   "cell_type": "markdown",
   "metadata": {},
   "source": [
    "**A. Минимальный прямоугольник**"
   ]
  },
  {
   "cell_type": "code",
   "execution_count": 3,
   "metadata": {},
   "outputs": [
    {
     "name": "stdout",
     "output_type": "stream",
     "text": [
      "1 1 1 1\n"
     ]
    }
   ],
   "source": [
    "n = int(input())\n",
    "a, b = map(int, input().split())\n",
    "min_x, min_y = a, b\n",
    "max_x, max_y = a, b\n",
    "for _ in range(n - 1):\n",
    "    a, b = map(int, input().split())\n",
    "    min_x = min(min_x, a)\n",
    "    min_y = min(min_y, b)\n",
    "    max_x = max(max_x, a)\n",
    "    max_y = max(max_y, b)\n",
    "print(min_x, min_y, max_x, max_y)"
   ]
  },
  {
   "cell_type": "markdown",
   "metadata": {},
   "source": [
    "**B. Продавец рыбы**"
   ]
  },
  {
   "cell_type": "code",
   "execution_count": 4,
   "metadata": {},
   "outputs": [
    {
     "name": "stdout",
     "output_type": "stream",
     "text": [
      "[1, 1, 1, 1] [2, 3, 4, 5]\n"
     ]
    }
   ],
   "source": [
    "# n, k = map(int, input().split())\n",
    "# a = list(map(int, input().split()))\n",
    "# min_a = [a[0]] * (n-1)\n",
    "# max_a = [a[0]] * (n-1)\n",
    "# for i in range(k):\n",
    "#     min_a[0] = min(min_a[0], a[i])\n",
    "#     max_a[0] = max(max_a[0], a[i])\n",
    "# for i in range(1, n - k + 1):\n",
    "#     min_a[i] = min(min_a[i], a[k+i-1])\n",
    "#     max_a[i] = max(max_a[i], a[k+i-1])\n",
    "# print(min_a, max_a)"
   ]
  },
  {
   "cell_type": "markdown",
   "metadata": {},
   "source": [
    "**C. Петя, Маша и верёвочки**"
   ]
  },
  {
   "cell_type": "code",
   "execution_count": 20,
   "metadata": {},
   "outputs": [
    {
     "name": "stdout",
     "output_type": "stream",
     "text": [
      "12\n"
     ]
    }
   ],
   "source": [
    "n = int(input())\n",
    "a = list(map(int, input().split()))\n",
    "max_length = a[0]\n",
    "for l in a:\n",
    "    max_length = max(max_length, l)\n",
    "print(sum(a) if 2*max_length - sum(a) <= 0 else 2*max_length - sum(a))\n"
   ]
  },
  {
   "cell_type": "markdown",
   "metadata": {},
   "source": [
    "**D. Шахматная доска**"
   ]
  },
  {
   "cell_type": "code",
   "execution_count": 31,
   "metadata": {},
   "outputs": [
    {
     "name": "stdout",
     "output_type": "stream",
     "text": [
      "4\n"
     ]
    }
   ],
   "source": [
    "n = int(input())\n",
    "a = [[1] * 10 for i in range(10)]\n",
    "cells = [[0] * 2 for i in range(n)]\n",
    "for i in range(n):\n",
    "    cells[i][0], cells[i][1] = map(int, input().split())\n",
    "    a[cells[i][0]][cells[i][1]] = 0\n",
    "di = [-1, 1, 0, 0]\n",
    "dj = [0, 0, 1, -1]\n",
    "sum = 0\n",
    "for k in range(n):\n",
    "    for i, j in zip(di, dj):\n",
    "        sum += a[cells[k][0] + i][cells[k][1] + j]\n",
    "print(sum)"
   ]
  },
  {
   "cell_type": "markdown",
   "metadata": {},
   "source": [
    "**E. Амбициозная улитка**"
   ]
  },
  {
   "cell_type": "code",
   "execution_count": 37,
   "metadata": {},
   "outputs": [
    {
     "name": "stdout",
     "output_type": "stream",
     "text": [
      "10\n"
     ]
    }
   ],
   "source": [
    "n = int(input())\n",
    "moves = [0] * n\n",
    "days = [0] * n\n",
    "for i in range(n):\n",
    "    day, night = map(int, input().split())\n",
    "    moves[i] = day - night\n",
    "    days[i] = day\n",
    "max_height = 0\n",
    "for i in range(n):\n",
    "    if moves[i] > 0:\n",
    "        max_height += moves[i]\n",
    "        days[i] = - 1\n",
    "max_day = days[0]\n",
    "for day in days:\n",
    "    max_day = max(max_day, day)\n",
    "max_height += max_day\n",
    "print(max_height)"
   ]
  },
  {
   "cell_type": "markdown",
   "metadata": {},
   "source": [
    "**F. Колесо Фортуны**"
   ]
  },
  {
   "cell_type": "code",
   "execution_count": 62,
   "metadata": {},
   "outputs": [
    {
     "name": "stdout",
     "output_type": "stream",
     "text": [
      "5\n"
     ]
    }
   ],
   "source": [
    "n = int(input())\n",
    "prizes = list(map(int, input().split()))\n",
    "a_, b_, k = map(int, input().split())\n",
    "a = a_ // k\n",
    "b = b_ // k\n",
    "if a_ % k == 0: a = a - 1\n",
    "if a < 0: a += 1\n",
    "a = a % (n - 1)\n",
    "if b_ % k == 0: b = b - 1\n",
    "if b < 0: b += 1\n",
    "b = b % (n - 1)\n",
    "max_prize = prizes[a]\n",
    "for i in range(b - a + 1):\n",
    "    max_prize = max(max_prize, prizes[a + i])\n",
    "for i in range(b - a, -1, -1):\n",
    "    max_prize = max(max_prize, prizes[-a - i])\n",
    "print(max_prize)"
   ]
  },
  {
   "cell_type": "markdown",
   "metadata": {},
   "source": [
    "**J. Два прямоугольника**"
   ]
  },
  {
   "cell_type": "code",
   "execution_count": 1,
   "metadata": {},
   "outputs": [
    {
     "name": "stdout",
     "output_type": "stream",
     "text": [
      "[[0, 0, 1], [0, 1, 0], [1, 0, 0]] [1, 1, 1] [1, 1, 1]\n"
     ]
    }
   ],
   "source": [
    "m, n = map(int, input().split())\n",
    "a = [[0] * n for _ in range(m)]\n",
    "bi = []\n",
    "bj = []\n",
    "for i in range(m):\n",
    "    sym = input()\n",
    "    for j in range(n):\n",
    "        if sym[j] == \"#\":\n",
    "            a[i][j] = 1\n",
    "for i in range(m):\n",
    "    bi.append(sum(a[i]))\n",
    "for j in range(n):\n",
    "    bj.append(sum(a[:][j]))\n",
    "\n",
    "\n",
    "print(a, bi, bj)"
   ]
  },
  {
   "cell_type": "code",
   "execution_count": 70,
   "metadata": {},
   "outputs": [
    {
     "data": {
      "text/plain": [
       "[1, 2]"
      ]
     },
     "execution_count": 70,
     "metadata": {},
     "output_type": "execute_result"
    }
   ],
   "source": [
    "a = [[1, 2], [3, 4]]\n",
    "a[0]"
   ]
  },
  {
   "cell_type": "markdown",
   "metadata": {},
   "source": [
    "**G. Ни больше ни меньше**"
   ]
  },
  {
   "cell_type": "code",
   "execution_count": 18,
   "metadata": {},
   "outputs": [
    {
     "name": "stdout",
     "output_type": "stream",
     "text": [
      "3\n",
      "1 6 9\n"
     ]
    }
   ],
   "source": [
    "t = int(input())\n",
    "for _ in range(t):\n",
    "    n = int(input())\n",
    "    a = list(map(int, input().split()))\n",
    "    l_i = 0\n",
    "    now_min = n\n",
    "    ans = []\n",
    "    for i in range(n):\n",
    "        now_min = min(now_min, a[i])\n",
    "        if now_min < l_i + 1:\n",
    "            ans.append(l_i)\n",
    "            l_i = 1\n",
    "            now_min = a[i]\n",
    "        else:\n",
    "            l_i += 1\n",
    "    ans.append(l_i)\n",
    "    print(len(ans))\n",
    "    print(' '.join(map(str, ans)))\n"
   ]
  },
  {
   "cell_type": "markdown",
   "metadata": {},
   "source": [
    "**H. Наилучший запрет**"
   ]
  },
  {
   "cell_type": "code",
   "execution_count": 33,
   "metadata": {},
   "outputs": [
    {
     "name": "stdout",
     "output_type": "stream",
     "text": [
      "2 2\n"
     ]
    }
   ],
   "source": [
    "n, m = map(int, input().split())\n",
    "a = [[0] * m for _ in range(n)]\n",
    "for i in range(n):\n",
    "    a[i] = list(map(int, input().split()))\n",
    "ans = []\n",
    "def max_elem(a):\n",
    "    ans = -1\n",
    "    ans_i, ans_j = -1, -1\n",
    "    for i in range(len(a)):\n",
    "        for j in range(len(a[0])):\n",
    "            if ans < a[i][j]:\n",
    "                ans = a[i][j]\n",
    "                ans_i = i\n",
    "                ans_j = j\n",
    "    return ans, ans_i, ans_j\n",
    "max_1, max_1_i, max_1_j = max_elem(a)\n",
    "deleted_str = [row[:] for row in a]\n",
    "for i in range(m):\n",
    "    deleted_str[max_1_i][i] = 0\n",
    "deleted_col = [row[:] for row in a]\n",
    "for i in range(n):\n",
    "    deleted_col[i][max_1_j] = 0\n",
    "max_str, max_str_i, max_str_j = max_elem(deleted_str)\n",
    "max_col, max_col_i, max_col_j = max_elem(deleted_col)\n",
    "for i in range(n):\n",
    "    deleted_str[i][max_str_j] = 0\n",
    "for i in range(m):\n",
    "    deleted_col[max_col_i][i] = 0\n",
    "ans_str, ans_str_i, ans_str_j = max_elem(deleted_str)\n",
    "ans_col, ans_col_i, ans_col_j = max_elem(deleted_col)\n",
    "if ans_str < ans_col:\n",
    "    print(max_1_i + 1, max_str_j + 1)\n",
    "else:\n",
    "    print(max_col_i + 1, max_1_j + 1)"
   ]
  },
  {
   "cell_type": "code",
   "execution_count": 31,
   "metadata": {},
   "outputs": [
    {
     "name": "stdout",
     "output_type": "stream",
     "text": [
      "[[1, 2], [3, 4]] [[0, 2], [3, 4]]\n"
     ]
    }
   ],
   "source": [
    "a = [[1, 2], [3, 4]]\n",
    "b = [row[:] for row in a]\n",
    "b[0][0] = 0\n",
    "print(a, b)"
   ]
  },
  {
   "cell_type": "code",
   "execution_count": null,
   "metadata": {},
   "outputs": [],
   "source": []
  }
 ],
 "metadata": {
  "kernelspec": {
   "display_name": "base",
   "language": "python",
   "name": "python3"
  },
  "language_info": {
   "codemirror_mode": {
    "name": "ipython",
    "version": 3
   },
   "file_extension": ".py",
   "mimetype": "text/x-python",
   "name": "python",
   "nbconvert_exporter": "python",
   "pygments_lexer": "ipython3",
   "version": "3.9.12"
  }
 },
 "nbformat": 4,
 "nbformat_minor": 2
}
